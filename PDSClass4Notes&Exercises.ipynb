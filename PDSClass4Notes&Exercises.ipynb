{
 "cells": [
  {
   "cell_type": "markdown",
   "id": "24b98369-c7ba-450b-a8b5-e34319000695",
   "metadata": {
    "slideshow": {
     "slide_type": "slide"
    },
    "tags": []
   },
   "source": [
    "# Python for Data Science\n",
    "## Session 4 \n",
    "### Basic Libraries I"
   ]
  },
  {
   "cell_type": "markdown",
   "id": "3ace1343-d73d-466d-aa07-56febbb7cbf1",
   "metadata": {
    "slideshow": {
     "slide_type": "skip"
    },
    "tags": []
   },
   "source": [
    "---"
   ]
  },
  {
   "cell_type": "markdown",
   "id": "c5ffee69-5d4d-4f1c-9ed7-083afbc931ec",
   "metadata": {
    "slideshow": {
     "slide_type": "slide"
    },
    "tags": []
   },
   "source": [
    "## Outline\n",
    "\n",
    "1. Numpy for numerical operations\n",
    "\n",
    "2. Scipy for scientific computing\n",
    "\n",
    "3. Math, os, glob, shutil "
   ]
  },
  {
   "cell_type": "markdown",
   "id": "aba315f4-e9bf-4a66-b3d3-593037c3ca70",
   "metadata": {
    "slideshow": {
     "slide_type": "skip"
    },
    "tags": []
   },
   "source": [
    "---"
   ]
  },
  {
   "cell_type": "markdown",
   "id": "8ed45dcb-2cf5-4bfa-ba6e-5da25c59757c",
   "metadata": {
    "slideshow": {
     "slide_type": "slide"
    },
    "tags": []
   },
   "source": [
    "## Basic Libraries I\n",
    " \n",
    "Numpy provides a multidimensional array **object** and various methods for fast operations on arrays (arrays and matrices). These operations include mathematical, logical, shape manipulation, sorting, selecting, I/O, discrete Fourier transforms, basic linear algebra, basic statistical operations, random simulation and much more.\n",
    "\n",
    "In this session, we will learn some of the most common ones.\n",
    "\n"
   ]
  },
  {
   "cell_type": "code",
   "execution_count": 1,
   "id": "0a4f5fd5",
   "metadata": {
    "slideshow": {
     "slide_type": "subslide"
    },
    "tags": []
   },
   "outputs": [],
   "source": [
    "# To import a library we just need to use\n",
    "import numpy as np\n",
    "\n",
    "# TIP: Take a look at the references from the libraries you are using. Sometimes there are already-built methods that can save you lines and lines of code... Here the numpy as an example: https://numpy.org/doc/stable/reference/index.html"
   ]
  },
  {
   "cell_type": "code",
   "execution_count": 2,
   "id": "db57c401",
   "metadata": {
    "slideshow": {
     "slide_type": "fragment"
    }
   },
   "outputs": [
    {
     "data": {
      "text/plain": [
       "array([-1,  2,  0,  6,  4])"
      ]
     },
     "execution_count": 2,
     "metadata": {},
     "output_type": "execute_result"
    }
   ],
   "source": [
    "# To create a simple array, we can use a list to instantiate an object\n",
    "ar = np.array([-1, 2, 0, 6, 4])\n",
    "ar "
   ]
  },
  {
   "cell_type": "code",
   "execution_count": 3,
   "id": "f8c546aa",
   "metadata": {
    "slideshow": {
     "slide_type": "fragment"
    }
   },
   "outputs": [
    {
     "name": "stdout",
     "output_type": "stream",
     "text": [
      "This is the last number of the array: 4\n"
     ]
    }
   ],
   "source": [
    "# Similar to list, we can access any of elements in the array\n",
    "print(f\"This is the last number of the array: {ar[-1]}\") "
   ]
  },
  {
   "cell_type": "code",
   "execution_count": 4,
   "id": "a0d5db58",
   "metadata": {
    "slideshow": {
     "slide_type": "fragment"
    }
   },
   "outputs": [
    {
     "name": "stdout",
     "output_type": "stream",
     "text": [
      "These are the first three elements of the array: [-1  2  0]\n"
     ]
    }
   ],
   "source": [
    "# We can also slice them\n",
    "print(f\"These are the first three elements of the array: {ar[:3]}\")"
   ]
  },
  {
   "cell_type": "code",
   "execution_count": 5,
   "id": "c89a8e48",
   "metadata": {
    "slideshow": {
     "slide_type": "fragment"
    }
   },
   "outputs": [
    {
     "name": "stdout",
     "output_type": "stream",
     "text": [
      "This is a subarray formed by indices 2, 4 and 0: [ 0  4 -1]\n"
     ]
    }
   ],
   "source": [
    "# One thing, array can do, but list cannot is provide a subset of indices\n",
    "print(f\"This is a subarray formed by indices 2, 4 and 0: {ar[[2,4,0]]}\")"
   ]
  },
  {
   "cell_type": "code",
   "execution_count": 6,
   "id": "e01eca8b",
   "metadata": {
    "slideshow": {
     "slide_type": "fragment"
    }
   },
   "outputs": [
    {
     "name": "stdout",
     "output_type": "stream",
     "text": [
      "This is a sublist formed by indices 2, 4 and 0: [0, 4, -1]\n"
     ]
    }
   ],
   "source": [
    "# If we try it with a list...\n",
    "# l = [-1, 2, 0, 6, 4]\n",
    "# print(f\"This is a sublist formed by indices 2, 4 and 0: {l[[2,4,0]]}\")\n",
    "# If we try it with a list...\n",
    "l = [-1, 2, 0, 6, 4]\n",
    "indices = [2, 4, 0]\n",
    "sublist = [l[i] for i in indices]\n",
    "print(f\"This is a sublist formed by indices 2, 4 and 0: {sublist}\")"
   ]
  },
  {
   "cell_type": "markdown",
   "id": "00b01ced-eda7-423f-8522-96bd3f1a4125",
   "metadata": {
    "slideshow": {
     "slide_type": "skip"
    },
    "tags": []
   },
   "source": [
    "---"
   ]
  },
  {
   "cell_type": "markdown",
   "id": "9434c993-aac1-4655-bf69-477b9dc5d2ee",
   "metadata": {
    "slideshow": {
     "slide_type": "slide"
    },
    "tags": []
   },
   "source": [
    "## Basic Libraries I\n",
    "\n",
    "We can perform multiple mathematical operations over arrays. Some of them are similar to the built-in ones we have for lists.\n"
   ]
  },
  {
   "cell_type": "code",
   "execution_count": 7,
   "id": "8e4a9f37",
   "metadata": {
    "slideshow": {
     "slide_type": "subslide"
    }
   },
   "outputs": [],
   "source": [
    "# let's create two vectors\n",
    "u = np.array([1,2,3,4])\n",
    "v = np.array([4,3,1,2])"
   ]
  },
  {
   "cell_type": "code",
   "execution_count": 8,
   "id": "2bcdc200",
   "metadata": {
    "slideshow": {
     "slide_type": "fragment"
    }
   },
   "outputs": [
    {
     "data": {
      "text/plain": [
       "array([5, 5, 4, 6])"
      ]
     },
     "execution_count": 8,
     "metadata": {},
     "output_type": "execute_result"
    }
   ],
   "source": [
    "# Sum or substract two vectors element by element\n",
    "u + v # equivalent to np.sum([u,v])"
   ]
  },
  {
   "cell_type": "code",
   "execution_count": 9,
   "id": "2b983bad",
   "metadata": {
    "slideshow": {
     "slide_type": "fragment"
    }
   },
   "outputs": [
    {
     "data": {
      "text/plain": [
       "array([-3, -1,  2,  2])"
      ]
     },
     "execution_count": 9,
     "metadata": {},
     "output_type": "execute_result"
    }
   ],
   "source": [
    "u - v"
   ]
  },
  {
   "cell_type": "code",
   "execution_count": 10,
   "id": "404b7cc9",
   "metadata": {
    "slideshow": {
     "slide_type": "fragment"
    }
   },
   "outputs": [
    {
     "data": {
      "text/plain": [
       "array([0.25      , 0.66666667, 3.        , 2.        ])"
      ]
     },
     "execution_count": 10,
     "metadata": {},
     "output_type": "execute_result"
    }
   ],
   "source": [
    "# multiplying or dividing them\n",
    "u / v"
   ]
  },
  {
   "cell_type": "code",
   "execution_count": 11,
   "id": "10d71d95",
   "metadata": {
    "slideshow": {
     "slide_type": "fragment"
    }
   },
   "outputs": [
    {
     "data": {
      "text/plain": [
       "array([4, 6, 3, 8])"
      ]
     },
     "execution_count": 11,
     "metadata": {},
     "output_type": "execute_result"
    }
   ],
   "source": [
    "u * v"
   ]
  },
  {
   "cell_type": "code",
   "execution_count": 12,
   "id": "3b895e82",
   "metadata": {
    "slideshow": {
     "slide_type": "fragment"
    }
   },
   "outputs": [
    {
     "data": {
      "text/plain": [
       "array([ 1,  4,  9, 16])"
      ]
     },
     "execution_count": 12,
     "metadata": {},
     "output_type": "execute_result"
    }
   ],
   "source": [
    "# Power or sqrt\n",
    "np.pow(u, 2) # equivalent to u ** 2"
   ]
  },
  {
   "cell_type": "code",
   "execution_count": 13,
   "id": "bc7eb136",
   "metadata": {
    "slideshow": {
     "slide_type": "fragment"
    }
   },
   "outputs": [
    {
     "data": {
      "text/plain": [
       "array([1.        , 1.41421356, 1.73205081, 2.        ])"
      ]
     },
     "execution_count": 13,
     "metadata": {},
     "output_type": "execute_result"
    }
   ],
   "source": [
    "np.sqrt(u)"
   ]
  },
  {
   "cell_type": "code",
   "execution_count": 14,
   "id": "1bad2672",
   "metadata": {
    "slideshow": {
     "slide_type": "fragment"
    }
   },
   "outputs": [
    {
     "data": {
      "text/plain": [
       "np.int64(21)"
      ]
     },
     "execution_count": 14,
     "metadata": {},
     "output_type": "execute_result"
    }
   ],
   "source": [
    "# dot product\n",
    "np.dot(u, v) # equivalent to np.sum(u*v)"
   ]
  },
  {
   "cell_type": "code",
   "execution_count": 15,
   "id": "4cb733e2",
   "metadata": {
    "slideshow": {
     "slide_type": "fragment"
    }
   },
   "outputs": [
    {
     "data": {
      "text/plain": [
       "np.float64(2.5)"
      ]
     },
     "execution_count": 15,
     "metadata": {},
     "output_type": "execute_result"
    }
   ],
   "source": [
    "# mean, median, std\n",
    "np.mean(u)"
   ]
  },
  {
   "cell_type": "code",
   "execution_count": 16,
   "id": "ca0147f5",
   "metadata": {
    "slideshow": {
     "slide_type": "fragment"
    }
   },
   "outputs": [
    {
     "data": {
      "text/plain": [
       "np.float64(2.5)"
      ]
     },
     "execution_count": 16,
     "metadata": {},
     "output_type": "execute_result"
    }
   ],
   "source": [
    "np.median(u)"
   ]
  },
  {
   "cell_type": "markdown",
   "id": "78aaa8dc",
   "metadata": {
    "slideshow": {
     "slide_type": "slide"
    }
   },
   "source": [
    "## Basic Libraries I\n",
    "\n",
    "Regarding changing ordering or sorting we have multiple options. "
   ]
  },
  {
   "cell_type": "code",
   "execution_count": 17,
   "id": "cab8bb34",
   "metadata": {
    "slideshow": {
     "slide_type": "subslide"
    }
   },
   "outputs": [],
   "source": [
    "a = np.array([3, 0, 1, 4, 8])"
   ]
  },
  {
   "cell_type": "code",
   "execution_count": 18,
   "id": "a71e27f9",
   "metadata": {
    "slideshow": {
     "slide_type": "fragment"
    }
   },
   "outputs": [
    {
     "data": {
      "text/plain": [
       "array([0, 1, 3, 4, 8])"
      ]
     },
     "execution_count": 18,
     "metadata": {},
     "output_type": "execute_result"
    }
   ],
   "source": [
    "# We simply need to run\n",
    "np.sort(a)"
   ]
  },
  {
   "cell_type": "code",
   "execution_count": 19,
   "id": "a61321fd",
   "metadata": {
    "slideshow": {
     "slide_type": "fragment"
    }
   },
   "outputs": [
    {
     "data": {
      "text/plain": [
       "array([8, 4, 1, 0, 3])"
      ]
     },
     "execution_count": 19,
     "metadata": {},
     "output_type": "execute_result"
    }
   ],
   "source": [
    "# Same as the list, we can invert the original order by simply\n",
    "a[::-1]"
   ]
  },
  {
   "cell_type": "code",
   "execution_count": 20,
   "id": "50c99518",
   "metadata": {
    "slideshow": {
     "slide_type": "fragment"
    }
   },
   "outputs": [
    {
     "data": {
      "text/plain": [
       "array([0, 1, 3, 4, 8])"
      ]
     },
     "execution_count": 20,
     "metadata": {},
     "output_type": "execute_result"
    }
   ],
   "source": [
    "# You can also select the type of algorithm to sort an array\n",
    "np.sort(a, kind='quicksort') # mergesort, heapsort"
   ]
  },
  {
   "cell_type": "code",
   "execution_count": 21,
   "id": "48b1cb1c",
   "metadata": {
    "slideshow": {
     "slide_type": "fragment"
    }
   },
   "outputs": [
    {
     "data": {
      "text/plain": [
       "array([(b'Jaume', 2023, 9.4), (b'James', 2021, 9.1),\n",
       "       (b'Marta', 2021, 8.3)],\n",
       "      dtype=[('name', 'S10'), ('year', '<i8'), ('grade', '<f8')])"
      ]
     },
     "execution_count": 21,
     "metadata": {},
     "output_type": "execute_result"
    }
   ],
   "source": [
    "# Another interesting thing we can have with sort is to order based on different fields\n",
    "values = [('Jaume', 2023, 9.4), ('James', 2021, 9.1), ('Marta', 2021, 8.3)]\n",
    "dtype = [('name', 'S10'), ('year', int), ('grade', float)]\n",
    "\n",
    "a = np.array(values, dtype=dtype)\n",
    "a"
   ]
  },
  {
   "cell_type": "code",
   "execution_count": 22,
   "id": "024357af",
   "metadata": {
    "slideshow": {
     "slide_type": "fragment"
    }
   },
   "outputs": [
    {
     "data": {
      "text/plain": [
       "array([(b'Marta', 2021, 8.3), (b'James', 2021, 9.1),\n",
       "       (b'Jaume', 2023, 9.4)],\n",
       "      dtype=[('name', 'S10'), ('year', '<i8'), ('grade', '<f8')])"
      ]
     },
     "execution_count": 22,
     "metadata": {},
     "output_type": "execute_result"
    }
   ],
   "source": [
    "# Sorting by grade\n",
    "np.sort(a, order='grade')"
   ]
  },
  {
   "cell_type": "code",
   "execution_count": 23,
   "id": "d5d4130e",
   "metadata": {
    "slideshow": {
     "slide_type": "fragment"
    }
   },
   "outputs": [
    {
     "data": {
      "text/plain": [
       "array([(b'Marta', 2021, 8.3), (b'James', 2021, 9.1),\n",
       "       (b'Jaume', 2023, 9.4)],\n",
       "      dtype=[('name', 'S10'), ('year', '<i8'), ('grade', '<f8')])"
      ]
     },
     "execution_count": 23,
     "metadata": {},
     "output_type": "execute_result"
    }
   ],
   "source": [
    "# Sorting first by year, and when they have the same year, doing it by grade\n",
    "np.sort(a, order=['year', 'grade'])"
   ]
  },
  {
   "cell_type": "code",
   "execution_count": 24,
   "id": "d7a7f9cf",
   "metadata": {
    "slideshow": {
     "slide_type": "fragment"
    }
   },
   "outputs": [
    {
     "data": {
      "text/plain": [
       "array([(b'James', 2021, 9.1), (b'Marta', 2021, 8.3),\n",
       "       (b'Jaume', 2023, 9.4)],\n",
       "      dtype=[('name', 'S10'), ('year', '<i8'), ('grade', '<f8')])"
      ]
     },
     "execution_count": 24,
     "metadata": {},
     "output_type": "execute_result"
    }
   ],
   "source": [
    "np.sort(a, order=['year'])"
   ]
  },
  {
   "cell_type": "code",
   "execution_count": 25,
   "id": "5edafb6f",
   "metadata": {
    "slideshow": {
     "slide_type": "fragment"
    }
   },
   "outputs": [
    {
     "data": {
      "text/plain": [
       "array([1, 0, 3, 2])"
      ]
     },
     "execution_count": 25,
     "metadata": {},
     "output_type": "execute_result"
    }
   ],
   "source": [
    "# the same way you sort, you can get the original indices sorted instead of the sorted array\n",
    "a = np.array([3, 1, 6, 5])\n",
    "np.argsort(a)"
   ]
  },
  {
   "cell_type": "code",
   "execution_count": 26,
   "id": "6ae9fd50",
   "metadata": {
    "slideshow": {
     "slide_type": "fragment"
    }
   },
   "outputs": [
    {
     "data": {
      "text/plain": [
       "array([1, 2, 5, 6, 9])"
      ]
     },
     "execution_count": 26,
     "metadata": {},
     "output_type": "execute_result"
    }
   ],
   "source": [
    "# there is also a cool method called, unique, it gives you all the unique elements in a list/array\n",
    "a = np.array([1, 1, 1, 2, 5, 6, 5, 9])\n",
    "np.unique(a)"
   ]
  },
  {
   "cell_type": "markdown",
   "id": "306a3b2e",
   "metadata": {
    "slideshow": {
     "slide_type": "slide"
    }
   },
   "source": [
    "## Basic Libraries I\n",
    "\n",
    "Selecting random elements from a list can be also performed from numpy."
   ]
  },
  {
   "cell_type": "code",
   "execution_count": 27,
   "id": "0008482c",
   "metadata": {
    "slideshow": {
     "slide_type": "subslide"
    }
   },
   "outputs": [
    {
     "data": {
      "text/plain": [
       "4"
      ]
     },
     "execution_count": 27,
     "metadata": {},
     "output_type": "execute_result"
    }
   ],
   "source": [
    "# Randomly create integer numbers ranging from 0 to 9\n",
    "a = np.random.randint(0, 10)\n",
    "a"
   ]
  },
  {
   "cell_type": "code",
   "execution_count": 28,
   "id": "0cf8be99",
   "metadata": {
    "slideshow": {
     "slide_type": "fragment"
    }
   },
   "outputs": [
    {
     "data": {
      "text/plain": [
       "array([ 1.80149372,  0.3526699 , -0.23811193, -1.82403495, -0.41898311,\n",
       "       -0.07556842, -0.39453083,  1.74481628, -1.4225915 , -2.06921267])"
      ]
     },
     "execution_count": 28,
     "metadata": {},
     "output_type": "execute_result"
    }
   ],
   "source": [
    "# Randomly creating an array of 10 floats from a normal distribution, mean 0 and std 1\n",
    "a = np.random.randn(10)\n",
    "a"
   ]
  },
  {
   "cell_type": "code",
   "execution_count": 29,
   "id": "d2047bf8",
   "metadata": {
    "slideshow": {
     "slide_type": "fragment"
    }
   },
   "outputs": [
    {
     "data": {
      "text/plain": [
       "np.str_('0.4')"
      ]
     },
     "execution_count": 29,
     "metadata": {},
     "output_type": "execute_result"
    }
   ],
   "source": [
    "# Randomly selecting a value in a list/array (using uniform distribution)\n",
    "np.random.choice(['a', 1, 'b', 0.4])"
   ]
  },
  {
   "cell_type": "code",
   "execution_count": 30,
   "id": "70c2be2a",
   "metadata": {
    "slideshow": {
     "slide_type": "fragment"
    }
   },
   "outputs": [
    {
     "data": {
      "text/plain": [
       "array([0.69973871, 0.00238087, 0.17357332, 0.08726207, 0.4260773 ,\n",
       "       0.96974125, 0.32670331, 0.66673983, 0.23472656, 0.60885381])"
      ]
     },
     "execution_count": 30,
     "metadata": {},
     "output_type": "execute_result"
    }
   ],
   "source": [
    "# Randomly generating numbers using a uniform distribution over the interval [0, 1]\n",
    "np.random.rand(10)"
   ]
  },
  {
   "cell_type": "code",
   "execution_count": 31,
   "id": "58c83575",
   "metadata": {
    "slideshow": {
     "slide_type": "fragment"
    }
   },
   "outputs": [
    {
     "data": {
      "text/plain": [
       "array([-1,  3,  2, 23])"
      ]
     },
     "execution_count": 31,
     "metadata": {},
     "output_type": "execute_result"
    }
   ],
   "source": [
    "# Create a random permutation from a list/array; a mathematical calculation of the number of ways a particular set can be arranged. \n",
    "np.random.permutation([23, 3, 2, -1])"
   ]
  },
  {
   "cell_type": "code",
   "execution_count": 32,
   "id": "917101b6",
   "metadata": {
    "slideshow": {
     "slide_type": "fragment"
    }
   },
   "outputs": [
    {
     "data": {
      "text/plain": [
       "np.int64(-34)"
      ]
     },
     "execution_count": 32,
     "metadata": {},
     "output_type": "execute_result"
    }
   ],
   "source": [
    "# Important, how to reproduce your results over and over\n",
    "np.random.seed(123) # we can also pass a str, float that gets transformed into a fixed-size integer\n",
    "np.random.choice([23, 3, 2, -1, 31, 6, -34, 0]) # like making a code and then that code always stores the same random value"
   ]
  },
  {
   "cell_type": "markdown",
   "id": "0729e167",
   "metadata": {
    "slideshow": {
     "slide_type": "slide"
    }
   },
   "source": [
    "## Basic Libraries I\n",
    "\n",
    "Other useful operations consist in modifying the shape and stack or concatenate elements.You can also created new arrays with buit-in methods such as **ones**, **zeros**, **ones_like**, **zeros_like**, and even define their type, **astype**."
   ]
  },
  {
   "cell_type": "code",
   "execution_count": 33,
   "id": "7ed2a26e",
   "metadata": {
    "slideshow": {
     "slide_type": "subslide"
    }
   },
   "outputs": [],
   "source": [
    "a = np.array([1,2,3,4])\n",
    "b = np.array([5,6,7,8])"
   ]
  },
  {
   "cell_type": "code",
   "execution_count": 34,
   "id": "e6e98db8",
   "metadata": {
    "slideshow": {
     "slide_type": "fragment"
    }
   },
   "outputs": [
    {
     "data": {
      "text/plain": [
       "array([1, 2, 3, 4, 5, 6, 7, 8])"
      ]
     },
     "execution_count": 34,
     "metadata": {},
     "output_type": "execute_result"
    }
   ],
   "source": [
    "np.concatenate([a,b]) # combine two or more arrays along a specified axis. "
   ]
  },
  {
   "cell_type": "code",
   "execution_count": 35,
   "id": "43a2aa55",
   "metadata": {
    "slideshow": {
     "slide_type": "fragment"
    }
   },
   "outputs": [
    {
     "data": {
      "text/plain": [
       "array([[1, 2, 3, 4],\n",
       "       [5, 6, 7, 8]])"
      ]
     },
     "execution_count": 35,
     "metadata": {},
     "output_type": "execute_result"
    }
   ],
   "source": [
    "c = np.stack([a,b])\n",
    "c"
   ]
  },
  {
   "cell_type": "code",
   "execution_count": 36,
   "id": "a38930a4",
   "metadata": {
    "slideshow": {
     "slide_type": "fragment"
    }
   },
   "outputs": [
    {
     "data": {
      "text/plain": [
       "array([[1, 2, 3, 4, 5, 6, 7, 8]])"
      ]
     },
     "execution_count": 36,
     "metadata": {},
     "output_type": "execute_result"
    }
   ],
   "source": [
    "np.reshape(c, (1, 8))"
   ]
  },
  {
   "cell_type": "code",
   "execution_count": 37,
   "id": "634dfbda",
   "metadata": {
    "slideshow": {
     "slide_type": "fragment"
    }
   },
   "outputs": [
    {
     "data": {
      "text/plain": [
       "array([1, 2, 3, 4, 5, 6, 7, 8])"
      ]
     },
     "execution_count": 37,
     "metadata": {},
     "output_type": "execute_result"
    }
   ],
   "source": [
    "c.flatten()"
   ]
  },
  {
   "cell_type": "code",
   "execution_count": 38,
   "id": "ca8570f6",
   "metadata": {
    "slideshow": {
     "slide_type": "fragment"
    }
   },
   "outputs": [
    {
     "data": {
      "text/plain": [
       "array([[1, 5],\n",
       "       [2, 6],\n",
       "       [3, 7],\n",
       "       [4, 8]])"
      ]
     },
     "execution_count": 38,
     "metadata": {},
     "output_type": "execute_result"
    }
   ],
   "source": [
    "c.swapaxes(0,1) # swapping the axes"
   ]
  },
  {
   "cell_type": "code",
   "execution_count": 39,
   "id": "f95a426a",
   "metadata": {
    "slideshow": {
     "slide_type": "fragment"
    }
   },
   "outputs": [
    {
     "data": {
      "text/plain": [
       "array([[1, 5],\n",
       "       [2, 6],\n",
       "       [3, 7],\n",
       "       [4, 8]])"
      ]
     },
     "execution_count": 39,
     "metadata": {},
     "output_type": "execute_result"
    }
   ],
   "source": [
    "c.transpose(1,0) # tranposing multiple axes at the same time"
   ]
  },
  {
   "cell_type": "code",
   "execution_count": 40,
   "id": "89932ad8-bf35-40c1-a4e5-32eb87f70184",
   "metadata": {
    "slideshow": {
     "slide_type": "fragment"
    }
   },
   "outputs": [
    {
     "data": {
      "text/plain": [
       "array([1., 1., 1., 1.])"
      ]
     },
     "execution_count": 40,
     "metadata": {},
     "output_type": "execute_result"
    }
   ],
   "source": [
    "ones = np.ones(4) # you can also create given a size new arrays with\n",
    "ones"
   ]
  },
  {
   "cell_type": "code",
   "execution_count": 41,
   "id": "2bf65e57",
   "metadata": {
    "slideshow": {
     "slide_type": "fragment"
    }
   },
   "outputs": [
    {
     "data": {
      "text/plain": [
       "array([0, 0, 0, 0], dtype=uint8)"
      ]
     },
     "execution_count": 41,
     "metadata": {},
     "output_type": "execute_result"
    }
   ],
   "source": [
    "zeros = np.zeros_like(ones).astype('uint8') # you can do it with other types, e.g. float, uint16...\n",
    "zeros"
   ]
  },
  {
   "cell_type": "markdown",
   "id": "10dd5f6d",
   "metadata": {
    "slideshow": {
     "slide_type": "slide"
    }
   },
   "source": [
    "## Basic Libraries I\n",
    "\n",
    "Logic operations are often used when handling arrays or matrices. These are some practical examples."
   ]
  },
  {
   "cell_type": "code",
   "execution_count": 42,
   "id": "5916dcc0",
   "metadata": {
    "slideshow": {
     "slide_type": "subslide"
    }
   },
   "outputs": [],
   "source": [
    "# We can work with integers to create logical arrays\n",
    "u = np.array([0, 1, 0, 1, 1]) # equivalent to u = [False, True, False, True , True]\n",
    "v = np.array([1, 0, 0, 1, 0]) # you can also transform them to booleans np.bool(u)"
   ]
  },
  {
   "cell_type": "code",
   "execution_count": 43,
   "id": "f8d90874",
   "metadata": {
    "slideshow": {
     "slide_type": "fragment"
    }
   },
   "outputs": [
    {
     "data": {
      "text/plain": [
       "array([False, False, False,  True, False])"
      ]
     },
     "execution_count": 43,
     "metadata": {},
     "output_type": "execute_result"
    }
   ],
   "source": [
    "np.logical_and(u, v) # It returns True for each position where both u[i] and v[i] are True; otherwise, it returns False."
   ]
  },
  {
   "cell_type": "code",
   "execution_count": 44,
   "id": "63e4cca3",
   "metadata": {
    "slideshow": {
     "slide_type": "fragment"
    }
   },
   "outputs": [
    {
     "data": {
      "text/plain": [
       "array([ True,  True, False,  True,  True])"
      ]
     },
     "execution_count": 44,
     "metadata": {},
     "output_type": "execute_result"
    }
   ],
   "source": [
    "np.logical_or(u, v) #either"
   ]
  },
  {
   "cell_type": "code",
   "execution_count": 45,
   "id": "63b67698",
   "metadata": {
    "slideshow": {
     "slide_type": "fragment"
    }
   },
   "outputs": [
    {
     "data": {
      "text/plain": [
       "array([ True, False,  True, False, False])"
      ]
     },
     "execution_count": 45,
     "metadata": {},
     "output_type": "execute_result"
    }
   ],
   "source": [
    "np.logical_not(u) #np.logical_not(u) returns True for each element in u that is False, and False for each element that is True."
   ]
  },
  {
   "cell_type": "markdown",
   "id": "8f534c84",
   "metadata": {
    "slideshow": {
     "slide_type": "slide"
    }
   },
   "source": [
    "## Basic Libraries I\n",
    "\n",
    "Numpy also provides methods to save and load numpy objects efficiently."
   ]
  },
  {
   "cell_type": "code",
   "execution_count": 46,
   "id": "c54ec08e",
   "metadata": {
    "slideshow": {
     "slide_type": "subslide"
    }
   },
   "outputs": [],
   "source": [
    "a = np.array([0, 10, 14, 17, 19])"
   ]
  },
  {
   "cell_type": "code",
   "execution_count": 47,
   "id": "8f63af17",
   "metadata": {
    "slideshow": {
     "slide_type": "fragment"
    }
   },
   "outputs": [],
   "source": [
    "np.save(\"session_4_array.npy\", a)"
   ]
  },
  {
   "cell_type": "code",
   "execution_count": 48,
   "id": "e1f03310",
   "metadata": {
    "slideshow": {
     "slide_type": "fragment"
    }
   },
   "outputs": [
    {
     "data": {
      "text/plain": [
       "array([ 0, 10, 14, 17, 19])"
      ]
     },
     "execution_count": 48,
     "metadata": {},
     "output_type": "execute_result"
    }
   ],
   "source": [
    "b = np.load(\"session_4_array.npy\")\n",
    "b"
   ]
  },
  {
   "cell_type": "markdown",
   "id": "fc11ba01",
   "metadata": {
    "slideshow": {
     "slide_type": "slide"
    }
   },
   "source": [
    "## Basic Libraries I\n",
    "\n",
    "Scipy provides algorithms for statistics, optimization, integration, interpolation, algebraic equations, differential equations, and many other classes of problems. In this session, we will look at a few cases where they are normaly used. "
   ]
  },
  {
   "cell_type": "code",
   "execution_count": 1,
   "id": "ee11c39d",
   "metadata": {
    "slideshow": {
     "slide_type": "subslide"
    }
   },
   "outputs": [
    {
     "name": "stdout",
     "output_type": "stream",
     "text": [
      "[ 1.03571429 -0.35714286]\n",
      "10.0\n",
      "1.0000000000000002\n"
     ]
    }
   ],
   "source": [
    "# 1. Solving typical system of equations\n",
    "\n",
    "import numpy as np\n",
    "from scipy import linalg\n",
    "\n",
    "# Coefficient matrix A and constants b\n",
    "# 10x + y = 10\n",
    "# 2x + 3y = 1\n",
    "\n",
    "A = np.array([[10, 1], [2, 3]])\n",
    "b = np.array([10, 1])\n",
    "\n",
    "\n",
    "# Solve for x\n",
    "x = linalg.solve(A, b)\n",
    "print(x)\n",
    "\n",
    "print(10*x[0] + 1*x[1])\n",
    "print(2*x[0] + 3*x[1])"
   ]
  },
  {
   "cell_type": "code",
   "execution_count": null,
   "id": "e3b4f867",
   "metadata": {
    "slideshow": {
     "slide_type": "subslide"
    }
   },
   "outputs": [
    {
     "name": "stdout",
     "output_type": "stream",
     "text": [
      "2.6666666666666665\n"
     ]
    }
   ],
   "source": [
    "# 2. Integrating a function over an interval 0,2\n",
    "from scipy import integrate\n",
    "\n",
    "# Define a simple function to integrate\n",
    "def f(x):\n",
    "    return x**2 # x^2\n",
    "\n",
    "# Integrate f(x) from 0 to 1\n",
    "result, error = integrate.quad(f, 0, 2)\n",
    "print(result)"
   ]
  },
  {
   "cell_type": "code",
   "execution_count": null,
   "id": "c3717ca2",
   "metadata": {
    "slideshow": {
     "slide_type": "subslide"
    }
   },
   "outputs": [
    {
     "name": "stdout",
     "output_type": "stream",
     "text": [
      "[-0.5]\n"
     ]
    }
   ],
   "source": [
    "# 3. Integrating a function over an interval \n",
    "from scipy import optimize\n",
    "\n",
    "# Define a quadratic function\n",
    "def f(x):\n",
    "    return x**2 + x + 1\n",
    "\n",
    "# Find the minimum\n",
    "result = optimize.minimize(f, x0=0)  # x0 is the initial guess for minimum\n",
    "print(result.x)"
   ]
  },
  {
   "cell_type": "code",
   "execution_count": 6,
   "id": "6677def1",
   "metadata": {
    "slideshow": {
     "slide_type": "subslide"
    }
   },
   "outputs": [
    {
     "data": {
      "image/png": "[encoded data removed]",
      "text/plain": [
       "<Figure size 800x600 with 1 Axes>"
      ]
     },
     "metadata": {},
     "output_type": "display_data"
    }
   ],
   "source": [
    "# 4. Interpolating between 2D points\n",
    "\n",
    "import numpy as np\n",
    "import matplotlib.pyplot as plt\n",
    "from scipy.interpolate import interp1d\n",
    "\n",
    "# 4.1. Define some scattered 2D points (x, y) and corresponding z values\n",
    "points = np.random.rand(10, 2) * 10  # 10 random points in 2D (x, y)\n",
    "x = points[:, 0]  # Take the x-coordinates\n",
    "z = np.sin(points[:, 0]) + np.cos(points[:, 1])  # z = sin(x) + cos(y) based on x and y\n",
    "\n",
    "# 4.2 Sort x and z for proper interpolation (since x needs to be sorted)\n",
    "sorted_indices = np.argsort(x)\n",
    "x_sorted = x[sorted_indices]\n",
    "z_sorted = z[sorted_indices]\n",
    "\n",
    "# 4.3 Perform 1D interpolation along the x-axis\n",
    "interp_func = interp1d(x_sorted, z_sorted, kind='cubic')  # Cubic interpolation\n",
    "\n",
    "# 4.4. Create new x points for interpolation\n",
    "x_new = np.linspace(min(x_sorted), max(x_sorted), 100)  # 100 new points along x-axis\n",
    "z_new = interp_func(x_new)\n",
    "\n",
    "# Step 5: Plot the original points and the 1D interpolation result\n",
    "plt.figure(figsize=(8, 6))\n",
    "\n",
    "# Plot original 2D points (x, z) as scatter plot\n",
    "plt.scatter(x, z, color='red', label='Original Points')\n",
    "\n",
    "# Plot the interpolated curve\n",
    "plt.plot(x_new, z_new, label='Interpolated Curve', color='blue')\n",
    "\n",
    "plt.title('1D Interpolation of 2D Points along X-Axis')\n",
    "plt.xlabel('X')\n",
    "plt.ylabel('Z (Interpolated)')\n",
    "plt.legend()\n",
    "plt.grid(True)\n",
    "plt.show()"
   ]
  },
  {
   "cell_type": "code",
   "execution_count": 7,
   "id": "236ea3f4",
   "metadata": {
    "slideshow": {
     "slide_type": "subslide"
    }
   },
   "outputs": [
    {
     "name": "stdout",
     "output_type": "stream",
     "text": [
      "0.00028575598036340694\n"
     ]
    }
   ],
   "source": [
    "# 5. Run a simple t-test over two distributions\n",
    "\n",
    "from scipy import stats\n",
    "\n",
    "# Two samples\n",
    "sample1 = np.random.normal(loc=5, scale=1, size=100) # samples 100 points using a N(5, 1)\n",
    "sample2 = np.random.normal(loc=5.5, scale=1, size=100) # samples 100 points using a N(5.5, 1)\n",
    "\n",
    "# Perform t-test\n",
    "_, p_value = stats.ttest_ind(sample1, sample2)\n",
    "print(p_value)\n",
    "\n",
    "# If the two populations come from the same distrubution the p-value should be high, typically above 0.05. \n",
    "# It the value is close to 1, the two samples are most probably coming from the same distribution."
   ]
  },
  {
   "cell_type": "markdown",
   "id": "ab12d188",
   "metadata": {
    "slideshow": {
     "slide_type": "slide"
    }
   },
   "source": [
    "## Basic Libraries I\n",
    "\n",
    "Another library used when developing algorithms is Math. This is a **built-in** library in Python. It is worth mentioning that most of the mathematical functions and constants are covered by Scipy and Numpy. However, it is worth knowing it, since is a built-in library."
   ]
  },
  {
   "cell_type": "code",
   "execution_count": 8,
   "id": "59be7327",
   "metadata": {
    "slideshow": {
     "slide_type": "subslide"
    }
   },
   "outputs": [],
   "source": [
    "import math"
   ]
  },
  {
   "cell_type": "code",
   "execution_count": 9,
   "id": "524e48cf",
   "metadata": {
    "slideshow": {
     "slide_type": "fragment"
    }
   },
   "outputs": [
    {
     "data": {
      "text/plain": [
       "4.0"
      ]
     },
     "execution_count": 9,
     "metadata": {},
     "output_type": "execute_result"
    }
   ],
   "source": [
    "# Square root, power, absolute value\n",
    "math.sqrt(16)"
   ]
  },
  {
   "cell_type": "code",
   "execution_count": 10,
   "id": "e5ea73d1",
   "metadata": {
    "slideshow": {
     "slide_type": "fragment"
    }
   },
   "outputs": [
    {
     "data": {
      "text/plain": [
       "8.0"
      ]
     },
     "execution_count": 10,
     "metadata": {},
     "output_type": "execute_result"
    }
   ],
   "source": [
    "math.pow(2, 3)"
   ]
  },
  {
   "cell_type": "code",
   "execution_count": 11,
   "id": "ced6d26f",
   "metadata": {
    "slideshow": {
     "slide_type": "fragment"
    }
   },
   "outputs": [
    {
     "data": {
      "text/plain": [
       "10.5"
      ]
     },
     "execution_count": 11,
     "metadata": {},
     "output_type": "execute_result"
    }
   ],
   "source": [
    "math.fabs(-10.5)"
   ]
  },
  {
   "cell_type": "code",
   "execution_count": 12,
   "id": "b9b80906",
   "metadata": {
    "slideshow": {
     "slide_type": "fragment"
    }
   },
   "outputs": [
    {
     "data": {
      "text/plain": [
       "True"
      ]
     },
     "execution_count": 12,
     "metadata": {},
     "output_type": "execute_result"
    }
   ],
   "source": [
    "# Calculate sinus, cosinus, tangent\n",
    "angle = math.pi / 4  # in gradients\n",
    "math.sin(angle) / math.cos(angle) == math.tan(angle)"
   ]
  },
  {
   "cell_type": "code",
   "execution_count": 13,
   "id": "f6a30575",
   "metadata": {
    "slideshow": {
     "slide_type": "fragment"
    }
   },
   "outputs": [
    {
     "data": {
      "text/plain": [
       "2.718281828459045"
      ]
     },
     "execution_count": 13,
     "metadata": {},
     "output_type": "execute_result"
    }
   ],
   "source": [
    "# Exponential, logarithm (ln), # Logarithm base 10\n",
    "math.exp(1)"
   ]
  },
  {
   "cell_type": "code",
   "execution_count": 14,
   "id": "ec6f979b",
   "metadata": {
    "slideshow": {
     "slide_type": "fragment"
    }
   },
   "outputs": [
    {
     "data": {
      "text/plain": [
       "2.302585092994046"
      ]
     },
     "execution_count": 14,
     "metadata": {},
     "output_type": "execute_result"
    }
   ],
   "source": [
    "math.log(10)"
   ]
  },
  {
   "cell_type": "code",
   "execution_count": 15,
   "id": "07d617e0",
   "metadata": {
    "slideshow": {
     "slide_type": "fragment"
    }
   },
   "outputs": [
    {
     "data": {
      "text/plain": [
       "2.0"
      ]
     },
     "execution_count": 15,
     "metadata": {},
     "output_type": "execute_result"
    }
   ],
   "source": [
    "math.log10(100)"
   ]
  },
  {
   "cell_type": "code",
   "execution_count": 16,
   "id": "5d2585b8",
   "metadata": {
    "slideshow": {
     "slide_type": "fragment"
    }
   },
   "outputs": [
    {
     "name": "stdout",
     "output_type": "stream",
     "text": [
      "floor value for 2.8: 2 and ceil value for 2.1: 3\n"
     ]
    }
   ],
   "source": [
    "# Rounding down (floor) and up (ceil), and factorial\n",
    "print(f\"floor value for 2.8: {math.floor(2.8)} and ceil value for 2.1: {math.ceil(2.1)}\")"
   ]
  },
  {
   "cell_type": "code",
   "execution_count": 17,
   "id": "873b1d28",
   "metadata": {
    "slideshow": {
     "slide_type": "fragment"
    }
   },
   "outputs": [
    {
     "name": "stdout",
     "output_type": "stream",
     "text": [
      "Factorial value of 4: 24\n"
     ]
    }
   ],
   "source": [
    "print(f\"Factorial value of 4: {math.factorial(4)}\")"
   ]
  },
  {
   "cell_type": "markdown",
   "id": "227e2907",
   "metadata": {
    "slideshow": {
     "slide_type": "slide"
    }
   },
   "source": [
    "## Basic Libraries I\n",
    "\n",
    "When manipulating files and folder, you may want to use the following **built-in** libraries: os, glob and shutil. Let's staart with **os**."
   ]
  },
  {
   "cell_type": "code",
   "execution_count": 27,
   "id": "b00491ab",
   "metadata": {
    "slideshow": {
     "slide_type": "subslide"
    }
   },
   "outputs": [],
   "source": [
    "import os"
   ]
  },
  {
   "cell_type": "code",
   "execution_count": 28,
   "id": "9f8f13c9",
   "metadata": {
    "slideshow": {
     "slide_type": "fragment"
    }
   },
   "outputs": [
    {
     "data": {
      "text/plain": [
       "['.DS_Store', 'annotations']"
      ]
     },
     "execution_count": 28,
     "metadata": {},
     "output_type": "execute_result"
    }
   ],
   "source": [
    "# Let's check what files we have in a specific folder\n",
    "os.listdir('session_4/')"
   ]
  },
  {
   "cell_type": "code",
   "execution_count": 29,
   "id": "386cfa6a",
   "metadata": {
    "slideshow": {
     "slide_type": "fragment"
    }
   },
   "outputs": [
    {
     "data": {
      "text/plain": [
       "'/Users/harshitachivukula/Desktop/PDS_codes/GitHub/PythonforDataScience_HarshitaChivukula'"
      ]
     },
     "execution_count": 29,
     "metadata": {},
     "output_type": "execute_result"
    }
   ],
   "source": [
    "# Let's get the absolute path\n",
    "os.getcwd()"
   ]
  },
  {
   "cell_type": "code",
   "execution_count": 30,
   "id": "01967714",
   "metadata": {
    "slideshow": {
     "slide_type": "fragment"
    }
   },
   "outputs": [],
   "source": [
    "# Create a new folder\n",
    "os.mkdir('new_folder')"
   ]
  },
  {
   "cell_type": "code",
   "execution_count": 31,
   "id": "ef4c3030",
   "metadata": {
    "slideshow": {
     "slide_type": "fragment"
    }
   },
   "outputs": [
    {
     "data": {
      "text/plain": [
       "['new_folder']"
      ]
     },
     "execution_count": 31,
     "metadata": {},
     "output_type": "execute_result"
    }
   ],
   "source": [
    "[file for file in os.listdir('.') if 'new_folder' in file]"
   ]
  },
  {
   "cell_type": "code",
   "execution_count": 32,
   "id": "deae7955",
   "metadata": {
    "slideshow": {
     "slide_type": "fragment"
    }
   },
   "outputs": [],
   "source": [
    "# Remove it now\n",
    "os.rmdir('new_folder')"
   ]
  },
  {
   "cell_type": "code",
   "execution_count": 33,
   "id": "15771206",
   "metadata": {
    "slideshow": {
     "slide_type": "fragment"
    }
   },
   "outputs": [
    {
     "data": {
      "text/plain": [
       "[]"
      ]
     },
     "execution_count": 33,
     "metadata": {},
     "output_type": "execute_result"
    }
   ],
   "source": [
    "[file for file in os.listdir('.') if 'new_folder' in file]"
   ]
  },
  {
   "cell_type": "code",
   "execution_count": 34,
   "id": "889b4ad8",
   "metadata": {
    "slideshow": {
     "slide_type": "fragment"
    }
   },
   "outputs": [
    {
     "name": "stdout",
     "output_type": "stream",
     "text": [
      "False\n"
     ]
    }
   ],
   "source": [
    "# Check if a file exists\n",
    "print(os.path.exists('session_4.ipynb'))"
   ]
  },
  {
   "cell_type": "code",
   "execution_count": 35,
   "id": "ae06580e",
   "metadata": {
    "slideshow": {
     "slide_type": "fragment"
    }
   },
   "outputs": [
    {
     "data": {
      "text/plain": [
       "'session_4/annotations'"
      ]
     },
     "execution_count": 35,
     "metadata": {},
     "output_type": "execute_result"
    }
   ],
   "source": [
    "# You can also join paths or get the file out of the full path\n",
    "os.path.join('session_4/', 'annotations')"
   ]
  },
  {
   "cell_type": "code",
   "execution_count": 36,
   "id": "c4990139",
   "metadata": {
    "slideshow": {
     "slide_type": "fragment"
    }
   },
   "outputs": [
    {
     "data": {
      "text/plain": [
       "'20240101_174301_SN33_QUICKVIEW_VISUAL_1_1_10_SATL-2KM-11N_404_3770.txt'"
      ]
     },
     "execution_count": 36,
     "metadata": {},
     "output_type": "execute_result"
    }
   ],
   "source": [
    "os.path.basename('session_4/annotations/20240101_174301_SN33_QUICKVIEW_VISUAL_1_1_10_SATL-2KM-11N_404_3770.txt')"
   ]
  },
  {
   "cell_type": "markdown",
   "id": "54bf94e2",
   "metadata": {
    "slideshow": {
     "slide_type": "slide"
    }
   },
   "source": [
    "## Basic Libraries I\n",
    "\n",
    "Let's keep working now with **glob**."
   ]
  },
  {
   "cell_type": "code",
   "execution_count": 37,
   "id": "3a70ffff",
   "metadata": {
    "slideshow": {
     "slide_type": "subslide"
    }
   },
   "outputs": [],
   "source": [
    "import glob"
   ]
  },
  {
   "cell_type": "code",
   "execution_count": 38,
   "id": "79bf5c73",
   "metadata": {
    "slideshow": {
     "slide_type": "fragment"
    }
   },
   "outputs": [
    {
     "data": {
      "text/plain": [
       "['session_4/annotations/20240102_185527_SN27_QUICKVIEW_VISUAL_1_1_10_SATL-2KM-11N_740_3850.txt',\n",
       " 'session_4/annotations/20240623_193704_SN27_QUICKVIEW_VISUAL_1_7_0_SATL-2KM-11N_566_3734.txt',\n",
       " 'session_4/annotations/20240402_184757_SN24_QUICKVIEW_VISUAL_1_2_0_SATL-2KM-11N_488_3638.txt',\n",
       " 'session_4/annotations/20240423_190101_SN26_QUICKVIEW_VISUAL_1_5_0_SATL-2KM-11N_418_3872.txt',\n",
       " 'session_4/annotations/20240201_075140_SN26_QUICKVIEW_VISUAL_1_1_10_SATL-2KM-39N_558_2794.txt',\n",
       " 'session_4/annotations/20240222_074151_SN26_QUICKVIEW_VISUAL_1_1_10_SATL-2KM-39N_560_2794.txt',\n",
       " 'session_4/annotations/20240101_174301_SN33_QUICKVIEW_VISUAL_1_1_10_SATL-2KM-11N_404_3770.txt',\n",
       " 'session_4/annotations/20240218_180121_SN33_QUICKVIEW_VISUAL_1_1_10_SATL-2KM-10N_568_4176.txt',\n",
       " 'session_4/annotations/20240101_192856_SN24_QUICKVIEW_VISUAL_1_1_10_SATL-2KM-10N_552_4164.txt',\n",
       " 'session_4/annotations/20240402_184757_SN24_QUICKVIEW_VISUAL_1_2_0_SATL-2KM-11N_486_3630.txt',\n",
       " 'session_4/annotations/20240102_185954_SN24_QUICKVIEW_VISUAL_1_1_10_SATL-2KM-11N_414_3786.txt',\n",
       " 'session_4/annotations/20240213_212524_SN29_QUICKVIEW_VISUAL_1_1_10_SATL-2KM-11N_542_3750.txt',\n",
       " 'session_4/annotations/20240222_074155_SN26_QUICKVIEW_VISUAL_1_1_10_SATL-2KM-39N_556_2794.txt',\n",
       " 'session_4/annotations/20240603_215226_SN28_QUICKVIEW_VISUAL_1_6_0_SATL-2KM-11N_248_4068.txt',\n",
       " 'session_4/annotations/20240104_220339_SN31_QUICKVIEW_VISUAL_1_1_10_SATL-2KM-10N_556_4178.txt',\n",
       " 'session_4/annotations/20240603_215348_SN28_QUICKVIEW_VISUAL_1_6_0_SATL-2KM-11N_346_3786.txt',\n",
       " 'session_4/annotations/20240616_213053_SN30_QUICKVIEW_VISUAL_1_7_0_SATL-2KM-11N_460_3792.txt',\n",
       " 'session_4/annotations/20240115_213834_SN28_QUICKVIEW_VISUAL_1_1_10_SATL-2KM-11N_376_3722.txt',\n",
       " 'session_4/annotations/20240222_074155_SN26_QUICKVIEW_VISUAL_1_1_10_SATL-2KM-39N_562_2794.txt',\n",
       " 'session_4/annotations/20240322_212516_SN28_QUICKVIEW_VISUAL_1_2_0_SATL-2KM-11N_502_3600.txt',\n",
       " 'session_4/annotations/20240126_173752_SN33_QUICKVIEW_VISUAL_1_1_10_SATL-2KM-11N_386_3722.txt',\n",
       " 'session_4/annotations/20240317_221229_SN31_QUICKVIEW_VISUAL_1_2_0_SATL-2KM-10N_556_4176.txt',\n",
       " 'session_4/annotations/20240405_183824_409694_MS_NS24_QUICKVIEW_VISUAL_1_3_0_SATL-2KM-11N_736_3716.txt',\n",
       " 'session_4/annotations/20240418_213446_163074_MS_NS28_QUICKVIEW_VISUAL_1_3_0_SATL-2KM-11N_388_3748.txt',\n",
       " 'session_4/annotations/20240506_192008_SN26_QUICKVIEW_VISUAL_1_5_0_SATL-2KM-10N_562_4178.txt',\n",
       " 'session_4/annotations/20240417_215406_715231_MS_NS43_QUICKVIEW_VISUAL_1_3_0_SATL-2KM-10N_740_4446.txt',\n",
       " 'session_4/annotations/20240222_074151_SN26_QUICKVIEW_VISUAL_1_1_10_SATL-2KM-39N_560_2796.txt',\n",
       " 'session_4/annotations/20240220_190455_SN27_QUICKVIEW_VISUAL_1_1_10_SATL-2KM-11N_718_3608.txt',\n",
       " 'session_4/annotations/20240101_174301_SN33_QUICKVIEW_VISUAL_1_1_10_SATL-2KM-11N_404_3772.txt',\n",
       " 'session_4/annotations/20240423_190101_SN26_QUICKVIEW_VISUAL_1_5_0_SATL-2KM-11N_418_3864.txt',\n",
       " 'session_4/annotations/20240521_052621_SN43_QUICKVIEW_VISUAL_1_6_0_SATL-2KM-51N_730_4342.txt',\n",
       " 'session_4/annotations/20240508_194502_SN27_QUICKVIEW_VISUAL_1_5_0_SATL-2KM-11N_264_4022.txt',\n",
       " 'session_4/annotations/20240519_191838_SN27_QUICKVIEW_VISUAL_1_5_0_SATL-2KM-11N_718_3608.txt',\n",
       " 'session_4/annotations/20240130_173903_SN33_QUICKVIEW_VISUAL_1_1_10_SATL-2KM-11N_366_3756.txt',\n",
       " 'session_4/annotations/20240611_025943_SN26_QUICKVIEW_VISUAL_1_7_0_SATL-2KM-51N_748_4366.txt',\n",
       " 'session_4/annotations/20240401_221819_SN31_QUICKVIEW_VISUAL_1_2_0_SATL-2KM-10N_602_4148.txt',\n",
       " 'session_4/annotations/20240316_191451_SN26_QUICKVIEW_VISUAL_1_2_0_SATL-2KM-11N_380_3764.txt',\n",
       " 'session_4/annotations/20240528_191448_SN24_QUICKVIEW_VISUAL_1_6_0_SATL-2KM-11N_248_4068.txt',\n",
       " 'session_4/annotations/20240612_185400_SN24_QUICKVIEW_VISUAL_1_7_0_SATL-2KM-11N_574_3714.txt',\n",
       " 'session_4/annotations/20240509_193206_SN26_QUICKVIEW_VISUAL_1_5_0_SATL-2KM-10N_562_4196.txt',\n",
       " 'session_4/annotations/20240324_180232_SN33_QUICKVIEW_VISUAL_1_2_0_SATL-2KM-10N_554_4172.txt',\n",
       " 'session_4/annotations/20240423_190101_SN26_QUICKVIEW_VISUAL_1_5_0_SATL-2KM-11N_418_3860.txt',\n",
       " 'session_4/annotations/20240127_190620_SN27_QUICKVIEW_VISUAL_1_1_10_SATL-2KM-11N_500_3600.txt',\n",
       " 'session_4/annotations/20240619_185757_SN24_QUICKVIEW_VISUAL_1_7_0_SATL-2KM-11N_528_3700.txt',\n",
       " 'session_4/annotations/20240203_173953_SN33_QUICKVIEW_VISUAL_1_1_10_SATL-2KM-11N_368_3756.txt',\n",
       " 'session_4/annotations/20240222_074256_SN26_QUICKVIEW_VISUAL_1_1_10_SATL-2KM-39N_564_2790.txt',\n",
       " 'session_4/annotations/20240619_052401_SN30_QUICKVIEW_VISUAL_1_7_0_SATL-2KM-52N_368_4336.txt',\n",
       " 'session_4/annotations/20240101_192856_SN24_QUICKVIEW_VISUAL_1_1_10_SATL-2KM-10N_552_4162.txt',\n",
       " 'session_4/annotations/20240616_213047_SN30_QUICKVIEW_VISUAL_1_7_0_SATL-2KM-11N_464_3830.txt',\n",
       " 'session_4/annotations/20240412_191539_631044_MS_NS24_QUICKVIEW_VISUAL_1_3_0_SATL-2KM-11N_258_4036.txt',\n",
       " 'session_4/annotations/20240402_184757_SN24_QUICKVIEW_VISUAL_1_2_0_SATL-2KM-11N_486_3636.txt',\n",
       " 'session_4/annotations/20240222_074155_SN26_QUICKVIEW_VISUAL_1_1_10_SATL-2KM-39N_556_2792.txt',\n",
       " 'session_4/annotations/20240616_102144_SN28_QUICKVIEW_VISUAL_1_7_0_SATL-2KM-39N_560_2792.txt',\n",
       " 'session_4/annotations/20240201_075143_SN26_QUICKVIEW_VISUAL_1_1_10_SATL-2KM-39N_556_2792.txt',\n",
       " 'session_4/annotations/20240223_025420_SN24_QUICKVIEW_VISUAL_1_1_10_SATL-2KM-51N_686_4422.txt',\n",
       " 'session_4/annotations/20240516_211630_SN28_QUICKVIEW_VISUAL_1_5_0_SATL-2KM-11N_716_3848.txt',\n",
       " 'session_4/annotations/20240317_215115_SN28_QUICKVIEW_VISUAL_1_2_0_SATL-2KM-10N_554_4162.txt',\n",
       " 'session_4/annotations/20240325_173936_SN33_QUICKVIEW_VISUAL_1_2_0_SATL-2KM-11N_378_3722.txt',\n",
       " 'session_4/annotations/20240228_213951_SN29_QUICKVIEW_VISUAL_1_1_10_SATL-2KM-11N_248_4068.txt',\n",
       " 'session_4/annotations/20240222_074155_SN26_QUICKVIEW_VISUAL_1_1_10_SATL-2KM-39N_562_2792.txt',\n",
       " 'session_4/annotations/20240617_052859_SN29_QUICKVIEW_VISUAL_1_7_0_SATL-2KM-51N_730_4348.txt',\n",
       " 'session_4/annotations/20240608_214614_SN29_QUICKVIEW_VISUAL_1_7_0_SATL-2KM-11N_248_4068.txt',\n",
       " 'session_4/annotations/20240304_212824_SN30_QUICKVIEW_VISUAL_1_2_0_SATL-2KM-11N_378_3722.txt',\n",
       " 'session_4/annotations/20240617_211350_SN29_QUICKVIEW_VISUAL_1_7_0_SATL-2KM-11N_724_3614.txt',\n",
       " 'session_4/annotations/20240127_190620_SN27_QUICKVIEW_VISUAL_1_1_10_SATL-2KM-11N_500_3602.txt',\n",
       " 'session_4/annotations/20240423_190101_SN26_QUICKVIEW_VISUAL_1_5_0_SATL-2KM-11N_418_3862.txt',\n",
       " 'session_4/annotations/20240606_180251_SN33_QUICKVIEW_VISUAL_1_7_0_SATL-2KM-10N_556_4180.txt',\n",
       " 'session_4/annotations/20240613_214203_SN43_QUICKVIEW_VISUAL_1_7_0_SATL-2KM-11N_384_3750.txt',\n",
       " 'session_4/annotations/20240314_220020_SN30_QUICKVIEW_VISUAL_1_2_0_SATL-2KM-10N_544_4186.txt',\n",
       " 'session_4/annotations/20240611_025943_SN26_QUICKVIEW_VISUAL_1_7_0_SATL-2KM-51N_748_4364.txt',\n",
       " 'session_4/annotations/20240322_184801_SN24_QUICKVIEW_VISUAL_1_2_0_SATL-2KM-11N_500_3632.txt',\n",
       " 'session_4/annotations/20240410_214321_024179_MS_NS30_QUICKVIEW_VISUAL_1_3_0_SATL-2KM-11N_296_3786.txt',\n",
       " 'session_4/annotations/20240616_081345_SN27_QUICKVIEW_VISUAL_1_7_0_SATL-2KM-39N_562_2794.txt',\n",
       " 'session_4/annotations/20240308_211248_SN29_QUICKVIEW_VISUAL_1_2_0_SATL-2KM-11N_718_3640.txt',\n",
       " 'session_4/annotations/20240101_192856_SN24_QUICKVIEW_VISUAL_1_1_10_SATL-2KM-10N_554_4162.txt',\n",
       " 'session_4/annotations/20240428_215426_SN43_QUICKVIEW_VISUAL_1_5_0_SATL-2KM-10N_630_4264.txt',\n",
       " 'session_4/annotations/20240427_221308_SN31_QUICKVIEW_VISUAL_1_5_0_SATL-2KM-10N_722_3848.txt',\n",
       " 'session_4/annotations/20240201_075140_SN26_QUICKVIEW_VISUAL_1_1_10_SATL-2KM-39N_560_2792.txt',\n",
       " 'session_4/annotations/20240514_052716_SN43_QUICKVIEW_VISUAL_1_5_0_SATL-2KM-51N_730_4342.txt',\n",
       " 'session_4/annotations/20240213_212524_SN29_QUICKVIEW_VISUAL_1_1_10_SATL-2KM-11N_544_3742.txt',\n",
       " 'session_4/annotations/20240609_214259_SN30_QUICKVIEW_VISUAL_1_7_0_SATL-2KM-11N_262_4052.txt',\n",
       " 'session_4/annotations/20240410_214305_399233_MS_NS43_QUICKVIEW_VISUAL_1_3_0_SATL-2KM-11N_380_3764.txt',\n",
       " 'session_4/annotations/20240604_214955_SN29_QUICKVIEW_VISUAL_1_7_0_SATL-2KM-10N_594_4136.txt',\n",
       " 'session_4/annotations/20240423_190101_SN26_QUICKVIEW_VISUAL_1_5_0_SATL-2KM-11N_414_3862.txt',\n",
       " 'session_4/annotations/20240213_212524_SN29_QUICKVIEW_VISUAL_1_1_10_SATL-2KM-11N_540_3748.txt',\n",
       " 'session_4/annotations/20240613_192217_SN26_QUICKVIEW_VISUAL_1_7_0_SATL-2KM-10N_560_4178.txt',\n",
       " 'session_4/annotations/20240101_213601_SN31_QUICKVIEW_VISUAL_1_1_10_SATL-2KM-11N_392_3740.txt',\n",
       " 'session_4/annotations/20240317_215115_SN28_QUICKVIEW_VISUAL_1_2_0_SATL-2KM-10N_552_4162.txt',\n",
       " 'session_4/annotations/20240401_032415_SN27_QUICKVIEW_VISUAL_1_2_0_SATL-2KM-51N_688_4420.txt',\n",
       " 'session_4/annotations/20240503_214759_SN28_QUICKVIEW_VISUAL_1_5_0_SATL-2KM-11N_376_3724.txt',\n",
       " 'session_4/annotations/20240519_184534_SN24_QUICKVIEW_VISUAL_1_5_0_SATL-2KM-11N_658_3700.txt',\n",
       " 'session_4/annotations/20240615_173631_SN33_QUICKVIEW_VISUAL_1_7_0_SATL-2KM-11N_546_3742.txt',\n",
       " 'session_4/annotations/20240314_220020_SN30_QUICKVIEW_VISUAL_1_2_0_SATL-2KM-10N_550_4202.txt',\n",
       " 'session_4/annotations/20240219_214312_SN28_QUICKVIEW_VISUAL_1_1_10_SATL-2KM-11N_252_3954.txt',\n",
       " 'session_4/annotations/20240101_213601_SN31_QUICKVIEW_VISUAL_1_1_10_SATL-2KM-11N_392_3742.txt',\n",
       " 'session_4/annotations/20240408_211552_958249_MS_NS29_QUICKVIEW_VISUAL_1_3_0_SATL-2KM-11N_734_3742.txt',\n",
       " 'session_4/annotations/20240623_215120_SN29_QUICKVIEW_VISUAL_1_7_0_SATL-2KM-10N_596_4134.txt',\n",
       " 'session_4/annotations/20240128_213258_SN29_QUICKVIEW_VISUAL_1_1_10_SATL-2KM-11N_418_3864.txt',\n",
       " 'session_4/annotations/20240612_185400_SN24_QUICKVIEW_VISUAL_1_7_0_SATL-2KM-11N_576_3720.txt',\n",
       " 'session_4/annotations/20240612_053829_SN28_QUICKVIEW_VISUAL_1_7_0_SATL-2KM-51N_686_4422.txt',\n",
       " 'session_4/annotations/20240521_101252_SN43_QUICKVIEW_VISUAL_1_6_0_SATL-2KM-39N_556_2792.txt',\n",
       " 'session_4/annotations/20240616_102144_SN28_QUICKVIEW_VISUAL_1_7_0_SATL-2KM-39N_558_2794.txt',\n",
       " 'session_4/annotations/20240616_081345_SN27_QUICKVIEW_VISUAL_1_7_0_SATL-2KM-39N_562_2792.txt',\n",
       " 'session_4/annotations/20240428_215426_SN43_QUICKVIEW_VISUAL_1_5_0_SATL-2KM-10N_630_4262.txt',\n",
       " 'session_4/annotations/20240201_075140_SN26_QUICKVIEW_VISUAL_1_1_10_SATL-2KM-39N_560_2794.txt',\n",
       " 'session_4/annotations/20240428_215426_SN43_QUICKVIEW_VISUAL_1_5_0_SATL-2KM-10N_634_4282.txt',\n",
       " 'session_4/annotations/20240216_213630_SN31_QUICKVIEW_VISUAL_1_1_10_SATL-2KM-11N_418_3724.txt',\n",
       " 'session_4/annotations/20240616_213047_SN30_QUICKVIEW_VISUAL_1_7_0_SATL-2KM-11N_466_3828.txt',\n",
       " 'session_4/annotations/20240619_215556_SN29_QUICKVIEW_VISUAL_1_7_0_SATL-2KM-10N_742_4460.txt',\n",
       " 'session_4/annotations/20240317_215115_SN28_QUICKVIEW_VISUAL_1_2_0_SATL-2KM-10N_552_4164.txt',\n",
       " 'session_4/annotations/20240222_074151_SN26_QUICKVIEW_VISUAL_1_1_10_SATL-2KM-39N_558_2796.txt',\n",
       " 'session_4/annotations/20240510_191914_SN27_QUICKVIEW_VISUAL_1_5_0_SATL-2KM-11N_712_3566.txt',\n",
       " 'session_4/annotations/20240528_191604_SN24_QUICKVIEW_VISUAL_1_6_0_SATL-2KM-11N_344_3836.txt',\n",
       " 'session_4/annotations/20240611_215323_SN30_QUICKVIEW_VISUAL_1_7_0_SATL-2KM-10N_702_3948.txt',\n",
       " 'session_4/annotations/20240613_053340_SN29_QUICKVIEW_VISUAL_1_7_0_SATL-2KM-51N_728_4342.txt',\n",
       " 'session_4/annotations/20240612_185419_SN24_QUICKVIEW_VISUAL_1_7_0_SATL-2KM-11N_554_3610.txt',\n",
       " 'session_4/annotations/20240201_075140_SN26_QUICKVIEW_VISUAL_1_1_10_SATL-2KM-39N_560_2796.txt',\n",
       " 'session_4/annotations/20240208_184650_SN24_QUICKVIEW_VISUAL_1_1_10_SATL-2KM-11N_624_3632.txt',\n",
       " 'session_4/annotations/20240128_213258_SN29_QUICKVIEW_VISUAL_1_1_10_SATL-2KM-11N_418_3862.txt',\n",
       " 'session_4/annotations/20240214_184340_SN24_QUICKVIEW_VISUAL_1_1_10_SATL-2KM-11N_688_3630.txt',\n",
       " 'session_4/annotations/20240412_191539_377035_MS_NS24_QUICKVIEW_VISUAL_1_3_0_SATL-2KM-11N_258_4038.txt',\n",
       " 'session_4/annotations/20240509_212336_SN29_QUICKVIEW_VISUAL_1_5_0_SATL-2KM-11N_706_3778.txt',\n",
       " 'session_4/annotations/20240508_194502_SN27_QUICKVIEW_VISUAL_1_5_0_SATL-2KM-11N_262_4022.txt',\n",
       " 'session_4/annotations/20240130_215036_SN31_QUICKVIEW_VISUAL_1_1_10_SATL-2KM-11N_366_3756.txt',\n",
       " 'session_4/annotations/20240212_213506_SN31_QUICKVIEW_VISUAL_1_1_10_SATL-2KM-11N_408_3712.txt',\n",
       " 'session_4/annotations/20240519_214917_SN31_QUICKVIEW_VISUAL_1_5_0_SATL-2KM-11N_500_3600.txt',\n",
       " 'session_4/annotations/20240612_053829_SN28_QUICKVIEW_VISUAL_1_7_0_SATL-2KM-51N_688_4420.txt',\n",
       " 'session_4/annotations/20240222_074155_SN26_QUICKVIEW_VISUAL_1_1_10_SATL-2KM-39N_560_2792.txt',\n",
       " 'session_4/annotations/20240616_213047_SN30_QUICKVIEW_VISUAL_1_7_0_SATL-2KM-11N_466_3826.txt',\n",
       " 'session_4/annotations/20240612_185400_SN24_QUICKVIEW_VISUAL_1_7_0_SATL-2KM-11N_578_3722.txt',\n",
       " 'session_4/annotations/20240610_191018_SN26_QUICKVIEW_VISUAL_1_7_0_SATL-2KM-11N_384_3750.txt',\n",
       " 'session_4/annotations/20240401_175918_SN33_QUICKVIEW_VISUAL_1_2_0_SATL-2KM-10N_542_4168.txt',\n",
       " 'session_4/annotations/20240127_190620_SN27_QUICKVIEW_VISUAL_1_1_10_SATL-2KM-11N_502_3602.txt',\n",
       " 'session_4/annotations/20240513_212022_SN29_QUICKVIEW_VISUAL_1_5_0_SATL-2KM-11N_630_3742.txt',\n",
       " 'session_4/annotations/20240222_212250_SN30_QUICKVIEW_VISUAL_1_1_10_SATL-2KM-11N_382_3722.txt',\n",
       " 'session_4/annotations/20240127_190620_SN27_QUICKVIEW_VISUAL_1_1_10_SATL-2KM-11N_502_3600.txt',\n",
       " 'session_4/annotations/20240308_191212_SN27_QUICKVIEW_VISUAL_1_2_0_SATL-2KM-11N_506_3614.txt',\n",
       " 'session_4/annotations/20240613_053340_SN29_QUICKVIEW_VISUAL_1_7_0_SATL-2KM-51N_730_4342.txt',\n",
       " 'session_4/annotations/20240516_190328_SN24_QUICKVIEW_VISUAL_1_5_0_SATL-2KM-11N_262_4052.txt',\n",
       " 'session_4/annotations/20240221_190608_SN26_QUICKVIEW_VISUAL_1_1_10_SATL-2KM-11N_380_3764.txt',\n",
       " 'session_4/annotations/20240209_212744_SN29_QUICKVIEW_VISUAL_1_1_10_SATL-2KM-11N_380_3722.txt',\n",
       " 'session_4/annotations/20240412_191549_672087_MS_NS24_QUICKVIEW_VISUAL_1_3_0_SATL-2KM-11N_240_3966.txt',\n",
       " 'session_4/annotations/20240519_214917_SN31_QUICKVIEW_VISUAL_1_5_0_SATL-2KM-11N_500_3602.txt',\n",
       " 'session_4/annotations/20240616_102144_SN28_QUICKVIEW_VISUAL_1_7_0_SATL-2KM-39N_556_2794.txt',\n",
       " 'session_4/annotations/20240618_215539_SN31_QUICKVIEW_VISUAL_1_7_0_SATL-2KM-11N_452_3740.txt',\n",
       " 'session_4/annotations/20240623_215102_SN43_QUICKVIEW_VISUAL_1_7_0_SATL-2KM-11N_384_3750.txt',\n",
       " 'session_4/annotations/20240521_101252_SN43_QUICKVIEW_VISUAL_1_6_0_SATL-2KM-39N_558_2796.txt',\n",
       " 'session_4/annotations/20240607_200250_SN27_QUICKVIEW_VISUAL_1_7_0_SATL-2KM-10N_554_4172.txt',\n",
       " 'session_4/annotations/20240426_215224_SN29_QUICKVIEW_VISUAL_1_5_0_SATL-2KM-11N_244_3818.txt',\n",
       " 'session_4/annotations/20240510_191908_SN27_QUICKVIEW_VISUAL_1_5_0_SATL-2KM-11N_718_3608.txt',\n",
       " 'session_4/annotations/20240222_074151_SN26_QUICKVIEW_VISUAL_1_1_10_SATL-2KM-39N_556_2794.txt',\n",
       " 'session_4/annotations/20240618_215539_SN31_QUICKVIEW_VISUAL_1_7_0_SATL-2KM-11N_458_3756.txt',\n",
       " 'session_4/annotations/20240602_215203_SN30_QUICKVIEW_VISUAL_1_6_0_SATL-2KM-10N_714_3948.txt',\n",
       " 'session_4/annotations/20240130_173903_SN33_QUICKVIEW_VISUAL_1_1_10_SATL-2KM-11N_360_3748.txt',\n",
       " 'session_4/annotations/20240202_191114_SN27_QUICKVIEW_VISUAL_1_1_10_SATL-2KM-11N_718_3608.txt',\n",
       " 'session_4/annotations/20240401_175918_SN33_QUICKVIEW_VISUAL_1_2_0_SATL-2KM-10N_546_4206.txt',\n",
       " 'session_4/annotations/20240202_184725_SN24_QUICKVIEW_VISUAL_1_1_10_SATL-2KM-11N_624_3630.txt',\n",
       " 'session_4/annotations/20240130_173903_SN33_QUICKVIEW_VISUAL_1_1_10_SATL-2KM-11N_364_3754.txt',\n",
       " 'session_4/annotations/20240222_074151_SN26_QUICKVIEW_VISUAL_1_1_10_SATL-2KM-39N_562_2794.txt',\n",
       " 'session_4/annotations/20240519_214917_SN31_QUICKVIEW_VISUAL_1_5_0_SATL-2KM-11N_500_3598.txt',\n",
       " 'session_4/annotations/20240101_213601_SN31_QUICKVIEW_VISUAL_1_1_10_SATL-2KM-11N_396_3752.txt',\n",
       " 'session_4/annotations/20240224_214855_SN30_QUICKVIEW_VISUAL_1_1_10_SATL-2KM-10N_552_4162.txt',\n",
       " 'session_4/annotations/20240227_214218_SN30_QUICKVIEW_VISUAL_1_1_10_SATL-2KM-10N_562_4170.txt',\n",
       " 'session_4/annotations/20240321_220846_SN31_QUICKVIEW_VISUAL_1_2_0_SATL-2KM-10N_560_4178.txt',\n",
       " 'session_4/annotations/20240112_192510_SN27_QUICKVIEW_VISUAL_1_1_10_SATL-2KM-11N_386_3750.txt',\n",
       " 'session_4/annotations/20240617_184443_SN24_QUICKVIEW_VISUAL_1_7_0_SATL-2KM-11N_702_3566.txt',\n",
       " 'session_4/annotations/20240201_075140_SN26_QUICKVIEW_VISUAL_1_1_10_SATL-2KM-39N_556_2794.txt',\n",
       " 'session_4/annotations/20240115_213834_SN28_QUICKVIEW_VISUAL_1_1_10_SATL-2KM-11N_380_3724.txt',\n",
       " 'session_4/annotations/20240407_190149_742846_MS_NS24_QUICKVIEW_VISUAL_1_3_0_SATL-2KM-11N_258_4028.txt',\n",
       " 'session_4/annotations/20240524_213504_SN29_QUICKVIEW_VISUAL_1_6_0_SATL-2KM-11N_380_3724.txt',\n",
       " 'session_4/annotations/20240402_215427_SN31_QUICKVIEW_VISUAL_1_2_0_SATL-2KM-11N_502_3600.txt',\n",
       " 'session_4/annotations/20240506_213507_SN43_QUICKVIEW_VISUAL_1_5_0_SATL-2KM-11N_384_3750.txt',\n",
       " 'session_4/annotations/20240222_074155_SN26_QUICKVIEW_VISUAL_1_1_10_SATL-2KM-39N_558_2794.txt',\n",
       " 'session_4/annotations/20240602_215203_SN30_QUICKVIEW_VISUAL_1_6_0_SATL-2KM-10N_712_3948.txt',\n",
       " 'session_4/annotations/20240110_192002_SN27_QUICKVIEW_VISUAL_1_1_10_SATL-2KM-11N_380_3728.txt',\n",
       " 'session_4/annotations/20240211_211057_SN30_QUICKVIEW_VISUAL_1_1_10_SATL-2KM-11N_700_3690.txt',\n",
       " 'session_4/annotations/20240428_215557_SN43_QUICKVIEW_VISUAL_1_5_0_SATL-2KM-10N_726_3862.txt',\n",
       " 'session_4/annotations/20240616_081345_SN27_QUICKVIEW_VISUAL_1_7_0_SATL-2KM-39N_560_2792.txt',\n",
       " 'session_4/annotations/20240616_213047_SN30_QUICKVIEW_VISUAL_1_7_0_SATL-2KM-11N_464_3828.txt',\n",
       " 'session_4/annotations/20240423_190101_SN26_QUICKVIEW_VISUAL_1_5_0_SATL-2KM-11N_416_3864.txt',\n",
       " 'session_4/annotations/20240201_075140_SN26_QUICKVIEW_VISUAL_1_1_10_SATL-2KM-39N_562_2794.txt',\n",
       " 'session_4/annotations/20240420_181053_341939_MS_NS33_QUICKVIEW_VISUAL_1_3_0_SATL-2KM-10N_556_4180.txt',\n",
       " 'session_4/annotations/20240618_193146_SN27_QUICKVIEW_VISUAL_1_7_0_SATL-2KM-11N_530_3682.txt',\n",
       " 'session_4/annotations/20240201_075143_SN26_QUICKVIEW_VISUAL_1_1_10_SATL-2KM-39N_562_2788.txt',\n",
       " 'session_4/annotations/20240224_214855_SN30_QUICKVIEW_VISUAL_1_1_10_SATL-2KM-10N_554_4162.txt',\n",
       " 'session_4/annotations/20240402_184757_SN24_QUICKVIEW_VISUAL_1_2_0_SATL-2KM-11N_490_3638.txt',\n",
       " 'session_4/annotations/20240203_173953_SN33_QUICKVIEW_VISUAL_1_1_10_SATL-2KM-11N_366_3756.txt',\n",
       " 'session_4/annotations/20240614_221436_SN31_QUICKVIEW_VISUAL_1_7_0_SATL-2KM-10N_558_4184.txt',\n",
       " 'session_4/annotations/20240412_052750_556466_MS_NS29_QUICKVIEW_VISUAL_1_3_0_SATL-2KM-51N_688_4420.txt',\n",
       " 'session_4/annotations/20240428_191026_SN24_QUICKVIEW_VISUAL_1_5_0_SATL-2KM-11N_380_3722.txt',\n",
       " 'session_4/annotations/20240605_212717_SN29_QUICKVIEW_VISUAL_1_7_0_SATL-2KM-11N_718_3608.txt',\n",
       " 'session_4/annotations/20240201_075140_SN26_QUICKVIEW_VISUAL_1_1_10_SATL-2KM-39N_556_2792.txt',\n",
       " 'session_4/annotations/20240520_194539_SN27_QUICKVIEW_VISUAL_1_5_0_SATL-2KM-10N_638_4280.txt',\n",
       " 'session_4/annotations/20240401_175925_SN33_QUICKVIEW_VISUAL_1_2_0_SATL-2KM-10N_542_4168.txt',\n",
       " 'session_4/annotations/20240322_184801_SN24_QUICKVIEW_VISUAL_1_2_0_SATL-2KM-11N_502_3632.txt',\n",
       " 'session_4/annotations/20240402_215421_SN31_QUICKVIEW_VISUAL_1_2_0_SATL-2KM-11N_500_3632.txt',\n",
       " 'session_4/annotations/20240609_191744_SN24_QUICKVIEW_VISUAL_1_7_0_SATL-2KM-10N_564_4194.txt',\n",
       " 'session_4/annotations/20240102_185605_SN27_QUICKVIEW_VISUAL_1_1_10_SATL-2KM-11N_690_3572.txt',\n",
       " 'session_4/annotations/20240520_194539_SN27_QUICKVIEW_VISUAL_1_5_0_SATL-2KM-10N_638_4282.txt',\n",
       " 'session_4/annotations/20240616_081345_SN27_QUICKVIEW_VISUAL_1_7_0_SATL-2KM-39N_560_2794.txt',\n",
       " 'session_4/annotations/20240524_213504_SN29_QUICKVIEW_VISUAL_1_6_0_SATL-2KM-11N_378_3724.txt',\n",
       " 'session_4/annotations/20240423_190101_SN26_QUICKVIEW_VISUAL_1_5_0_SATL-2KM-11N_416_3862.txt',\n",
       " 'session_4/annotations/20240201_075140_SN26_QUICKVIEW_VISUAL_1_1_10_SATL-2KM-39N_562_2792.txt',\n",
       " 'session_4/annotations/20240609_191959_SN27_QUICKVIEW_VISUAL_1_7_0_SATL-2KM-11N_702_3540.txt',\n",
       " 'session_4/annotations/20240507_191326_SN27_QUICKVIEW_VISUAL_1_5_0_SATL-2KM-11N_718_3608.txt',\n",
       " 'session_4/annotations/20240321_190819_SN27_QUICKVIEW_VISUAL_1_2_0_SATL-2KM-11N_714_3632.txt']"
      ]
     },
     "execution_count": 38,
     "metadata": {},
     "output_type": "execute_result"
    }
   ],
   "source": [
    "# Similar to os, you can also list files, but you can provide wildcards \n",
    "glob.glob('session_4/annotations/*.txt')"
   ]
  },
  {
   "cell_type": "code",
   "execution_count": 39,
   "id": "7c30dd71",
   "metadata": {
    "slideshow": {
     "slide_type": "fragment"
    }
   },
   "outputs": [
    {
     "data": {
      "text/plain": [
       "['session_4/annotations/20240102_185527_SN27_QUICKVIEW_VISUAL_1_1_10_SATL-2KM-11N_740_3850.txt',\n",
       " 'session_4/annotations/20240623_193704_SN27_QUICKVIEW_VISUAL_1_7_0_SATL-2KM-11N_566_3734.txt',\n",
       " 'session_4/annotations/20240402_184757_SN24_QUICKVIEW_VISUAL_1_2_0_SATL-2KM-11N_488_3638.txt',\n",
       " 'session_4/annotations/20240423_190101_SN26_QUICKVIEW_VISUAL_1_5_0_SATL-2KM-11N_418_3872.txt',\n",
       " 'session_4/annotations/20240201_075140_SN26_QUICKVIEW_VISUAL_1_1_10_SATL-2KM-39N_558_2794.txt',\n",
       " 'session_4/annotations/20240222_074151_SN26_QUICKVIEW_VISUAL_1_1_10_SATL-2KM-39N_560_2794.txt',\n",
       " 'session_4/annotations/20240101_174301_SN33_QUICKVIEW_VISUAL_1_1_10_SATL-2KM-11N_404_3770.txt',\n",
       " 'session_4/annotations/20240218_180121_SN33_QUICKVIEW_VISUAL_1_1_10_SATL-2KM-10N_568_4176.txt',\n",
       " 'session_4/annotations/20240101_192856_SN24_QUICKVIEW_VISUAL_1_1_10_SATL-2KM-10N_552_4164.txt',\n",
       " 'session_4/annotations/20240402_184757_SN24_QUICKVIEW_VISUAL_1_2_0_SATL-2KM-11N_486_3630.txt',\n",
       " 'session_4/annotations/20240102_185954_SN24_QUICKVIEW_VISUAL_1_1_10_SATL-2KM-11N_414_3786.txt',\n",
       " 'session_4/annotations/20240213_212524_SN29_QUICKVIEW_VISUAL_1_1_10_SATL-2KM-11N_542_3750.txt',\n",
       " 'session_4/annotations/20240222_074155_SN26_QUICKVIEW_VISUAL_1_1_10_SATL-2KM-39N_556_2794.txt',\n",
       " 'session_4/annotations/20240603_215226_SN28_QUICKVIEW_VISUAL_1_6_0_SATL-2KM-11N_248_4068.txt',\n",
       " 'session_4/annotations/20240104_220339_SN31_QUICKVIEW_VISUAL_1_1_10_SATL-2KM-10N_556_4178.txt',\n",
       " 'session_4/annotations/20240603_215348_SN28_QUICKVIEW_VISUAL_1_6_0_SATL-2KM-11N_346_3786.txt',\n",
       " 'session_4/annotations/20240616_213053_SN30_QUICKVIEW_VISUAL_1_7_0_SATL-2KM-11N_460_3792.txt',\n",
       " 'session_4/annotations/20240115_213834_SN28_QUICKVIEW_VISUAL_1_1_10_SATL-2KM-11N_376_3722.txt',\n",
       " 'session_4/annotations/20240222_074155_SN26_QUICKVIEW_VISUAL_1_1_10_SATL-2KM-39N_562_2794.txt',\n",
       " 'session_4/annotations/20240322_212516_SN28_QUICKVIEW_VISUAL_1_2_0_SATL-2KM-11N_502_3600.txt',\n",
       " 'session_4/annotations/20240126_173752_SN33_QUICKVIEW_VISUAL_1_1_10_SATL-2KM-11N_386_3722.txt',\n",
       " 'session_4/annotations/20240317_221229_SN31_QUICKVIEW_VISUAL_1_2_0_SATL-2KM-10N_556_4176.txt',\n",
       " 'session_4/annotations/20240405_183824_409694_MS_NS24_QUICKVIEW_VISUAL_1_3_0_SATL-2KM-11N_736_3716.txt',\n",
       " 'session_4/annotations/20240418_213446_163074_MS_NS28_QUICKVIEW_VISUAL_1_3_0_SATL-2KM-11N_388_3748.txt',\n",
       " 'session_4/annotations/20240506_192008_SN26_QUICKVIEW_VISUAL_1_5_0_SATL-2KM-10N_562_4178.txt',\n",
       " 'session_4/annotations/20240417_215406_715231_MS_NS43_QUICKVIEW_VISUAL_1_3_0_SATL-2KM-10N_740_4446.txt',\n",
       " 'session_4/annotations/20240222_074151_SN26_QUICKVIEW_VISUAL_1_1_10_SATL-2KM-39N_560_2796.txt',\n",
       " 'session_4/annotations/20240220_190455_SN27_QUICKVIEW_VISUAL_1_1_10_SATL-2KM-11N_718_3608.txt',\n",
       " 'session_4/annotations/20240101_174301_SN33_QUICKVIEW_VISUAL_1_1_10_SATL-2KM-11N_404_3772.txt',\n",
       " 'session_4/annotations/20240423_190101_SN26_QUICKVIEW_VISUAL_1_5_0_SATL-2KM-11N_418_3864.txt',\n",
       " 'session_4/annotations/20240521_052621_SN43_QUICKVIEW_VISUAL_1_6_0_SATL-2KM-51N_730_4342.txt',\n",
       " 'session_4/annotations/20240508_194502_SN27_QUICKVIEW_VISUAL_1_5_0_SATL-2KM-11N_264_4022.txt',\n",
       " 'session_4/annotations/20240519_191838_SN27_QUICKVIEW_VISUAL_1_5_0_SATL-2KM-11N_718_3608.txt',\n",
       " 'session_4/annotations/20240130_173903_SN33_QUICKVIEW_VISUAL_1_1_10_SATL-2KM-11N_366_3756.txt',\n",
       " 'session_4/annotations/20240611_025943_SN26_QUICKVIEW_VISUAL_1_7_0_SATL-2KM-51N_748_4366.txt',\n",
       " 'session_4/annotations/20240401_221819_SN31_QUICKVIEW_VISUAL_1_2_0_SATL-2KM-10N_602_4148.txt',\n",
       " 'session_4/annotations/20240316_191451_SN26_QUICKVIEW_VISUAL_1_2_0_SATL-2KM-11N_380_3764.txt',\n",
       " 'session_4/annotations/20240528_191448_SN24_QUICKVIEW_VISUAL_1_6_0_SATL-2KM-11N_248_4068.txt',\n",
       " 'session_4/annotations/20240612_185400_SN24_QUICKVIEW_VISUAL_1_7_0_SATL-2KM-11N_574_3714.txt',\n",
       " 'session_4/annotations/20240509_193206_SN26_QUICKVIEW_VISUAL_1_5_0_SATL-2KM-10N_562_4196.txt',\n",
       " 'session_4/annotations/20240324_180232_SN33_QUICKVIEW_VISUAL_1_2_0_SATL-2KM-10N_554_4172.txt',\n",
       " 'session_4/annotations/20240423_190101_SN26_QUICKVIEW_VISUAL_1_5_0_SATL-2KM-11N_418_3860.txt',\n",
       " 'session_4/annotations/20240127_190620_SN27_QUICKVIEW_VISUAL_1_1_10_SATL-2KM-11N_500_3600.txt',\n",
       " 'session_4/annotations/20240619_185757_SN24_QUICKVIEW_VISUAL_1_7_0_SATL-2KM-11N_528_3700.txt',\n",
       " 'session_4/annotations/20240203_173953_SN33_QUICKVIEW_VISUAL_1_1_10_SATL-2KM-11N_368_3756.txt',\n",
       " 'session_4/annotations/20240222_074256_SN26_QUICKVIEW_VISUAL_1_1_10_SATL-2KM-39N_564_2790.txt',\n",
       " 'session_4/annotations/20240619_052401_SN30_QUICKVIEW_VISUAL_1_7_0_SATL-2KM-52N_368_4336.txt',\n",
       " 'session_4/annotations/20240101_192856_SN24_QUICKVIEW_VISUAL_1_1_10_SATL-2KM-10N_552_4162.txt',\n",
       " 'session_4/annotations/20240616_213047_SN30_QUICKVIEW_VISUAL_1_7_0_SATL-2KM-11N_464_3830.txt',\n",
       " 'session_4/annotations/20240412_191539_631044_MS_NS24_QUICKVIEW_VISUAL_1_3_0_SATL-2KM-11N_258_4036.txt',\n",
       " 'session_4/annotations/20240402_184757_SN24_QUICKVIEW_VISUAL_1_2_0_SATL-2KM-11N_486_3636.txt',\n",
       " 'session_4/annotations/20240222_074155_SN26_QUICKVIEW_VISUAL_1_1_10_SATL-2KM-39N_556_2792.txt',\n",
       " 'session_4/annotations/20240616_102144_SN28_QUICKVIEW_VISUAL_1_7_0_SATL-2KM-39N_560_2792.txt',\n",
       " 'session_4/annotations/20240201_075143_SN26_QUICKVIEW_VISUAL_1_1_10_SATL-2KM-39N_556_2792.txt',\n",
       " 'session_4/annotations/20240223_025420_SN24_QUICKVIEW_VISUAL_1_1_10_SATL-2KM-51N_686_4422.txt',\n",
       " 'session_4/annotations/20240516_211630_SN28_QUICKVIEW_VISUAL_1_5_0_SATL-2KM-11N_716_3848.txt',\n",
       " 'session_4/annotations/20240317_215115_SN28_QUICKVIEW_VISUAL_1_2_0_SATL-2KM-10N_554_4162.txt',\n",
       " 'session_4/annotations/20240325_173936_SN33_QUICKVIEW_VISUAL_1_2_0_SATL-2KM-11N_378_3722.txt',\n",
       " 'session_4/annotations/20240228_213951_SN29_QUICKVIEW_VISUAL_1_1_10_SATL-2KM-11N_248_4068.txt',\n",
       " 'session_4/annotations/20240222_074155_SN26_QUICKVIEW_VISUAL_1_1_10_SATL-2KM-39N_562_2792.txt',\n",
       " 'session_4/annotations/20240617_052859_SN29_QUICKVIEW_VISUAL_1_7_0_SATL-2KM-51N_730_4348.txt',\n",
       " 'session_4/annotations/20240608_214614_SN29_QUICKVIEW_VISUAL_1_7_0_SATL-2KM-11N_248_4068.txt',\n",
       " 'session_4/annotations/20240304_212824_SN30_QUICKVIEW_VISUAL_1_2_0_SATL-2KM-11N_378_3722.txt',\n",
       " 'session_4/annotations/20240617_211350_SN29_QUICKVIEW_VISUAL_1_7_0_SATL-2KM-11N_724_3614.txt',\n",
       " 'session_4/annotations/20240127_190620_SN27_QUICKVIEW_VISUAL_1_1_10_SATL-2KM-11N_500_3602.txt',\n",
       " 'session_4/annotations/20240423_190101_SN26_QUICKVIEW_VISUAL_1_5_0_SATL-2KM-11N_418_3862.txt',\n",
       " 'session_4/annotations/20240606_180251_SN33_QUICKVIEW_VISUAL_1_7_0_SATL-2KM-10N_556_4180.txt',\n",
       " 'session_4/annotations/20240613_214203_SN43_QUICKVIEW_VISUAL_1_7_0_SATL-2KM-11N_384_3750.txt',\n",
       " 'session_4/annotations/20240314_220020_SN30_QUICKVIEW_VISUAL_1_2_0_SATL-2KM-10N_544_4186.txt',\n",
       " 'session_4/annotations/20240611_025943_SN26_QUICKVIEW_VISUAL_1_7_0_SATL-2KM-51N_748_4364.txt',\n",
       " 'session_4/annotations/20240322_184801_SN24_QUICKVIEW_VISUAL_1_2_0_SATL-2KM-11N_500_3632.txt',\n",
       " 'session_4/annotations/20240410_214321_024179_MS_NS30_QUICKVIEW_VISUAL_1_3_0_SATL-2KM-11N_296_3786.txt',\n",
       " 'session_4/annotations/20240616_081345_SN27_QUICKVIEW_VISUAL_1_7_0_SATL-2KM-39N_562_2794.txt',\n",
       " 'session_4/annotations/20240308_211248_SN29_QUICKVIEW_VISUAL_1_2_0_SATL-2KM-11N_718_3640.txt',\n",
       " 'session_4/annotations/20240101_192856_SN24_QUICKVIEW_VISUAL_1_1_10_SATL-2KM-10N_554_4162.txt',\n",
       " 'session_4/annotations/20240428_215426_SN43_QUICKVIEW_VISUAL_1_5_0_SATL-2KM-10N_630_4264.txt',\n",
       " 'session_4/annotations/20240427_221308_SN31_QUICKVIEW_VISUAL_1_5_0_SATL-2KM-10N_722_3848.txt',\n",
       " 'session_4/annotations/20240201_075140_SN26_QUICKVIEW_VISUAL_1_1_10_SATL-2KM-39N_560_2792.txt',\n",
       " 'session_4/annotations/20240514_052716_SN43_QUICKVIEW_VISUAL_1_5_0_SATL-2KM-51N_730_4342.txt',\n",
       " 'session_4/annotations/20240213_212524_SN29_QUICKVIEW_VISUAL_1_1_10_SATL-2KM-11N_544_3742.txt',\n",
       " 'session_4/annotations/20240609_214259_SN30_QUICKVIEW_VISUAL_1_7_0_SATL-2KM-11N_262_4052.txt',\n",
       " 'session_4/annotations/20240410_214305_399233_MS_NS43_QUICKVIEW_VISUAL_1_3_0_SATL-2KM-11N_380_3764.txt',\n",
       " 'session_4/annotations/20240604_214955_SN29_QUICKVIEW_VISUAL_1_7_0_SATL-2KM-10N_594_4136.txt',\n",
       " 'session_4/annotations/20240423_190101_SN26_QUICKVIEW_VISUAL_1_5_0_SATL-2KM-11N_414_3862.txt',\n",
       " 'session_4/annotations/20240213_212524_SN29_QUICKVIEW_VISUAL_1_1_10_SATL-2KM-11N_540_3748.txt',\n",
       " 'session_4/annotations/20240613_192217_SN26_QUICKVIEW_VISUAL_1_7_0_SATL-2KM-10N_560_4178.txt',\n",
       " 'session_4/annotations/20240101_213601_SN31_QUICKVIEW_VISUAL_1_1_10_SATL-2KM-11N_392_3740.txt',\n",
       " 'session_4/annotations/20240317_215115_SN28_QUICKVIEW_VISUAL_1_2_0_SATL-2KM-10N_552_4162.txt',\n",
       " 'session_4/annotations/20240401_032415_SN27_QUICKVIEW_VISUAL_1_2_0_SATL-2KM-51N_688_4420.txt',\n",
       " 'session_4/annotations/20240503_214759_SN28_QUICKVIEW_VISUAL_1_5_0_SATL-2KM-11N_376_3724.txt',\n",
       " 'session_4/annotations/20240519_184534_SN24_QUICKVIEW_VISUAL_1_5_0_SATL-2KM-11N_658_3700.txt',\n",
       " 'session_4/annotations/20240615_173631_SN33_QUICKVIEW_VISUAL_1_7_0_SATL-2KM-11N_546_3742.txt',\n",
       " 'session_4/annotations/20240314_220020_SN30_QUICKVIEW_VISUAL_1_2_0_SATL-2KM-10N_550_4202.txt',\n",
       " 'session_4/annotations/20240219_214312_SN28_QUICKVIEW_VISUAL_1_1_10_SATL-2KM-11N_252_3954.txt',\n",
       " 'session_4/annotations/20240101_213601_SN31_QUICKVIEW_VISUAL_1_1_10_SATL-2KM-11N_392_3742.txt',\n",
       " 'session_4/annotations/20240408_211552_958249_MS_NS29_QUICKVIEW_VISUAL_1_3_0_SATL-2KM-11N_734_3742.txt',\n",
       " 'session_4/annotations/20240623_215120_SN29_QUICKVIEW_VISUAL_1_7_0_SATL-2KM-10N_596_4134.txt',\n",
       " 'session_4/annotations/20240128_213258_SN29_QUICKVIEW_VISUAL_1_1_10_SATL-2KM-11N_418_3864.txt',\n",
       " 'session_4/annotations/20240612_185400_SN24_QUICKVIEW_VISUAL_1_7_0_SATL-2KM-11N_576_3720.txt',\n",
       " 'session_4/annotations/20240612_053829_SN28_QUICKVIEW_VISUAL_1_7_0_SATL-2KM-51N_686_4422.txt',\n",
       " 'session_4/annotations/20240521_101252_SN43_QUICKVIEW_VISUAL_1_6_0_SATL-2KM-39N_556_2792.txt',\n",
       " 'session_4/annotations/20240616_102144_SN28_QUICKVIEW_VISUAL_1_7_0_SATL-2KM-39N_558_2794.txt',\n",
       " 'session_4/annotations/20240616_081345_SN27_QUICKVIEW_VISUAL_1_7_0_SATL-2KM-39N_562_2792.txt',\n",
       " 'session_4/annotations/20240428_215426_SN43_QUICKVIEW_VISUAL_1_5_0_SATL-2KM-10N_630_4262.txt',\n",
       " 'session_4/annotations/20240201_075140_SN26_QUICKVIEW_VISUAL_1_1_10_SATL-2KM-39N_560_2794.txt',\n",
       " 'session_4/annotations/20240428_215426_SN43_QUICKVIEW_VISUAL_1_5_0_SATL-2KM-10N_634_4282.txt',\n",
       " 'session_4/annotations/20240216_213630_SN31_QUICKVIEW_VISUAL_1_1_10_SATL-2KM-11N_418_3724.txt',\n",
       " 'session_4/annotations/20240616_213047_SN30_QUICKVIEW_VISUAL_1_7_0_SATL-2KM-11N_466_3828.txt',\n",
       " 'session_4/annotations/20240619_215556_SN29_QUICKVIEW_VISUAL_1_7_0_SATL-2KM-10N_742_4460.txt',\n",
       " 'session_4/annotations/20240317_215115_SN28_QUICKVIEW_VISUAL_1_2_0_SATL-2KM-10N_552_4164.txt',\n",
       " 'session_4/annotations/20240222_074151_SN26_QUICKVIEW_VISUAL_1_1_10_SATL-2KM-39N_558_2796.txt',\n",
       " 'session_4/annotations/20240510_191914_SN27_QUICKVIEW_VISUAL_1_5_0_SATL-2KM-11N_712_3566.txt',\n",
       " 'session_4/annotations/20240528_191604_SN24_QUICKVIEW_VISUAL_1_6_0_SATL-2KM-11N_344_3836.txt',\n",
       " 'session_4/annotations/20240611_215323_SN30_QUICKVIEW_VISUAL_1_7_0_SATL-2KM-10N_702_3948.txt',\n",
       " 'session_4/annotations/20240613_053340_SN29_QUICKVIEW_VISUAL_1_7_0_SATL-2KM-51N_728_4342.txt',\n",
       " 'session_4/annotations/20240612_185419_SN24_QUICKVIEW_VISUAL_1_7_0_SATL-2KM-11N_554_3610.txt',\n",
       " 'session_4/annotations/20240201_075140_SN26_QUICKVIEW_VISUAL_1_1_10_SATL-2KM-39N_560_2796.txt',\n",
       " 'session_4/annotations/20240208_184650_SN24_QUICKVIEW_VISUAL_1_1_10_SATL-2KM-11N_624_3632.txt',\n",
       " 'session_4/annotations/20240128_213258_SN29_QUICKVIEW_VISUAL_1_1_10_SATL-2KM-11N_418_3862.txt',\n",
       " 'session_4/annotations/20240214_184340_SN24_QUICKVIEW_VISUAL_1_1_10_SATL-2KM-11N_688_3630.txt',\n",
       " 'session_4/annotations/20240412_191539_377035_MS_NS24_QUICKVIEW_VISUAL_1_3_0_SATL-2KM-11N_258_4038.txt',\n",
       " 'session_4/annotations/20240509_212336_SN29_QUICKVIEW_VISUAL_1_5_0_SATL-2KM-11N_706_3778.txt',\n",
       " 'session_4/annotations/20240508_194502_SN27_QUICKVIEW_VISUAL_1_5_0_SATL-2KM-11N_262_4022.txt',\n",
       " 'session_4/annotations/20240130_215036_SN31_QUICKVIEW_VISUAL_1_1_10_SATL-2KM-11N_366_3756.txt',\n",
       " 'session_4/annotations/20240212_213506_SN31_QUICKVIEW_VISUAL_1_1_10_SATL-2KM-11N_408_3712.txt',\n",
       " 'session_4/annotations/20240519_214917_SN31_QUICKVIEW_VISUAL_1_5_0_SATL-2KM-11N_500_3600.txt',\n",
       " 'session_4/annotations/20240612_053829_SN28_QUICKVIEW_VISUAL_1_7_0_SATL-2KM-51N_688_4420.txt',\n",
       " 'session_4/annotations/20240222_074155_SN26_QUICKVIEW_VISUAL_1_1_10_SATL-2KM-39N_560_2792.txt',\n",
       " 'session_4/annotations/20240616_213047_SN30_QUICKVIEW_VISUAL_1_7_0_SATL-2KM-11N_466_3826.txt',\n",
       " 'session_4/annotations/20240612_185400_SN24_QUICKVIEW_VISUAL_1_7_0_SATL-2KM-11N_578_3722.txt',\n",
       " 'session_4/annotations/20240610_191018_SN26_QUICKVIEW_VISUAL_1_7_0_SATL-2KM-11N_384_3750.txt',\n",
       " 'session_4/annotations/20240401_175918_SN33_QUICKVIEW_VISUAL_1_2_0_SATL-2KM-10N_542_4168.txt',\n",
       " 'session_4/annotations/20240127_190620_SN27_QUICKVIEW_VISUAL_1_1_10_SATL-2KM-11N_502_3602.txt',\n",
       " 'session_4/annotations/20240513_212022_SN29_QUICKVIEW_VISUAL_1_5_0_SATL-2KM-11N_630_3742.txt',\n",
       " 'session_4/annotations/20240222_212250_SN30_QUICKVIEW_VISUAL_1_1_10_SATL-2KM-11N_382_3722.txt',\n",
       " 'session_4/annotations/20240127_190620_SN27_QUICKVIEW_VISUAL_1_1_10_SATL-2KM-11N_502_3600.txt',\n",
       " 'session_4/annotations/20240308_191212_SN27_QUICKVIEW_VISUAL_1_2_0_SATL-2KM-11N_506_3614.txt',\n",
       " 'session_4/annotations/20240613_053340_SN29_QUICKVIEW_VISUAL_1_7_0_SATL-2KM-51N_730_4342.txt',\n",
       " 'session_4/annotations/20240516_190328_SN24_QUICKVIEW_VISUAL_1_5_0_SATL-2KM-11N_262_4052.txt',\n",
       " 'session_4/annotations/20240221_190608_SN26_QUICKVIEW_VISUAL_1_1_10_SATL-2KM-11N_380_3764.txt',\n",
       " 'session_4/annotations/20240209_212744_SN29_QUICKVIEW_VISUAL_1_1_10_SATL-2KM-11N_380_3722.txt',\n",
       " 'session_4/annotations/20240412_191549_672087_MS_NS24_QUICKVIEW_VISUAL_1_3_0_SATL-2KM-11N_240_3966.txt',\n",
       " 'session_4/annotations/20240519_214917_SN31_QUICKVIEW_VISUAL_1_5_0_SATL-2KM-11N_500_3602.txt',\n",
       " 'session_4/annotations/20240616_102144_SN28_QUICKVIEW_VISUAL_1_7_0_SATL-2KM-39N_556_2794.txt',\n",
       " 'session_4/annotations/20240618_215539_SN31_QUICKVIEW_VISUAL_1_7_0_SATL-2KM-11N_452_3740.txt',\n",
       " 'session_4/annotations/20240623_215102_SN43_QUICKVIEW_VISUAL_1_7_0_SATL-2KM-11N_384_3750.txt',\n",
       " 'session_4/annotations/20240521_101252_SN43_QUICKVIEW_VISUAL_1_6_0_SATL-2KM-39N_558_2796.txt',\n",
       " 'session_4/annotations/20240607_200250_SN27_QUICKVIEW_VISUAL_1_7_0_SATL-2KM-10N_554_4172.txt',\n",
       " 'session_4/annotations/20240426_215224_SN29_QUICKVIEW_VISUAL_1_5_0_SATL-2KM-11N_244_3818.txt',\n",
       " 'session_4/annotations/20240510_191908_SN27_QUICKVIEW_VISUAL_1_5_0_SATL-2KM-11N_718_3608.txt',\n",
       " 'session_4/annotations/20240222_074151_SN26_QUICKVIEW_VISUAL_1_1_10_SATL-2KM-39N_556_2794.txt',\n",
       " 'session_4/annotations/20240618_215539_SN31_QUICKVIEW_VISUAL_1_7_0_SATL-2KM-11N_458_3756.txt',\n",
       " 'session_4/annotations/20240602_215203_SN30_QUICKVIEW_VISUAL_1_6_0_SATL-2KM-10N_714_3948.txt',\n",
       " 'session_4/annotations/20240130_173903_SN33_QUICKVIEW_VISUAL_1_1_10_SATL-2KM-11N_360_3748.txt',\n",
       " 'session_4/annotations/20240202_191114_SN27_QUICKVIEW_VISUAL_1_1_10_SATL-2KM-11N_718_3608.txt',\n",
       " 'session_4/annotations/20240401_175918_SN33_QUICKVIEW_VISUAL_1_2_0_SATL-2KM-10N_546_4206.txt',\n",
       " 'session_4/annotations/20240202_184725_SN24_QUICKVIEW_VISUAL_1_1_10_SATL-2KM-11N_624_3630.txt',\n",
       " 'session_4/annotations/20240130_173903_SN33_QUICKVIEW_VISUAL_1_1_10_SATL-2KM-11N_364_3754.txt',\n",
       " 'session_4/annotations/20240222_074151_SN26_QUICKVIEW_VISUAL_1_1_10_SATL-2KM-39N_562_2794.txt',\n",
       " 'session_4/annotations/20240519_214917_SN31_QUICKVIEW_VISUAL_1_5_0_SATL-2KM-11N_500_3598.txt',\n",
       " 'session_4/annotations/20240101_213601_SN31_QUICKVIEW_VISUAL_1_1_10_SATL-2KM-11N_396_3752.txt',\n",
       " 'session_4/annotations/20240224_214855_SN30_QUICKVIEW_VISUAL_1_1_10_SATL-2KM-10N_552_4162.txt',\n",
       " 'session_4/annotations/20240227_214218_SN30_QUICKVIEW_VISUAL_1_1_10_SATL-2KM-10N_562_4170.txt',\n",
       " 'session_4/annotations/20240321_220846_SN31_QUICKVIEW_VISUAL_1_2_0_SATL-2KM-10N_560_4178.txt',\n",
       " 'session_4/annotations/20240112_192510_SN27_QUICKVIEW_VISUAL_1_1_10_SATL-2KM-11N_386_3750.txt',\n",
       " 'session_4/annotations/20240617_184443_SN24_QUICKVIEW_VISUAL_1_7_0_SATL-2KM-11N_702_3566.txt',\n",
       " 'session_4/annotations/20240201_075140_SN26_QUICKVIEW_VISUAL_1_1_10_SATL-2KM-39N_556_2794.txt',\n",
       " 'session_4/annotations/20240115_213834_SN28_QUICKVIEW_VISUAL_1_1_10_SATL-2KM-11N_380_3724.txt',\n",
       " 'session_4/annotations/20240407_190149_742846_MS_NS24_QUICKVIEW_VISUAL_1_3_0_SATL-2KM-11N_258_4028.txt',\n",
       " 'session_4/annotations/20240524_213504_SN29_QUICKVIEW_VISUAL_1_6_0_SATL-2KM-11N_380_3724.txt',\n",
       " 'session_4/annotations/20240402_215427_SN31_QUICKVIEW_VISUAL_1_2_0_SATL-2KM-11N_502_3600.txt',\n",
       " 'session_4/annotations/20240506_213507_SN43_QUICKVIEW_VISUAL_1_5_0_SATL-2KM-11N_384_3750.txt',\n",
       " 'session_4/annotations/20240222_074155_SN26_QUICKVIEW_VISUAL_1_1_10_SATL-2KM-39N_558_2794.txt',\n",
       " 'session_4/annotations/20240602_215203_SN30_QUICKVIEW_VISUAL_1_6_0_SATL-2KM-10N_712_3948.txt',\n",
       " 'session_4/annotations/20240110_192002_SN27_QUICKVIEW_VISUAL_1_1_10_SATL-2KM-11N_380_3728.txt',\n",
       " 'session_4/annotations/20240211_211057_SN30_QUICKVIEW_VISUAL_1_1_10_SATL-2KM-11N_700_3690.txt',\n",
       " 'session_4/annotations/20240428_215557_SN43_QUICKVIEW_VISUAL_1_5_0_SATL-2KM-10N_726_3862.txt',\n",
       " 'session_4/annotations/20240616_081345_SN27_QUICKVIEW_VISUAL_1_7_0_SATL-2KM-39N_560_2792.txt',\n",
       " 'session_4/annotations/20240616_213047_SN30_QUICKVIEW_VISUAL_1_7_0_SATL-2KM-11N_464_3828.txt',\n",
       " 'session_4/annotations/20240423_190101_SN26_QUICKVIEW_VISUAL_1_5_0_SATL-2KM-11N_416_3864.txt',\n",
       " 'session_4/annotations/20240201_075140_SN26_QUICKVIEW_VISUAL_1_1_10_SATL-2KM-39N_562_2794.txt',\n",
       " 'session_4/annotations/20240420_181053_341939_MS_NS33_QUICKVIEW_VISUAL_1_3_0_SATL-2KM-10N_556_4180.txt',\n",
       " 'session_4/annotations/20240618_193146_SN27_QUICKVIEW_VISUAL_1_7_0_SATL-2KM-11N_530_3682.txt',\n",
       " 'session_4/annotations/20240201_075143_SN26_QUICKVIEW_VISUAL_1_1_10_SATL-2KM-39N_562_2788.txt',\n",
       " 'session_4/annotations/20240224_214855_SN30_QUICKVIEW_VISUAL_1_1_10_SATL-2KM-10N_554_4162.txt',\n",
       " 'session_4/annotations/20240402_184757_SN24_QUICKVIEW_VISUAL_1_2_0_SATL-2KM-11N_490_3638.txt',\n",
       " 'session_4/annotations/20240203_173953_SN33_QUICKVIEW_VISUAL_1_1_10_SATL-2KM-11N_366_3756.txt',\n",
       " 'session_4/annotations/20240614_221436_SN31_QUICKVIEW_VISUAL_1_7_0_SATL-2KM-10N_558_4184.txt',\n",
       " 'session_4/annotations/20240412_052750_556466_MS_NS29_QUICKVIEW_VISUAL_1_3_0_SATL-2KM-51N_688_4420.txt',\n",
       " 'session_4/annotations/20240428_191026_SN24_QUICKVIEW_VISUAL_1_5_0_SATL-2KM-11N_380_3722.txt',\n",
       " 'session_4/annotations/20240605_212717_SN29_QUICKVIEW_VISUAL_1_7_0_SATL-2KM-11N_718_3608.txt',\n",
       " 'session_4/annotations/20240201_075140_SN26_QUICKVIEW_VISUAL_1_1_10_SATL-2KM-39N_556_2792.txt',\n",
       " 'session_4/annotations/20240520_194539_SN27_QUICKVIEW_VISUAL_1_5_0_SATL-2KM-10N_638_4280.txt',\n",
       " 'session_4/annotations/20240401_175925_SN33_QUICKVIEW_VISUAL_1_2_0_SATL-2KM-10N_542_4168.txt',\n",
       " 'session_4/annotations/20240322_184801_SN24_QUICKVIEW_VISUAL_1_2_0_SATL-2KM-11N_502_3632.txt',\n",
       " 'session_4/annotations/20240402_215421_SN31_QUICKVIEW_VISUAL_1_2_0_SATL-2KM-11N_500_3632.txt',\n",
       " 'session_4/annotations/20240609_191744_SN24_QUICKVIEW_VISUAL_1_7_0_SATL-2KM-10N_564_4194.txt',\n",
       " 'session_4/annotations/20240102_185605_SN27_QUICKVIEW_VISUAL_1_1_10_SATL-2KM-11N_690_3572.txt',\n",
       " 'session_4/annotations/20240520_194539_SN27_QUICKVIEW_VISUAL_1_5_0_SATL-2KM-10N_638_4282.txt',\n",
       " 'session_4/annotations/20240616_081345_SN27_QUICKVIEW_VISUAL_1_7_0_SATL-2KM-39N_560_2794.txt',\n",
       " 'session_4/annotations/20240524_213504_SN29_QUICKVIEW_VISUAL_1_6_0_SATL-2KM-11N_378_3724.txt',\n",
       " 'session_4/annotations/20240423_190101_SN26_QUICKVIEW_VISUAL_1_5_0_SATL-2KM-11N_416_3862.txt',\n",
       " 'session_4/annotations/20240201_075140_SN26_QUICKVIEW_VISUAL_1_1_10_SATL-2KM-39N_562_2792.txt',\n",
       " 'session_4/annotations/20240609_191959_SN27_QUICKVIEW_VISUAL_1_7_0_SATL-2KM-11N_702_3540.txt',\n",
       " 'session_4/annotations/20240507_191326_SN27_QUICKVIEW_VISUAL_1_5_0_SATL-2KM-11N_718_3608.txt',\n",
       " 'session_4/annotations/20240321_190819_SN27_QUICKVIEW_VISUAL_1_2_0_SATL-2KM-11N_714_3632.txt']"
      ]
     },
     "execution_count": 39,
     "metadata": {},
     "output_type": "execute_result"
    }
   ],
   "source": [
    "# It does provide a great tool to list all the files within a folder, and also do it recursively\n",
    "glob.glob('session_4/**/*.txt', recursive=True)"
   ]
  },
  {
   "cell_type": "markdown",
   "id": "1a9d64c6",
   "metadata": {
    "slideshow": {
     "slide_type": "slide"
    }
   },
   "source": [
    "## Basic Libraries I\n",
    "\n",
    "Let's finally work with shutil. This library provides the usual bash commands you have in your terminal."
   ]
  },
  {
   "cell_type": "code",
   "execution_count": 2,
   "id": "6047c936",
   "metadata": {
    "slideshow": {
     "slide_type": "subslide"
    }
   },
   "outputs": [],
   "source": [
    "import shutil as sh"
   ]
  },
  {
   "cell_type": "code",
   "execution_count": 5,
   "id": "e6b1da2b",
   "metadata": {},
   "outputs": [],
   "source": [
    "import os\n",
    "os.makedirs('session_4', exist_ok=True)"
   ]
  },
  {
   "cell_type": "code",
   "execution_count": 6,
   "id": "8a055162",
   "metadata": {
    "slideshow": {
     "slide_type": "fragment"
    }
   },
   "outputs": [
    {
     "ename": "FileNotFoundError",
     "evalue": "[Errno 2] No such file or directory: 'slides_install_guide.txt'",
     "output_type": "error",
     "traceback": [
      "\u001b[0;31m---------------------------------------------------------------------------\u001b[0m",
      "\u001b[0;31mFileNotFoundError\u001b[0m                         Traceback (most recent call last)",
      "Cell \u001b[0;32mIn[6], line 2\u001b[0m\n\u001b[1;32m      1\u001b[0m \u001b[38;5;66;03m# Copy a file into a new place\u001b[39;00m\n\u001b[0;32m----> 2\u001b[0m \u001b[43msh\u001b[49m\u001b[38;5;241;43m.\u001b[39;49m\u001b[43mcopy\u001b[49m\u001b[43m(\u001b[49m\u001b[38;5;124;43m'\u001b[39;49m\u001b[38;5;124;43mslides_install_guide.txt\u001b[39;49m\u001b[38;5;124;43m'\u001b[39;49m\u001b[43m,\u001b[49m\u001b[43m \u001b[49m\u001b[38;5;124;43m'\u001b[39;49m\u001b[38;5;124;43msession_4/\u001b[39;49m\u001b[38;5;124;43m'\u001b[39;49m\u001b[43m)\u001b[49m\n",
      "File \u001b[0;32m~/.pyenv/versions/3.10.15/lib/python3.10/shutil.py:417\u001b[0m, in \u001b[0;36mcopy\u001b[0;34m(src, dst, follow_symlinks)\u001b[0m\n\u001b[1;32m    415\u001b[0m \u001b[38;5;28;01mif\u001b[39;00m os\u001b[38;5;241m.\u001b[39mpath\u001b[38;5;241m.\u001b[39misdir(dst):\n\u001b[1;32m    416\u001b[0m     dst \u001b[38;5;241m=\u001b[39m os\u001b[38;5;241m.\u001b[39mpath\u001b[38;5;241m.\u001b[39mjoin(dst, os\u001b[38;5;241m.\u001b[39mpath\u001b[38;5;241m.\u001b[39mbasename(src))\n\u001b[0;32m--> 417\u001b[0m \u001b[43mcopyfile\u001b[49m\u001b[43m(\u001b[49m\u001b[43msrc\u001b[49m\u001b[43m,\u001b[49m\u001b[43m \u001b[49m\u001b[43mdst\u001b[49m\u001b[43m,\u001b[49m\u001b[43m \u001b[49m\u001b[43mfollow_symlinks\u001b[49m\u001b[38;5;241;43m=\u001b[39;49m\u001b[43mfollow_symlinks\u001b[49m\u001b[43m)\u001b[49m\n\u001b[1;32m    418\u001b[0m copymode(src, dst, follow_symlinks\u001b[38;5;241m=\u001b[39mfollow_symlinks)\n\u001b[1;32m    419\u001b[0m \u001b[38;5;28;01mreturn\u001b[39;00m dst\n",
      "File \u001b[0;32m~/.pyenv/versions/3.10.15/lib/python3.10/shutil.py:254\u001b[0m, in \u001b[0;36mcopyfile\u001b[0;34m(src, dst, follow_symlinks)\u001b[0m\n\u001b[1;32m    252\u001b[0m     os\u001b[38;5;241m.\u001b[39msymlink(os\u001b[38;5;241m.\u001b[39mreadlink(src), dst)\n\u001b[1;32m    253\u001b[0m \u001b[38;5;28;01melse\u001b[39;00m:\n\u001b[0;32m--> 254\u001b[0m     \u001b[38;5;28;01mwith\u001b[39;00m \u001b[38;5;28;43mopen\u001b[39;49m\u001b[43m(\u001b[49m\u001b[43msrc\u001b[49m\u001b[43m,\u001b[49m\u001b[43m \u001b[49m\u001b[38;5;124;43m'\u001b[39;49m\u001b[38;5;124;43mrb\u001b[39;49m\u001b[38;5;124;43m'\u001b[39;49m\u001b[43m)\u001b[49m \u001b[38;5;28;01mas\u001b[39;00m fsrc:\n\u001b[1;32m    255\u001b[0m         \u001b[38;5;28;01mtry\u001b[39;00m:\n\u001b[1;32m    256\u001b[0m             \u001b[38;5;28;01mwith\u001b[39;00m \u001b[38;5;28mopen\u001b[39m(dst, \u001b[38;5;124m'\u001b[39m\u001b[38;5;124mwb\u001b[39m\u001b[38;5;124m'\u001b[39m) \u001b[38;5;28;01mas\u001b[39;00m fdst:\n\u001b[1;32m    257\u001b[0m                 \u001b[38;5;66;03m# macOS\u001b[39;00m\n",
      "\u001b[0;31mFileNotFoundError\u001b[0m: [Errno 2] No such file or directory: 'slides_install_guide.txt'"
     ]
    }
   ],
   "source": [
    "# Copy a file into a new place\n",
    "sh.copy('slides_install_guide.txt', 'session_4/')"
   ]
  },
  {
   "cell_type": "code",
   "execution_count": 8,
   "id": "d4fb4d5b",
   "metadata": {
    "slideshow": {
     "slide_type": "fragment"
    }
   },
   "outputs": [
    {
     "name": "stdout",
     "output_type": "stream",
     "text": [
      "['.DS_Store', 'annotations']\n"
     ]
    }
   ],
   "source": [
    "# instead of listing the current directory, os.listdir('.'), we can\n",
    "# ls session_4/\n",
    "import os\n",
    "\n",
    "# List contents of 'session_4' directory\n",
    "if os.path.exists('session_4'):\n",
    "    print(os.listdir('session_4'))\n",
    "else:\n",
    "    print(\"Directory 'session_4' does not exist.\")"
   ]
  },
  {
   "cell_type": "code",
   "execution_count": 9,
   "id": "41826fed",
   "metadata": {
    "slideshow": {
     "slide_type": "fragment"
    }
   },
   "outputs": [
    {
     "ename": "FileNotFoundError",
     "evalue": "[Errno 2] No such file or directory: 'session_4/slides_install_guide.txt'",
     "output_type": "error",
     "traceback": [
      "\u001b[0;31m---------------------------------------------------------------------------\u001b[0m",
      "\u001b[0;31mFileNotFoundError\u001b[0m                         Traceback (most recent call last)",
      "File \u001b[0;32m~/.pyenv/versions/3.10.15/lib/python3.10/shutil.py:816\u001b[0m, in \u001b[0;36mmove\u001b[0;34m(src, dst, copy_function)\u001b[0m\n\u001b[1;32m    815\u001b[0m \u001b[38;5;28;01mtry\u001b[39;00m:\n\u001b[0;32m--> 816\u001b[0m     \u001b[43mos\u001b[49m\u001b[38;5;241;43m.\u001b[39;49m\u001b[43mrename\u001b[49m\u001b[43m(\u001b[49m\u001b[43msrc\u001b[49m\u001b[43m,\u001b[49m\u001b[43m \u001b[49m\u001b[43mreal_dst\u001b[49m\u001b[43m)\u001b[49m\n\u001b[1;32m    817\u001b[0m \u001b[38;5;28;01mexcept\u001b[39;00m \u001b[38;5;167;01mOSError\u001b[39;00m:\n",
      "\u001b[0;31mFileNotFoundError\u001b[0m: [Errno 2] No such file or directory: 'session_4/slides_install_guide.txt' -> 'slides_install_guide_copy.txt'",
      "\nDuring handling of the above exception, another exception occurred:\n",
      "\u001b[0;31mFileNotFoundError\u001b[0m                         Traceback (most recent call last)",
      "Cell \u001b[0;32mIn[9], line 2\u001b[0m\n\u001b[1;32m      1\u001b[0m \u001b[38;5;66;03m# Move it now outside this folder\u001b[39;00m\n\u001b[0;32m----> 2\u001b[0m \u001b[43msh\u001b[49m\u001b[38;5;241;43m.\u001b[39;49m\u001b[43mmove\u001b[49m\u001b[43m(\u001b[49m\u001b[38;5;124;43m'\u001b[39;49m\u001b[38;5;124;43msession_4/slides_install_guide.txt\u001b[39;49m\u001b[38;5;124;43m'\u001b[39;49m\u001b[43m,\u001b[49m\u001b[43m \u001b[49m\u001b[38;5;124;43m'\u001b[39;49m\u001b[38;5;124;43mslides_install_guide_copy.txt\u001b[39;49m\u001b[38;5;124;43m'\u001b[39;49m\u001b[43m)\u001b[49m\n",
      "File \u001b[0;32m~/.pyenv/versions/3.10.15/lib/python3.10/shutil.py:836\u001b[0m, in \u001b[0;36mmove\u001b[0;34m(src, dst, copy_function)\u001b[0m\n\u001b[1;32m    834\u001b[0m         rmtree(src)\n\u001b[1;32m    835\u001b[0m     \u001b[38;5;28;01melse\u001b[39;00m:\n\u001b[0;32m--> 836\u001b[0m         \u001b[43mcopy_function\u001b[49m\u001b[43m(\u001b[49m\u001b[43msrc\u001b[49m\u001b[43m,\u001b[49m\u001b[43m \u001b[49m\u001b[43mreal_dst\u001b[49m\u001b[43m)\u001b[49m\n\u001b[1;32m    837\u001b[0m         os\u001b[38;5;241m.\u001b[39munlink(src)\n\u001b[1;32m    838\u001b[0m \u001b[38;5;28;01mreturn\u001b[39;00m real_dst\n",
      "File \u001b[0;32m~/.pyenv/versions/3.10.15/lib/python3.10/shutil.py:434\u001b[0m, in \u001b[0;36mcopy2\u001b[0;34m(src, dst, follow_symlinks)\u001b[0m\n\u001b[1;32m    432\u001b[0m \u001b[38;5;28;01mif\u001b[39;00m os\u001b[38;5;241m.\u001b[39mpath\u001b[38;5;241m.\u001b[39misdir(dst):\n\u001b[1;32m    433\u001b[0m     dst \u001b[38;5;241m=\u001b[39m os\u001b[38;5;241m.\u001b[39mpath\u001b[38;5;241m.\u001b[39mjoin(dst, os\u001b[38;5;241m.\u001b[39mpath\u001b[38;5;241m.\u001b[39mbasename(src))\n\u001b[0;32m--> 434\u001b[0m \u001b[43mcopyfile\u001b[49m\u001b[43m(\u001b[49m\u001b[43msrc\u001b[49m\u001b[43m,\u001b[49m\u001b[43m \u001b[49m\u001b[43mdst\u001b[49m\u001b[43m,\u001b[49m\u001b[43m \u001b[49m\u001b[43mfollow_symlinks\u001b[49m\u001b[38;5;241;43m=\u001b[39;49m\u001b[43mfollow_symlinks\u001b[49m\u001b[43m)\u001b[49m\n\u001b[1;32m    435\u001b[0m copystat(src, dst, follow_symlinks\u001b[38;5;241m=\u001b[39mfollow_symlinks)\n\u001b[1;32m    436\u001b[0m \u001b[38;5;28;01mreturn\u001b[39;00m dst\n",
      "File \u001b[0;32m~/.pyenv/versions/3.10.15/lib/python3.10/shutil.py:254\u001b[0m, in \u001b[0;36mcopyfile\u001b[0;34m(src, dst, follow_symlinks)\u001b[0m\n\u001b[1;32m    252\u001b[0m     os\u001b[38;5;241m.\u001b[39msymlink(os\u001b[38;5;241m.\u001b[39mreadlink(src), dst)\n\u001b[1;32m    253\u001b[0m \u001b[38;5;28;01melse\u001b[39;00m:\n\u001b[0;32m--> 254\u001b[0m     \u001b[38;5;28;01mwith\u001b[39;00m \u001b[38;5;28;43mopen\u001b[39;49m\u001b[43m(\u001b[49m\u001b[43msrc\u001b[49m\u001b[43m,\u001b[49m\u001b[43m \u001b[49m\u001b[38;5;124;43m'\u001b[39;49m\u001b[38;5;124;43mrb\u001b[39;49m\u001b[38;5;124;43m'\u001b[39;49m\u001b[43m)\u001b[49m \u001b[38;5;28;01mas\u001b[39;00m fsrc:\n\u001b[1;32m    255\u001b[0m         \u001b[38;5;28;01mtry\u001b[39;00m:\n\u001b[1;32m    256\u001b[0m             \u001b[38;5;28;01mwith\u001b[39;00m \u001b[38;5;28mopen\u001b[39m(dst, \u001b[38;5;124m'\u001b[39m\u001b[38;5;124mwb\u001b[39m\u001b[38;5;124m'\u001b[39m) \u001b[38;5;28;01mas\u001b[39;00m fdst:\n\u001b[1;32m    257\u001b[0m                 \u001b[38;5;66;03m# macOS\u001b[39;00m\n",
      "\u001b[0;31mFileNotFoundError\u001b[0m: [Errno 2] No such file or directory: 'session_4/slides_install_guide.txt'"
     ]
    }
   ],
   "source": [
    "# Move it now outside this folder\n",
    "sh.move('session_4/slides_install_guide.txt', 'slides_install_guide_copy.txt')"
   ]
  },
  {
   "cell_type": "code",
   "execution_count": 10,
   "id": "642343aa",
   "metadata": {
    "slideshow": {
     "slide_type": "fragment"
    }
   },
   "outputs": [
    {
     "name": "stdout",
     "output_type": "stream",
     "text": [
      "PDSClass1Exercises.ipynb        PDSClass5Notes&Exercises.ipynb\n",
      "PDSClass2Exercises.ipynb        README.md\n",
      "PDSClass3Notes&Exercises.ipynb  \u001b[34msession_4\u001b[m\u001b[m/\n",
      "PDSClass4Notes&Exercises.ipynb  session_4_array.npy\n"
     ]
    }
   ],
   "source": [
    "ls"
   ]
  },
  {
   "cell_type": "code",
   "execution_count": 11,
   "id": "2f19cb2d",
   "metadata": {
    "slideshow": {
     "slide_type": "fragment"
    }
   },
   "outputs": [],
   "source": [
    "# let's create a folder to remove later\n",
    "os.mkdir('folder_to_be_removed')"
   ]
  },
  {
   "cell_type": "code",
   "execution_count": 12,
   "id": "c8ab73eb",
   "metadata": {
    "slideshow": {
     "slide_type": "fragment"
    }
   },
   "outputs": [],
   "source": [
    "# Remove a folder and its content\n",
    "sh.rmtree('folder_to_be_removed/')"
   ]
  },
  {
   "cell_type": "markdown",
   "id": "06ef9072",
   "metadata": {
    "slideshow": {
     "slide_type": "slide"
    }
   },
   "source": [
    "## Basic Libraries I\n",
    "\n",
    "Let's jump into today's exercice."
   ]
  },
  {
   "cell_type": "markdown",
   "id": "7f74cd25",
   "metadata": {
    "slideshow": {
     "slide_type": "subslide"
    }
   },
   "source": [
    "### Exercise\n",
    "\n",
    "\n",
    "Given a zip file with a subfolder with multiple annotations, where the name convention for each one of them is: \n",
    "\n",
    "{DATE}_{TIME}_SN{SATELLITE_NUMBER}_QUICKVIEW_VISUAL_{VERSION}_{UNIQUE_REGION}.txt\n",
    "\n",
    "where:\n",
    "\n",
    "- DATE expressed as YYYYMMDD (year, month and day), e.g. 20241201, 20230321 ...\n",
    "- TIME expressed as HHMMSS (hour, minutes and seconds), e.g. 2134307\n",
    "- SATELLITE_NUMBER an integer that represents the satellite number.\n",
    "- VERSION provides the version of the pipeline, e.g. \"0_1_2\", \"1_3_1\" ...\n",
    "- UNIQUE_REGION provides a unique location in the form of a string, e.g SATL-2KM-10N_552_4164\n",
    "\n",
    "Find out the following thing about your data:\n",
    "\n",
    "1. How many files the annotations folder has.\n",
    "2. How many of them follow the name convention expressed above.\n",
    "3. How many of annotations you have per month and year. Which month has more annotation files.\n",
    "4. Create a new annotations folder with multiple folders corresponding to a month.\n",
    "5. Print all the annotations from the most recent to the oldest one. \n",
    "6. How many different satellites there are, how many annotations we have per satellite number, and which one was used in the most recent annotation file. \n",
    "7. How many unique regions there are.\n",
    "\n",
    "some tips:\n",
    "- str class has a method called split, you can use it to get each field per annotation.\n",
    "- you can use sort from numpy on strings."
   ]
  },
  {
   "cell_type": "code",
   "execution_count": null,
   "id": "24578b82",
   "metadata": {},
   "outputs": [
    {
     "name": "stdout",
     "output_type": "stream",
     "text": [
      "Number of files the annotation folder has: 206\n"
     ]
    }
   ],
   "source": [
    "# Exercise1: number of files the annotations folder has\n",
    "\n",
    "import os\n",
    "import glob\n",
    "\n",
    "total_files = len(glob.glob('session_4/**/*.txt', recursive=True)) #returns number of elements in the thing you want\n",
    "print(f'Number of files the annotation folder has: {total_files}')"
   ]
  },
  {
   "cell_type": "code",
   "execution_count": 4,
   "id": "05633b15",
   "metadata": {},
   "outputs": [
    {
     "name": "stdout",
     "output_type": "stream",
     "text": [
      "Number of files that follow the naming convention: 194\n"
     ]
    }
   ],
   "source": [
    "# Exercise2: Number of files that follow the naming convention\n",
    "\n",
    "import os\n",
    "import glob\n",
    "\n",
    "files = glob.glob('session_4/**/*.txt', recursive=True)\n",
    "\n",
    "counter_same = 0\n",
    "counter_notsame = 0\n",
    "\n",
    "for file in files:\n",
    "    file = os.path.basename(file)\n",
    "    file_split = file.split(\"_\")\n",
    "    \n",
    "    # DATE Check: should be 8 digits\n",
    "    date_check = len(file_split[0]) == 8 and file_split[0].isdigit()\n",
    "    \n",
    "    # TIME Check: should be 6 digits\n",
    "    time_check = len(file_split[1]) == 6 and file_split[1].isdigit()\n",
    "    \n",
    "    # SATELLITE NUMBER Check\n",
    "    sat_number_check = file_split[2].startswith(\"SN\") and file_split[2][2:].isdigit()\n",
    "    \n",
    "    # VERSION Check: Combine the parts and check if they contain only digits and dots\n",
    "    version = file_split[5] + file_split[6] + file_split[7]\n",
    "    version_check = version.replace(\".\", \"\").isdigit()\n",
    "\n",
    "    # UNIQUE REGION Check\n",
    "    region_check = len(\"_\".join(file_split[8:])) > 0  # Simple check for non-empty UNIQUE_REGION\n",
    "\n",
    "    # Validate the structure\n",
    "    if (date_check and time_check and sat_number_check and\n",
    "        file_split[3] == \"QUICKVIEW\" and file_split[4] == \"VISUAL\" and \n",
    "        version_check and region_check):\n",
    "        counter_same += 1\n",
    "    else:\n",
    "        counter_notsame += 1\n",
    "\n",
    "print(f\"Number of files that follow the naming convention: {counter_same}\")"
   ]
  },
  {
   "cell_type": "code",
   "execution_count": 2,
   "id": "b02f6926",
   "metadata": {},
   "outputs": [
    {
     "name": "stdout",
     "output_type": "stream",
     "text": [
      "Annotations per month:\n",
      "2024-01: 27 annotations\n",
      "2024-02: 45 annotations\n",
      "2024-03: 17 annotations\n",
      "2024-04: 37 annotations\n",
      "2024-05: 28 annotations\n",
      "2024-06: 52 annotations\n",
      "\n",
      "Annotations per year:\n",
      "2024: 206 annotations\n",
      "\n",
      "The month with the most annotations is 2024-06 with 52 annotations.\n"
     ]
    }
   ],
   "source": [
    "# Exercise3: \n",
    "#   Number of annotations per month\n",
    "#   Number of annotations per year\n",
    "#   Which month has more annotation files \n",
    "\n",
    "import os\n",
    "import glob\n",
    "import pandas as pd\n",
    "\n",
    "files = glob.glob('session_4/**/*.txt', recursive=True)\n",
    "year_list = []\n",
    "month_list = []\n",
    "\n",
    "for file in files:\n",
    "    file = os.path.basename(file)\n",
    "    file_split = file.split(\"_\")\n",
    "    \n",
    "    # Check if DATE format is correct (8 characters)\n",
    "    if len(file_split[0]) == 8 and file_split[0].isdigit():\n",
    "        year_list.append(file_split[0][0:4])\n",
    "        month_list.append(file_split[0][0:6])  # Use YYYYMM format for monthly counts\n",
    "\n",
    "# Convert lists to pandas Series\n",
    "year_series = pd.Series(year_list)\n",
    "month_series = pd.Series(month_list)\n",
    "\n",
    "# Count annotations per year and per month\n",
    "year_counts = year_series.value_counts().sort_index()\n",
    "month_counts = month_series.value_counts().sort_index()\n",
    "\n",
    "# Identify the month with the most annotations\n",
    "most_common_month = month_counts.idxmax()\n",
    "most_common_month_count = month_counts.max()\n",
    "\n",
    "# Output \n",
    "print(\"Annotations per month:\")\n",
    "for month, count in month_counts.items():\n",
    "    print(f\"{month[:4]}-{month[4:]}: {count} annotations\")  # Formats as YYYY-MM\n",
    "\n",
    "print(\"\\nAnnotations per year:\")\n",
    "for year, count in year_counts.items():\n",
    "    print(f\"{year}: {count} annotations\")\n",
    "\n",
    "print(f\"\\nThe month with the most annotations is {most_common_month[:4]}-{most_common_month[4:]} with {most_common_month_count} annotations.\")"
   ]
  },
  {
   "cell_type": "code",
   "execution_count": 3,
   "id": "b818401f",
   "metadata": {},
   "outputs": [],
   "source": [
    "# Exercise4: Create new annotations folder with multiple folders corresponding to a month\n",
    "\n",
    "import os\n",
    "import shutil as sh\n",
    "\n",
    "# Define the root \"annotations\" folder\n",
    "annotations_folder = \"annotations\"\n",
    "os.makedirs(annotations_folder, exist_ok=True)  # Create the root folder if it doesn't exist\n",
    "\n",
    "# Dictionary for month names\n",
    "months_dict = {  \n",
    "    1: \"January\", 2: \"February\", 3: \"March\", 4: \"April\", 5: \"May\", 6: \"June\",\n",
    "    7: \"July\", 8: \"August\", 9: \"September\", 10: \"October\", 11: \"November\", 12: \"December\"\n",
    "}\n",
    "\n",
    "for file in files:\n",
    "    file_to_copy = file\n",
    "    file = os.path.basename(file)\n",
    "    file_split = file.split(\"_\")\n",
    "    \n",
    "    # Extract the month as an integer\n",
    "    month_num = int(file_split[0][4:6])\n",
    "    month_name = months_dict[month_num]\n",
    "    \n",
    "    # Full path for the month folder within the \"annotations\" folder\n",
    "    month_folder = os.path.join(annotations_folder, month_name)\n",
    "    \n",
    "    # Create the month folder inside \"annotations\" if it doesn't exist\n",
    "    os.makedirs(month_folder, exist_ok=True)\n",
    "    \n",
    "    # Copy the file to the corresponding month folder\n",
    "    sh.copy(file_to_copy, month_folder)"
   ]
  },
  {
   "cell_type": "code",
   "execution_count": 9,
   "id": "bb86511b",
   "metadata": {},
   "outputs": [
    {
     "name": "stdout",
     "output_type": "stream",
     "text": [
      "20240623_215120_SN29_QUICKVIEW_VISUAL_1_7_0_SATL-2KM-10N_596_4134.txt was created on 2024/6/23 at 215120\n",
      "20240623_215102_SN43_QUICKVIEW_VISUAL_1_7_0_SATL-2KM-11N_384_3750.txt was created on 2024/6/23 at 215102\n",
      "20240623_193704_SN27_QUICKVIEW_VISUAL_1_7_0_SATL-2KM-11N_566_3734.txt was created on 2024/6/23 at 193704\n",
      "20240619_215556_SN29_QUICKVIEW_VISUAL_1_7_0_SATL-2KM-10N_742_4460.txt was created on 2024/6/19 at 215556\n",
      "20240619_185757_SN24_QUICKVIEW_VISUAL_1_7_0_SATL-2KM-11N_528_3700.txt was created on 2024/6/19 at 185757\n",
      "20240619_052401_SN30_QUICKVIEW_VISUAL_1_7_0_SATL-2KM-52N_368_4336.txt was created on 2024/6/19 at 52401\n",
      "20240618_215539_SN31_QUICKVIEW_VISUAL_1_7_0_SATL-2KM-11N_452_3740.txt was created on 2024/6/18 at 215539\n",
      "20240618_215539_SN31_QUICKVIEW_VISUAL_1_7_0_SATL-2KM-11N_458_3756.txt was created on 2024/6/18 at 215539\n",
      "20240618_193146_SN27_QUICKVIEW_VISUAL_1_7_0_SATL-2KM-11N_530_3682.txt was created on 2024/6/18 at 193146\n",
      "20240617_211350_SN29_QUICKVIEW_VISUAL_1_7_0_SATL-2KM-11N_724_3614.txt was created on 2024/6/17 at 211350\n",
      "20240617_184443_SN24_QUICKVIEW_VISUAL_1_7_0_SATL-2KM-11N_702_3566.txt was created on 2024/6/17 at 184443\n",
      "20240617_052859_SN29_QUICKVIEW_VISUAL_1_7_0_SATL-2KM-51N_730_4348.txt was created on 2024/6/17 at 52859\n",
      "20240616_213053_SN30_QUICKVIEW_VISUAL_1_7_0_SATL-2KM-11N_460_3792.txt was created on 2024/6/16 at 213053\n",
      "20240616_213047_SN30_QUICKVIEW_VISUAL_1_7_0_SATL-2KM-11N_464_3830.txt was created on 2024/6/16 at 213047\n",
      "20240616_213047_SN30_QUICKVIEW_VISUAL_1_7_0_SATL-2KM-11N_466_3828.txt was created on 2024/6/16 at 213047\n",
      "20240616_213047_SN30_QUICKVIEW_VISUAL_1_7_0_SATL-2KM-11N_466_3826.txt was created on 2024/6/16 at 213047\n",
      "20240616_213047_SN30_QUICKVIEW_VISUAL_1_7_0_SATL-2KM-11N_464_3828.txt was created on 2024/6/16 at 213047\n",
      "20240616_102144_SN28_QUICKVIEW_VISUAL_1_7_0_SATL-2KM-39N_560_2792.txt was created on 2024/6/16 at 102144\n",
      "20240616_102144_SN28_QUICKVIEW_VISUAL_1_7_0_SATL-2KM-39N_558_2794.txt was created on 2024/6/16 at 102144\n",
      "20240616_102144_SN28_QUICKVIEW_VISUAL_1_7_0_SATL-2KM-39N_556_2794.txt was created on 2024/6/16 at 102144\n",
      "20240616_081345_SN27_QUICKVIEW_VISUAL_1_7_0_SATL-2KM-39N_562_2794.txt was created on 2024/6/16 at 81345\n",
      "20240616_081345_SN27_QUICKVIEW_VISUAL_1_7_0_SATL-2KM-39N_562_2792.txt was created on 2024/6/16 at 81345\n",
      "20240616_081345_SN27_QUICKVIEW_VISUAL_1_7_0_SATL-2KM-39N_560_2792.txt was created on 2024/6/16 at 81345\n",
      "20240616_081345_SN27_QUICKVIEW_VISUAL_1_7_0_SATL-2KM-39N_560_2794.txt was created on 2024/6/16 at 81345\n",
      "20240615_173631_SN33_QUICKVIEW_VISUAL_1_7_0_SATL-2KM-11N_546_3742.txt was created on 2024/6/15 at 173631\n",
      "20240614_221436_SN31_QUICKVIEW_VISUAL_1_7_0_SATL-2KM-10N_558_4184.txt was created on 2024/6/14 at 221436\n",
      "20240613_214203_SN43_QUICKVIEW_VISUAL_1_7_0_SATL-2KM-11N_384_3750.txt was created on 2024/6/13 at 214203\n",
      "20240613_192217_SN26_QUICKVIEW_VISUAL_1_7_0_SATL-2KM-10N_560_4178.txt was created on 2024/6/13 at 192217\n",
      "20240613_053340_SN29_QUICKVIEW_VISUAL_1_7_0_SATL-2KM-51N_728_4342.txt was created on 2024/6/13 at 53340\n",
      "20240613_053340_SN29_QUICKVIEW_VISUAL_1_7_0_SATL-2KM-51N_730_4342.txt was created on 2024/6/13 at 53340\n",
      "20240612_185419_SN24_QUICKVIEW_VISUAL_1_7_0_SATL-2KM-11N_554_3610.txt was created on 2024/6/12 at 185419\n",
      "20240612_185400_SN24_QUICKVIEW_VISUAL_1_7_0_SATL-2KM-11N_574_3714.txt was created on 2024/6/12 at 185400\n",
      "20240612_185400_SN24_QUICKVIEW_VISUAL_1_7_0_SATL-2KM-11N_576_3720.txt was created on 2024/6/12 at 185400\n",
      "20240612_185400_SN24_QUICKVIEW_VISUAL_1_7_0_SATL-2KM-11N_578_3722.txt was created on 2024/6/12 at 185400\n",
      "20240612_053829_SN28_QUICKVIEW_VISUAL_1_7_0_SATL-2KM-51N_686_4422.txt was created on 2024/6/12 at 53829\n",
      "20240612_053829_SN28_QUICKVIEW_VISUAL_1_7_0_SATL-2KM-51N_688_4420.txt was created on 2024/6/12 at 53829\n",
      "20240611_215323_SN30_QUICKVIEW_VISUAL_1_7_0_SATL-2KM-10N_702_3948.txt was created on 2024/6/11 at 215323\n",
      "20240611_025943_SN26_QUICKVIEW_VISUAL_1_7_0_SATL-2KM-51N_748_4366.txt was created on 2024/6/11 at 25943\n",
      "20240611_025943_SN26_QUICKVIEW_VISUAL_1_7_0_SATL-2KM-51N_748_4364.txt was created on 2024/6/11 at 25943\n",
      "20240610_191018_SN26_QUICKVIEW_VISUAL_1_7_0_SATL-2KM-11N_384_3750.txt was created on 2024/6/10 at 191018\n",
      "20240609_214259_SN30_QUICKVIEW_VISUAL_1_7_0_SATL-2KM-11N_262_4052.txt was created on 2024/6/9 at 214259\n",
      "20240609_191959_SN27_QUICKVIEW_VISUAL_1_7_0_SATL-2KM-11N_702_3540.txt was created on 2024/6/9 at 191959\n",
      "20240609_191744_SN24_QUICKVIEW_VISUAL_1_7_0_SATL-2KM-10N_564_4194.txt was created on 2024/6/9 at 191744\n",
      "20240608_214614_SN29_QUICKVIEW_VISUAL_1_7_0_SATL-2KM-11N_248_4068.txt was created on 2024/6/8 at 214614\n",
      "20240607_200250_SN27_QUICKVIEW_VISUAL_1_7_0_SATL-2KM-10N_554_4172.txt was created on 2024/6/7 at 200250\n",
      "20240606_180251_SN33_QUICKVIEW_VISUAL_1_7_0_SATL-2KM-10N_556_4180.txt was created on 2024/6/6 at 180251\n",
      "20240605_212717_SN29_QUICKVIEW_VISUAL_1_7_0_SATL-2KM-11N_718_3608.txt was created on 2024/6/5 at 212717\n",
      "20240604_214955_SN29_QUICKVIEW_VISUAL_1_7_0_SATL-2KM-10N_594_4136.txt was created on 2024/6/4 at 214955\n",
      "20240603_215348_SN28_QUICKVIEW_VISUAL_1_6_0_SATL-2KM-11N_346_3786.txt was created on 2024/6/3 at 215348\n",
      "20240603_215226_SN28_QUICKVIEW_VISUAL_1_6_0_SATL-2KM-11N_248_4068.txt was created on 2024/6/3 at 215226\n",
      "20240602_215203_SN30_QUICKVIEW_VISUAL_1_6_0_SATL-2KM-10N_714_3948.txt was created on 2024/6/2 at 215203\n",
      "20240602_215203_SN30_QUICKVIEW_VISUAL_1_6_0_SATL-2KM-10N_712_3948.txt was created on 2024/6/2 at 215203\n",
      "20240528_191604_SN24_QUICKVIEW_VISUAL_1_6_0_SATL-2KM-11N_344_3836.txt was created on 2024/5/28 at 191604\n",
      "20240528_191448_SN24_QUICKVIEW_VISUAL_1_6_0_SATL-2KM-11N_248_4068.txt was created on 2024/5/28 at 191448\n",
      "20240524_213504_SN29_QUICKVIEW_VISUAL_1_6_0_SATL-2KM-11N_380_3724.txt was created on 2024/5/24 at 213504\n",
      "20240524_213504_SN29_QUICKVIEW_VISUAL_1_6_0_SATL-2KM-11N_378_3724.txt was created on 2024/5/24 at 213504\n",
      "20240521_101252_SN43_QUICKVIEW_VISUAL_1_6_0_SATL-2KM-39N_556_2792.txt was created on 2024/5/21 at 101252\n",
      "20240521_101252_SN43_QUICKVIEW_VISUAL_1_6_0_SATL-2KM-39N_558_2796.txt was created on 2024/5/21 at 101252\n",
      "20240521_052621_SN43_QUICKVIEW_VISUAL_1_6_0_SATL-2KM-51N_730_4342.txt was created on 2024/5/21 at 52621\n",
      "20240520_194539_SN27_QUICKVIEW_VISUAL_1_5_0_SATL-2KM-10N_638_4280.txt was created on 2024/5/20 at 194539\n",
      "20240520_194539_SN27_QUICKVIEW_VISUAL_1_5_0_SATL-2KM-10N_638_4282.txt was created on 2024/5/20 at 194539\n",
      "20240519_214917_SN31_QUICKVIEW_VISUAL_1_5_0_SATL-2KM-11N_500_3600.txt was created on 2024/5/19 at 214917\n",
      "20240519_214917_SN31_QUICKVIEW_VISUAL_1_5_0_SATL-2KM-11N_500_3602.txt was created on 2024/5/19 at 214917\n",
      "20240519_214917_SN31_QUICKVIEW_VISUAL_1_5_0_SATL-2KM-11N_500_3598.txt was created on 2024/5/19 at 214917\n",
      "20240519_191838_SN27_QUICKVIEW_VISUAL_1_5_0_SATL-2KM-11N_718_3608.txt was created on 2024/5/19 at 191838\n",
      "20240519_184534_SN24_QUICKVIEW_VISUAL_1_5_0_SATL-2KM-11N_658_3700.txt was created on 2024/5/19 at 184534\n",
      "20240516_211630_SN28_QUICKVIEW_VISUAL_1_5_0_SATL-2KM-11N_716_3848.txt was created on 2024/5/16 at 211630\n",
      "20240516_190328_SN24_QUICKVIEW_VISUAL_1_5_0_SATL-2KM-11N_262_4052.txt was created on 2024/5/16 at 190328\n",
      "20240514_052716_SN43_QUICKVIEW_VISUAL_1_5_0_SATL-2KM-51N_730_4342.txt was created on 2024/5/14 at 52716\n",
      "20240513_212022_SN29_QUICKVIEW_VISUAL_1_5_0_SATL-2KM-11N_630_3742.txt was created on 2024/5/13 at 212022\n",
      "20240510_191914_SN27_QUICKVIEW_VISUAL_1_5_0_SATL-2KM-11N_712_3566.txt was created on 2024/5/10 at 191914\n",
      "20240510_191908_SN27_QUICKVIEW_VISUAL_1_5_0_SATL-2KM-11N_718_3608.txt was created on 2024/5/10 at 191908\n",
      "20240509_212336_SN29_QUICKVIEW_VISUAL_1_5_0_SATL-2KM-11N_706_3778.txt was created on 2024/5/9 at 212336\n",
      "20240509_193206_SN26_QUICKVIEW_VISUAL_1_5_0_SATL-2KM-10N_562_4196.txt was created on 2024/5/9 at 193206\n",
      "20240508_194502_SN27_QUICKVIEW_VISUAL_1_5_0_SATL-2KM-11N_264_4022.txt was created on 2024/5/8 at 194502\n",
      "20240508_194502_SN27_QUICKVIEW_VISUAL_1_5_0_SATL-2KM-11N_262_4022.txt was created on 2024/5/8 at 194502\n",
      "20240507_191326_SN27_QUICKVIEW_VISUAL_1_5_0_SATL-2KM-11N_718_3608.txt was created on 2024/5/7 at 191326\n",
      "20240506_213507_SN43_QUICKVIEW_VISUAL_1_5_0_SATL-2KM-11N_384_3750.txt was created on 2024/5/6 at 213507\n",
      "20240506_192008_SN26_QUICKVIEW_VISUAL_1_5_0_SATL-2KM-10N_562_4178.txt was created on 2024/5/6 at 192008\n",
      "20240503_214759_SN28_QUICKVIEW_VISUAL_1_5_0_SATL-2KM-11N_376_3724.txt was created on 2024/5/3 at 214759\n",
      "20240428_215557_SN43_QUICKVIEW_VISUAL_1_5_0_SATL-2KM-10N_726_3862.txt was created on 2024/4/28 at 215557\n",
      "20240428_215426_SN43_QUICKVIEW_VISUAL_1_5_0_SATL-2KM-10N_630_4264.txt was created on 2024/4/28 at 215426\n",
      "20240428_215426_SN43_QUICKVIEW_VISUAL_1_5_0_SATL-2KM-10N_630_4262.txt was created on 2024/4/28 at 215426\n",
      "20240428_215426_SN43_QUICKVIEW_VISUAL_1_5_0_SATL-2KM-10N_634_4282.txt was created on 2024/4/28 at 215426\n",
      "20240428_191026_SN24_QUICKVIEW_VISUAL_1_5_0_SATL-2KM-11N_380_3722.txt was created on 2024/4/28 at 191026\n",
      "20240427_221308_SN31_QUICKVIEW_VISUAL_1_5_0_SATL-2KM-10N_722_3848.txt was created on 2024/4/27 at 221308\n",
      "20240426_215224_SN29_QUICKVIEW_VISUAL_1_5_0_SATL-2KM-11N_244_3818.txt was created on 2024/4/26 at 215224\n",
      "20240423_190101_SN26_QUICKVIEW_VISUAL_1_5_0_SATL-2KM-11N_418_3872.txt was created on 2024/4/23 at 190101\n",
      "20240423_190101_SN26_QUICKVIEW_VISUAL_1_5_0_SATL-2KM-11N_418_3864.txt was created on 2024/4/23 at 190101\n",
      "20240423_190101_SN26_QUICKVIEW_VISUAL_1_5_0_SATL-2KM-11N_418_3860.txt was created on 2024/4/23 at 190101\n",
      "20240423_190101_SN26_QUICKVIEW_VISUAL_1_5_0_SATL-2KM-11N_418_3862.txt was created on 2024/4/23 at 190101\n",
      "20240423_190101_SN26_QUICKVIEW_VISUAL_1_5_0_SATL-2KM-11N_414_3862.txt was created on 2024/4/23 at 190101\n",
      "20240423_190101_SN26_QUICKVIEW_VISUAL_1_5_0_SATL-2KM-11N_416_3864.txt was created on 2024/4/23 at 190101\n",
      "20240423_190101_SN26_QUICKVIEW_VISUAL_1_5_0_SATL-2KM-11N_416_3862.txt was created on 2024/4/23 at 190101\n",
      "20240420_181053_341939_MS_NS33_QUICKVIEW_VISUAL_1_3_0_SATL-2KM-10N_556_4180.txt was created on 2024/4/20 at 181053\n",
      "20240418_213446_163074_MS_NS28_QUICKVIEW_VISUAL_1_3_0_SATL-2KM-11N_388_3748.txt was created on 2024/4/18 at 213446\n",
      "20240417_215406_715231_MS_NS43_QUICKVIEW_VISUAL_1_3_0_SATL-2KM-10N_740_4446.txt was created on 2024/4/17 at 215406\n",
      "20240412_191549_672087_MS_NS24_QUICKVIEW_VISUAL_1_3_0_SATL-2KM-11N_240_3966.txt was created on 2024/4/12 at 191549\n",
      "20240412_191539_631044_MS_NS24_QUICKVIEW_VISUAL_1_3_0_SATL-2KM-11N_258_4036.txt was created on 2024/4/12 at 191539\n",
      "20240412_191539_377035_MS_NS24_QUICKVIEW_VISUAL_1_3_0_SATL-2KM-11N_258_4038.txt was created on 2024/4/12 at 191539\n",
      "20240412_052750_556466_MS_NS29_QUICKVIEW_VISUAL_1_3_0_SATL-2KM-51N_688_4420.txt was created on 2024/4/12 at 52750\n",
      "20240410_214321_024179_MS_NS30_QUICKVIEW_VISUAL_1_3_0_SATL-2KM-11N_296_3786.txt was created on 2024/4/10 at 214321\n",
      "20240410_214305_399233_MS_NS43_QUICKVIEW_VISUAL_1_3_0_SATL-2KM-11N_380_3764.txt was created on 2024/4/10 at 214305\n",
      "20240408_211552_958249_MS_NS29_QUICKVIEW_VISUAL_1_3_0_SATL-2KM-11N_734_3742.txt was created on 2024/4/8 at 211552\n",
      "20240407_190149_742846_MS_NS24_QUICKVIEW_VISUAL_1_3_0_SATL-2KM-11N_258_4028.txt was created on 2024/4/7 at 190149\n",
      "20240405_183824_409694_MS_NS24_QUICKVIEW_VISUAL_1_3_0_SATL-2KM-11N_736_3716.txt was created on 2024/4/5 at 183824\n",
      "20240402_215427_SN31_QUICKVIEW_VISUAL_1_2_0_SATL-2KM-11N_502_3600.txt was created on 2024/4/2 at 215427\n",
      "20240402_215421_SN31_QUICKVIEW_VISUAL_1_2_0_SATL-2KM-11N_500_3632.txt was created on 2024/4/2 at 215421\n",
      "20240402_184757_SN24_QUICKVIEW_VISUAL_1_2_0_SATL-2KM-11N_488_3638.txt was created on 2024/4/2 at 184757\n",
      "20240402_184757_SN24_QUICKVIEW_VISUAL_1_2_0_SATL-2KM-11N_486_3630.txt was created on 2024/4/2 at 184757\n",
      "20240402_184757_SN24_QUICKVIEW_VISUAL_1_2_0_SATL-2KM-11N_486_3636.txt was created on 2024/4/2 at 184757\n",
      "20240402_184757_SN24_QUICKVIEW_VISUAL_1_2_0_SATL-2KM-11N_490_3638.txt was created on 2024/4/2 at 184757\n",
      "20240401_221819_SN31_QUICKVIEW_VISUAL_1_2_0_SATL-2KM-10N_602_4148.txt was created on 2024/4/1 at 221819\n",
      "20240401_175925_SN33_QUICKVIEW_VISUAL_1_2_0_SATL-2KM-10N_542_4168.txt was created on 2024/4/1 at 175925\n",
      "20240401_175918_SN33_QUICKVIEW_VISUAL_1_2_0_SATL-2KM-10N_542_4168.txt was created on 2024/4/1 at 175918\n",
      "20240401_175918_SN33_QUICKVIEW_VISUAL_1_2_0_SATL-2KM-10N_546_4206.txt was created on 2024/4/1 at 175918\n",
      "20240401_032415_SN27_QUICKVIEW_VISUAL_1_2_0_SATL-2KM-51N_688_4420.txt was created on 2024/4/1 at 32415\n",
      "20240325_173936_SN33_QUICKVIEW_VISUAL_1_2_0_SATL-2KM-11N_378_3722.txt was created on 2024/3/25 at 173936\n",
      "20240324_180232_SN33_QUICKVIEW_VISUAL_1_2_0_SATL-2KM-10N_554_4172.txt was created on 2024/3/24 at 180232\n",
      "20240322_212516_SN28_QUICKVIEW_VISUAL_1_2_0_SATL-2KM-11N_502_3600.txt was created on 2024/3/22 at 212516\n",
      "20240322_184801_SN24_QUICKVIEW_VISUAL_1_2_0_SATL-2KM-11N_500_3632.txt was created on 2024/3/22 at 184801\n",
      "20240322_184801_SN24_QUICKVIEW_VISUAL_1_2_0_SATL-2KM-11N_502_3632.txt was created on 2024/3/22 at 184801\n",
      "20240321_220846_SN31_QUICKVIEW_VISUAL_1_2_0_SATL-2KM-10N_560_4178.txt was created on 2024/3/21 at 220846\n",
      "20240321_190819_SN27_QUICKVIEW_VISUAL_1_2_0_SATL-2KM-11N_714_3632.txt was created on 2024/3/21 at 190819\n",
      "20240317_221229_SN31_QUICKVIEW_VISUAL_1_2_0_SATL-2KM-10N_556_4176.txt was created on 2024/3/17 at 221229\n",
      "20240317_215115_SN28_QUICKVIEW_VISUAL_1_2_0_SATL-2KM-10N_554_4162.txt was created on 2024/3/17 at 215115\n",
      "20240317_215115_SN28_QUICKVIEW_VISUAL_1_2_0_SATL-2KM-10N_552_4162.txt was created on 2024/3/17 at 215115\n",
      "20240317_215115_SN28_QUICKVIEW_VISUAL_1_2_0_SATL-2KM-10N_552_4164.txt was created on 2024/3/17 at 215115\n",
      "20240316_191451_SN26_QUICKVIEW_VISUAL_1_2_0_SATL-2KM-11N_380_3764.txt was created on 2024/3/16 at 191451\n",
      "20240314_220020_SN30_QUICKVIEW_VISUAL_1_2_0_SATL-2KM-10N_544_4186.txt was created on 2024/3/14 at 220020\n",
      "20240314_220020_SN30_QUICKVIEW_VISUAL_1_2_0_SATL-2KM-10N_550_4202.txt was created on 2024/3/14 at 220020\n",
      "20240308_211248_SN29_QUICKVIEW_VISUAL_1_2_0_SATL-2KM-11N_718_3640.txt was created on 2024/3/8 at 211248\n",
      "20240308_191212_SN27_QUICKVIEW_VISUAL_1_2_0_SATL-2KM-11N_506_3614.txt was created on 2024/3/8 at 191212\n",
      "20240304_212824_SN30_QUICKVIEW_VISUAL_1_2_0_SATL-2KM-11N_378_3722.txt was created on 2024/3/4 at 212824\n",
      "20240228_213951_SN29_QUICKVIEW_VISUAL_1_1_10_SATL-2KM-11N_248_4068.txt was created on 2024/2/28 at 213951\n",
      "20240227_214218_SN30_QUICKVIEW_VISUAL_1_1_10_SATL-2KM-10N_562_4170.txt was created on 2024/2/27 at 214218\n",
      "20240224_214855_SN30_QUICKVIEW_VISUAL_1_1_10_SATL-2KM-10N_552_4162.txt was created on 2024/2/24 at 214855\n",
      "20240224_214855_SN30_QUICKVIEW_VISUAL_1_1_10_SATL-2KM-10N_554_4162.txt was created on 2024/2/24 at 214855\n",
      "20240223_025420_SN24_QUICKVIEW_VISUAL_1_1_10_SATL-2KM-51N_686_4422.txt was created on 2024/2/23 at 25420\n",
      "20240222_212250_SN30_QUICKVIEW_VISUAL_1_1_10_SATL-2KM-11N_382_3722.txt was created on 2024/2/22 at 212250\n",
      "20240222_074256_SN26_QUICKVIEW_VISUAL_1_1_10_SATL-2KM-39N_564_2790.txt was created on 2024/2/22 at 74256\n",
      "20240222_074155_SN26_QUICKVIEW_VISUAL_1_1_10_SATL-2KM-39N_556_2794.txt was created on 2024/2/22 at 74155\n",
      "20240222_074155_SN26_QUICKVIEW_VISUAL_1_1_10_SATL-2KM-39N_562_2794.txt was created on 2024/2/22 at 74155\n",
      "20240222_074155_SN26_QUICKVIEW_VISUAL_1_1_10_SATL-2KM-39N_556_2792.txt was created on 2024/2/22 at 74155\n",
      "20240222_074155_SN26_QUICKVIEW_VISUAL_1_1_10_SATL-2KM-39N_562_2792.txt was created on 2024/2/22 at 74155\n",
      "20240222_074155_SN26_QUICKVIEW_VISUAL_1_1_10_SATL-2KM-39N_560_2792.txt was created on 2024/2/22 at 74155\n",
      "20240222_074155_SN26_QUICKVIEW_VISUAL_1_1_10_SATL-2KM-39N_558_2794.txt was created on 2024/2/22 at 74155\n",
      "20240222_074151_SN26_QUICKVIEW_VISUAL_1_1_10_SATL-2KM-39N_560_2794.txt was created on 2024/2/22 at 74151\n",
      "20240222_074151_SN26_QUICKVIEW_VISUAL_1_1_10_SATL-2KM-39N_560_2796.txt was created on 2024/2/22 at 74151\n",
      "20240222_074151_SN26_QUICKVIEW_VISUAL_1_1_10_SATL-2KM-39N_558_2796.txt was created on 2024/2/22 at 74151\n",
      "20240222_074151_SN26_QUICKVIEW_VISUAL_1_1_10_SATL-2KM-39N_556_2794.txt was created on 2024/2/22 at 74151\n",
      "20240222_074151_SN26_QUICKVIEW_VISUAL_1_1_10_SATL-2KM-39N_562_2794.txt was created on 2024/2/22 at 74151\n",
      "20240221_190608_SN26_QUICKVIEW_VISUAL_1_1_10_SATL-2KM-11N_380_3764.txt was created on 2024/2/21 at 190608\n",
      "20240220_190455_SN27_QUICKVIEW_VISUAL_1_1_10_SATL-2KM-11N_718_3608.txt was created on 2024/2/20 at 190455\n",
      "20240219_214312_SN28_QUICKVIEW_VISUAL_1_1_10_SATL-2KM-11N_252_3954.txt was created on 2024/2/19 at 214312\n",
      "20240218_180121_SN33_QUICKVIEW_VISUAL_1_1_10_SATL-2KM-10N_568_4176.txt was created on 2024/2/18 at 180121\n",
      "20240216_213630_SN31_QUICKVIEW_VISUAL_1_1_10_SATL-2KM-11N_418_3724.txt was created on 2024/2/16 at 213630\n",
      "20240214_184340_SN24_QUICKVIEW_VISUAL_1_1_10_SATL-2KM-11N_688_3630.txt was created on 2024/2/14 at 184340\n",
      "20240213_212524_SN29_QUICKVIEW_VISUAL_1_1_10_SATL-2KM-11N_542_3750.txt was created on 2024/2/13 at 212524\n",
      "20240213_212524_SN29_QUICKVIEW_VISUAL_1_1_10_SATL-2KM-11N_544_3742.txt was created on 2024/2/13 at 212524\n",
      "20240213_212524_SN29_QUICKVIEW_VISUAL_1_1_10_SATL-2KM-11N_540_3748.txt was created on 2024/2/13 at 212524\n",
      "20240212_213506_SN31_QUICKVIEW_VISUAL_1_1_10_SATL-2KM-11N_408_3712.txt was created on 2024/2/12 at 213506\n",
      "20240211_211057_SN30_QUICKVIEW_VISUAL_1_1_10_SATL-2KM-11N_700_3690.txt was created on 2024/2/11 at 211057\n",
      "20240209_212744_SN29_QUICKVIEW_VISUAL_1_1_10_SATL-2KM-11N_380_3722.txt was created on 2024/2/9 at 212744\n",
      "20240208_184650_SN24_QUICKVIEW_VISUAL_1_1_10_SATL-2KM-11N_624_3632.txt was created on 2024/2/8 at 184650\n",
      "20240203_173953_SN33_QUICKVIEW_VISUAL_1_1_10_SATL-2KM-11N_368_3756.txt was created on 2024/2/3 at 173953\n",
      "20240203_173953_SN33_QUICKVIEW_VISUAL_1_1_10_SATL-2KM-11N_366_3756.txt was created on 2024/2/3 at 173953\n",
      "20240202_191114_SN27_QUICKVIEW_VISUAL_1_1_10_SATL-2KM-11N_718_3608.txt was created on 2024/2/2 at 191114\n",
      "20240202_184725_SN24_QUICKVIEW_VISUAL_1_1_10_SATL-2KM-11N_624_3630.txt was created on 2024/2/2 at 184725\n",
      "20240201_075143_SN26_QUICKVIEW_VISUAL_1_1_10_SATL-2KM-39N_556_2792.txt was created on 2024/2/1 at 75143\n",
      "20240201_075143_SN26_QUICKVIEW_VISUAL_1_1_10_SATL-2KM-39N_562_2788.txt was created on 2024/2/1 at 75143\n",
      "20240201_075140_SN26_QUICKVIEW_VISUAL_1_1_10_SATL-2KM-39N_558_2794.txt was created on 2024/2/1 at 75140\n",
      "20240201_075140_SN26_QUICKVIEW_VISUAL_1_1_10_SATL-2KM-39N_560_2792.txt was created on 2024/2/1 at 75140\n",
      "20240201_075140_SN26_QUICKVIEW_VISUAL_1_1_10_SATL-2KM-39N_560_2794.txt was created on 2024/2/1 at 75140\n",
      "20240201_075140_SN26_QUICKVIEW_VISUAL_1_1_10_SATL-2KM-39N_560_2796.txt was created on 2024/2/1 at 75140\n",
      "20240201_075140_SN26_QUICKVIEW_VISUAL_1_1_10_SATL-2KM-39N_556_2794.txt was created on 2024/2/1 at 75140\n",
      "20240201_075140_SN26_QUICKVIEW_VISUAL_1_1_10_SATL-2KM-39N_562_2794.txt was created on 2024/2/1 at 75140\n",
      "20240201_075140_SN26_QUICKVIEW_VISUAL_1_1_10_SATL-2KM-39N_556_2792.txt was created on 2024/2/1 at 75140\n",
      "20240201_075140_SN26_QUICKVIEW_VISUAL_1_1_10_SATL-2KM-39N_562_2792.txt was created on 2024/2/1 at 75140\n",
      "20240130_215036_SN31_QUICKVIEW_VISUAL_1_1_10_SATL-2KM-11N_366_3756.txt was created on 2024/1/30 at 215036\n",
      "20240130_173903_SN33_QUICKVIEW_VISUAL_1_1_10_SATL-2KM-11N_366_3756.txt was created on 2024/1/30 at 173903\n",
      "20240130_173903_SN33_QUICKVIEW_VISUAL_1_1_10_SATL-2KM-11N_360_3748.txt was created on 2024/1/30 at 173903\n",
      "20240130_173903_SN33_QUICKVIEW_VISUAL_1_1_10_SATL-2KM-11N_364_3754.txt was created on 2024/1/30 at 173903\n",
      "20240128_213258_SN29_QUICKVIEW_VISUAL_1_1_10_SATL-2KM-11N_418_3864.txt was created on 2024/1/28 at 213258\n",
      "20240128_213258_SN29_QUICKVIEW_VISUAL_1_1_10_SATL-2KM-11N_418_3862.txt was created on 2024/1/28 at 213258\n",
      "20240127_190620_SN27_QUICKVIEW_VISUAL_1_1_10_SATL-2KM-11N_500_3600.txt was created on 2024/1/27 at 190620\n",
      "20240127_190620_SN27_QUICKVIEW_VISUAL_1_1_10_SATL-2KM-11N_500_3602.txt was created on 2024/1/27 at 190620\n",
      "20240127_190620_SN27_QUICKVIEW_VISUAL_1_1_10_SATL-2KM-11N_502_3602.txt was created on 2024/1/27 at 190620\n",
      "20240127_190620_SN27_QUICKVIEW_VISUAL_1_1_10_SATL-2KM-11N_502_3600.txt was created on 2024/1/27 at 190620\n",
      "20240126_173752_SN33_QUICKVIEW_VISUAL_1_1_10_SATL-2KM-11N_386_3722.txt was created on 2024/1/26 at 173752\n",
      "20240115_213834_SN28_QUICKVIEW_VISUAL_1_1_10_SATL-2KM-11N_376_3722.txt was created on 2024/1/15 at 213834\n",
      "20240115_213834_SN28_QUICKVIEW_VISUAL_1_1_10_SATL-2KM-11N_380_3724.txt was created on 2024/1/15 at 213834\n",
      "20240112_192510_SN27_QUICKVIEW_VISUAL_1_1_10_SATL-2KM-11N_386_3750.txt was created on 2024/1/12 at 192510\n",
      "20240110_192002_SN27_QUICKVIEW_VISUAL_1_1_10_SATL-2KM-11N_380_3728.txt was created on 2024/1/10 at 192002\n",
      "20240104_220339_SN31_QUICKVIEW_VISUAL_1_1_10_SATL-2KM-10N_556_4178.txt was created on 2024/1/4 at 220339\n",
      "20240102_185954_SN24_QUICKVIEW_VISUAL_1_1_10_SATL-2KM-11N_414_3786.txt was created on 2024/1/2 at 185954\n",
      "20240102_185605_SN27_QUICKVIEW_VISUAL_1_1_10_SATL-2KM-11N_690_3572.txt was created on 2024/1/2 at 185605\n",
      "20240102_185527_SN27_QUICKVIEW_VISUAL_1_1_10_SATL-2KM-11N_740_3850.txt was created on 2024/1/2 at 185527\n",
      "20240101_213601_SN31_QUICKVIEW_VISUAL_1_1_10_SATL-2KM-11N_392_3740.txt was created on 2024/1/1 at 213601\n",
      "20240101_213601_SN31_QUICKVIEW_VISUAL_1_1_10_SATL-2KM-11N_392_3742.txt was created on 2024/1/1 at 213601\n",
      "20240101_213601_SN31_QUICKVIEW_VISUAL_1_1_10_SATL-2KM-11N_396_3752.txt was created on 2024/1/1 at 213601\n",
      "20240101_192856_SN24_QUICKVIEW_VISUAL_1_1_10_SATL-2KM-10N_552_4164.txt was created on 2024/1/1 at 192856\n",
      "20240101_192856_SN24_QUICKVIEW_VISUAL_1_1_10_SATL-2KM-10N_552_4162.txt was created on 2024/1/1 at 192856\n",
      "20240101_192856_SN24_QUICKVIEW_VISUAL_1_1_10_SATL-2KM-10N_554_4162.txt was created on 2024/1/1 at 192856\n",
      "20240101_174301_SN33_QUICKVIEW_VISUAL_1_1_10_SATL-2KM-11N_404_3770.txt was created on 2024/1/1 at 174301\n",
      "20240101_174301_SN33_QUICKVIEW_VISUAL_1_1_10_SATL-2KM-11N_404_3772.txt was created on 2024/1/1 at 174301\n"
     ]
    }
   ],
   "source": [
    "# Exercise5: Print all annotation from most recent to the oldest\n",
    "\n",
    "import os\n",
    "import glob\n",
    "import pandas as pd\n",
    "\n",
    "year_list = []\n",
    "month_list = []\n",
    "day_list = []\n",
    "hour_list = []\n",
    "files_list = []\n",
    "\n",
    "for file in files:\n",
    "    file = os.path.basename(file)\n",
    "    file_split = file.split(\"_\")\n",
    "    year_list.append(int(file_split[0][0:4]))\n",
    "    month_list.append(int(file_split[0][4:6]))\n",
    "    day_list.append(int(file_split[0][6:8]))\n",
    "    hour_list.append(int(file_split[1]))\n",
    "    files_list.append(file)\n",
    "\n",
    "data = {\n",
    "    \"year\": year_list,\n",
    "    \"month\": month_list,\n",
    "    \"day\": day_list,\n",
    "    \"hour\": hour_list,\n",
    "    \"link\": files_list\n",
    "}\n",
    "\n",
    "df = pd.DataFrame(data=data)\n",
    "# Sort by date and time in descending order\n",
    "df_sorted = df.sort_values(by=['year', 'month', 'day', 'hour'], ascending=False)\n",
    "\n",
    "# Print sorted files from most recent to oldest\n",
    "for i in range(len(df_sorted)):\n",
    "    print(f\"{df_sorted.iloc[i]['link']} was created on {df_sorted.iloc[i]['year']}/{df_sorted.iloc[i]['month']}/{df_sorted.iloc[i]['day']} at {df_sorted.iloc[i]['hour']}\")"
   ]
  },
  {
   "cell_type": "code",
   "execution_count": 12,
   "id": "d245b998",
   "metadata": {},
   "outputs": [
    {
     "name": "stdout",
     "output_type": "stream",
     "text": [
      "Number of unique satellites: 9\n",
      "Annotations per satellite:\n",
      "SN26    37\n",
      "SN27    29\n",
      "SN24    26\n",
      "SN29    22\n",
      "SN31    19\n",
      "SN30    18\n",
      "SN33    16\n",
      "SN28    16\n",
      "SN43    11\n",
      "Name: count, dtype: int64\n",
      "The most recent satellite used is SN29 in document 20240623_215120_SN29_QUICKVIEW_VISUAL_1_7_0_SATL-2KM-10N_596_4134.txt.\n"
     ]
    }
   ],
   "source": [
    "# Exercise6: \n",
    "#   How many different/unique satellites are there\n",
    "#   How many annotations per satellite\n",
    "#   Which satellite was used in the most recent annotation\n",
    "\n",
    "import os\n",
    "import glob\n",
    "import pandas as pd\n",
    "\n",
    "# Get all files\n",
    "files = glob.glob('session_4/**/*.txt', recursive=True)\n",
    "\n",
    "satellites = []\n",
    "for file in files:\n",
    "    file = os.path.basename(file)\n",
    "    file_split = file.split(\"_\")\n",
    "    \n",
    "    # Extract SATELLITE NUMBER if it starts with \"SN\"\n",
    "    if file_split[2].startswith(\"SN\"):\n",
    "        sat_number = \"SN\" + file_split[2][2:]  \n",
    "        satellites.append(sat_number)\n",
    "\n",
    "# Count unique satellites\n",
    "unique_satellites = len(set(satellites))\n",
    "print(f\"Number of unique satellites: {unique_satellites}\")\n",
    "\n",
    "# Count annotations per satellite\n",
    "satellite_counts = pd.Series(satellites).value_counts()\n",
    "print(\"Annotations per satellite:\")\n",
    "print(satellite_counts)\n",
    "\n",
    "# Using the first row from the sorted DataFrame to get the most recent file\n",
    "most_recent_file = df_sorted.iloc[0][\"link\"]  # Assuming df_sorted is sorted from most recent to oldest\n",
    "most_recent_satellite = most_recent_file.split(\"_\")[2][2:]\n",
    "print(f\"The most recent satellite used is SN{most_recent_satellite} in document {most_recent_file}.\")"
   ]
  },
  {
   "cell_type": "code",
   "execution_count": null,
   "id": "d432d5e4",
   "metadata": {},
   "outputs": [
    {
     "name": "stdout",
     "output_type": "stream",
     "text": [
      "Quantity of unique regions: 93\n"
     ]
    }
   ],
   "source": [
    "# Exercise7: number of unique regions\n",
    "\n",
    "import os\n",
    "import glob\n",
    "import pandas as pd\n",
    "\n",
    "# Get all files\n",
    "files = glob.glob('session_4/**/*.txt', recursive=True)\n",
    "\n",
    "regions = []\n",
    "\n",
    "for file in files:\n",
    "    file = os.path.basename(file)\n",
    "    file_split = file.split(\"_\")\n",
    "    \n",
    "    # Extract the UNIQUE_REGION part (last element without the .txt extension)\n",
    "    region = file_split[-1].replace(\".txt\", \"\")\n",
    "    \n",
    "    # Add region to list if it's unique\n",
    "    if region not in regions:\n",
    "        regions.append(region)\n",
    "\n",
    "# Count unique regions\n",
    "unique_regions = len(regions)\n",
    "print(f\"Number of unique regions: {unique_regions}\")"
   ]
  }
 ],
 "metadata": {
  "celltoolbar": "Slideshow",
  "kernelspec": {
   "display_name": "Python 3",
   "language": "python",
   "name": "python3"
  },
  "language_info": {
   "codemirror_mode": {
    "name": "ipython",
    "version": 3
   },
   "file_extension": ".py",
   "mimetype": "text/x-python",
   "name": "python",
   "nbconvert_exporter": "python",
   "pygments_lexer": "ipython3",
   "version": "3.10.15"
  }
 },
 "nbformat": 4,
 "nbformat_minor": 5
}
