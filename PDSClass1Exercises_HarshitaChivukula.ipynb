{
 "cells": [
  {
   "cell_type": "code",
   "execution_count": 3,
   "id": "b7500880-712a-4d2e-9930-18b37e2a9b0b",
   "metadata": {},
   "outputs": [
    {
     "name": "stdout",
     "output_type": "stream",
     "text": [
      "Hello, Python!\n"
     ]
    }
   ],
   "source": [
    "#Exercise1\n",
    "print(\"Hello, Python!\")"
   ]
  },
  {
   "cell_type": "code",
   "execution_count": 2,
   "id": "7f4c61ad-574f-4f35-a10b-6c30804d0c07",
   "metadata": {},
   "outputs": [
    {
     "name": "stdout",
     "output_type": "stream",
     "text": [
      "Sum: 70\n",
      "Difference: -2\n",
      "Product: 1224\n",
      "Quotient: 0.9444444444444444\n"
     ]
    }
   ],
   "source": [
    "#Exercise2\n",
    "a = 34\n",
    "b = 36\n",
    "sum = a + b\n",
    "diff = a - b\n",
    "product = a * b\n",
    "quotient = a / b\n",
    "print(\"Sum:\", sum)\n",
    "print(\"Difference:\", diff)\n",
    "print(\"Product:\", product)\n",
    "print(\"Quotient:\", quotient)"
   ]
  },
  {
   "cell_type": "code",
   "execution_count": 46,
   "id": "d782d2e1-2627-4ae9-97bc-57da92c36ebd",
   "metadata": {},
   "outputs": [
    {
     "name": "stdout",
     "output_type": "stream",
     "text": [
      "Hello, Harshita!\n"
     ]
    }
   ],
   "source": [
    "#Exercise3\n",
    "name = 'Harshita'\n",
    "print(f\"Hello, {name}!\")"
   ]
  },
  {
   "cell_type": "code",
   "execution_count": 14,
   "id": "299a4fda-1d0c-4724-b34d-a281d35f331e",
   "metadata": {},
   "outputs": [
    {
     "name": "stdout",
     "output_type": "stream",
     "text": [
      "University list: ['Waseda', 'Keio', 'Sophia', 'TokyoU', 'TokyoTech']\n",
      "First university in list: Waseda\n",
      "Last university in list: TokyoTech\n"
     ]
    }
   ],
   "source": [
    "#Exercise4\n",
    "universities = [\"Waseda\", \"Keio\", \"Sophia\", \"TokyoU\", \"TokyoTech\"]\n",
    "print(\"University list:\"universities)\n",
    "print(\"First university in list:\", universities[0])\n",
    "print(\"Last university in list:\", universities[4])"
   ]
  },
  {
   "cell_type": "code",
   "execution_count": 16,
   "id": "714e5a16-0c0a-406b-9cca-8be0f9a8c996",
   "metadata": {},
   "outputs": [
    {
     "name": "stdout",
     "output_type": "stream",
     "text": [
      "name: Harshita Chivukula\n",
      "age: 22\n",
      "grade: A\n"
     ]
    }
   ],
   "source": [
    "#Exercise5\n",
    "student = {\n",
    "    \"name\": \"Harshita Chivukula\",\n",
    "    \"age\": 22,\n",
    "    \"grade\": \"A\"\n",
    "}\n",
    "\n",
    "for key, value in student.items():\n",
    "    print(f\"{key}: {value}\")"
   ]
  },
  {
   "cell_type": "code",
   "execution_count": 41,
   "id": "dfc7399a-f31d-43cc-a249-0d7982b415bf",
   "metadata": {},
   "outputs": [
    {
     "name": "stdout",
     "output_type": "stream",
     "text": [
      "Coordinates: (3, 5)\n",
      "X coordinate: 3\n",
      "Y coordinate: 5\n"
     ]
    }
   ],
   "source": [
    "#Exercise6\n",
    "coordinates = (3, 5)\n",
    "print(\"Coordinates:\", coordinates)\n",
    "x = coordinates[0]\n",
    "y = coordinates[1]\n",
    "print(\"X coordinate:\", x)\n",
    "print(\"Y coordinate:\", y)"
   ]
  },
  {
   "cell_type": "code",
   "execution_count": 28,
   "id": "23eb719b-4fa2-4034-a170-4ac39e9673ad",
   "metadata": {},
   "outputs": [
    {
     "name": "stdout",
     "output_type": "stream",
     "text": [
      "{'blue', 'green', 'red'}\n",
      "{'yellow', 'blue', 'green', 'red'}\n",
      "{'yellow', 'blue', 'green', 'red'}\n",
      "{'yellow', 'blue', 'red'}\n",
      "{'pastel blue', 'pastel yellow', 'blue', 'yellow', 'pastel pink', 'red'}\n"
     ]
    }
   ],
   "source": [
    "#Exercises7\n",
    "colors = {'red', 'green', 'blue'}\n",
    "print(colors)\n",
    "colors.add('yellow')\n",
    "print(colors)\n",
    "colors.add('red')\n",
    "print(colors) #not duplicated, just maintained\n",
    "colors.discard('green')\n",
    "print(colors)\n",
    "light_colors = {'pastel pink', 'pastel blue', 'pastel yellow'}\n",
    "merge = colors.union(light_colors)\n",
    "print(merge)"
   ]
  },
  {
   "cell_type": "code",
   "execution_count": 64,
   "id": "c4a33893-4f31-4877-9aad-787cb8a0760c",
   "metadata": {},
   "outputs": [
    {
     "name": "stdin",
     "output_type": "stream",
     "text": [
      "Number: 78\n"
     ]
    },
    {
     "name": "stdout",
     "output_type": "stream",
     "text": [
      "positive\n"
     ]
    }
   ],
   "source": [
    "#Exercise8\n",
    "number = float(input(\"Number:\"))\n",
    "if number == 0 :\n",
    "    print(\"zero\")\n",
    "elif number > 0:\n",
    "    print(\"positive\")\n",
    "else :\n",
    "    print(\"negative\")"
   ]
  },
  {
   "cell_type": "code",
   "execution_count": 34,
   "id": "226aa7e2-57c2-488d-9b82-a184989dff16",
   "metadata": {},
   "outputs": [
    {
     "name": "stdout",
     "output_type": "stream",
     "text": [
      "1\n",
      "2\n",
      "3\n",
      "4\n",
      "5\n"
     ]
    }
   ],
   "source": [
    "#Exercise9\n",
    "numbers = [1, 2, 3, 4, 5]\n",
    "for number in numbers:\n",
    "    print(number)"
   ]
  },
  {
   "cell_type": "code",
   "execution_count": 38,
   "id": "94e1232a-3a61-4adb-9e6a-08dbe88afcd3",
   "metadata": {},
   "outputs": [
    {
     "name": "stdout",
     "output_type": "stream",
     "text": [
      "1\n",
      "2\n",
      "3\n",
      "4\n",
      "5\n",
      "loop finished\n"
     ]
    }
   ],
   "source": [
    "#Exercise10\n",
    "counter = 1\n",
    "while counter <= 5:\n",
    "    print(counter)\n",
    "    counter += 1\n",
    "else:\n",
    "    print(\"loop finished\")"
   ]
  },
  {
   "cell_type": "code",
   "execution_count": 40,
   "id": "1c536311-7d92-4995-8dc8-44be84b4759f",
   "metadata": {},
   "outputs": [
    {
     "name": "stdin",
     "output_type": "stream",
     "text": [
      "Grade: F\n"
     ]
    },
    {
     "name": "stdout",
     "output_type": "stream",
     "text": [
      "Failing.\n"
     ]
    }
   ],
   "source": [
    "#Exercise11\n",
    "grade = input(\"Grade:\")\n",
    "match grade:\n",
    "    case \"A\":\n",
    "        print(\"Excellent!\")\n",
    "    case \"B\":\n",
    "        print(\"Good job!\")\n",
    "    case \"C\":\n",
    "        print(\"Fair.\")\n",
    "    case \"D\":\n",
    "        print(\"Needs improvement.\")\n",
    "    case \"F\":\n",
    "        print(\"Failing.\")\n",
    "    case _:\n",
    "        print(\"Unknown grade.\") #default message"
   ]
  },
  {
   "cell_type": "code",
   "execution_count": 42,
   "id": "39cecb23-8a51-48b9-9038-39d7c711489e",
   "metadata": {},
   "outputs": [
    {
     "name": "stdout",
     "output_type": "stream",
     "text": [
      "Hello, Harshita!\n"
     ]
    }
   ],
   "source": [
    "#Exercise12\n",
    "def greet(name):\n",
    "    print(f\"Hello, {name}!\")\n",
    "greet(\"Harshita\")"
   ]
  },
  {
   "cell_type": "code",
   "execution_count": 48,
   "id": "1b190c88-4428-4486-996a-526b99ff5516",
   "metadata": {},
   "outputs": [
    {
     "name": "stdout",
     "output_type": "stream",
     "text": [
      "Square of 2: 4\n",
      "Square of 3: 9\n",
      "Square of 4: 16\n"
     ]
    }
   ],
   "source": [
    "#Exercise13\n",
    "def square(number):\n",
    "    return number * number\n",
    "print(\"Square of 2:\", square(2))\n",
    "print(\"Square of 3:\", square(3))\n",
    "print(\"Square of 4:\", square(4))"
   ]
  },
  {
   "cell_type": "code",
   "execution_count": 56,
   "id": "7b963ea4-1fdb-4cb1-9e37-e291578d2f00",
   "metadata": {},
   "outputs": [
    {
     "name": "stdout",
     "output_type": "stream",
     "text": [
      "a = 2, b = default, result: 2\n",
      "a = 2, b = 4, result: 12\n",
      "a = 5, b = default, result: 5\n"
     ]
    }
   ],
   "source": [
    "#Exercise14\n",
    "def multiply(a, b = 1):\n",
    "    return a * b\n",
    "print(\"a = 2, b = default, result:\", multiply(2))\n",
    "print(\"a = 2, b = 4, result:\", multiply(3, 4))\n",
    "print(\"a = 5, b = default, result:\", multiply(5))"
   ]
  },
  {
   "cell_type": "code",
   "execution_count": 62,
   "id": "27246106-7ba2-4ae6-b3c5-c8ed81eda983",
   "metadata": {},
   "outputs": [
    {
     "name": "stdout",
     "output_type": "stream",
     "text": [
      "Numbers list: [1, 2, 3, 4, 5, 6, 7, 8, 9, 10]\n",
      "Squares of numbers list: [1, 4, 9, 16, 25, 36, 49, 64, 81, 100]\n"
     ]
    }
   ],
   "source": [
    "#Exercise15\n",
    "numbers = list(range(1, 11))\n",
    "print(\"Numbers list:\", numbers)\n",
    "squares = [number ** 2 for number in numbers]\n",
    "print(\"Squares of numbers list:\", squares)"
   ]
  },
  {
   "cell_type": "code",
   "execution_count": 88,
   "id": "51af4365-8e8f-4fa9-b121-1114488113f9",
   "metadata": {},
   "outputs": [
    {
     "name": "stdout",
     "output_type": "stream",
     "text": [
      "Student A's average grade: 82.33333333333333\n",
      "Student B's average grade: 86.0\n",
      "Student C's average grade: 91.0\n",
      "Student D's average grade: 73.33333333333333\n"
     ]
    }
   ],
   "source": [
    "#Exercise16\n",
    "students_grades = {\n",
    "    \"Student A\": [85, 90, 72],\n",
    "    \"Student B\": [81, 92, 85],\n",
    "    \"Student C\": [99, 81, 93],\n",
    "    \"Student D\": [55, 75, 90]\n",
    "}\n",
    "\n",
    "def average_grades(students_grades):\n",
    "    for student, grades in students_grades.items():\n",
    "        total = 0 \n",
    "        for grade in grades: \n",
    "            total += grade  \n",
    "        average_grade = total / len(grades) \n",
    "        print(f\"{student}'s average grade: {average_grade}\") \n",
    "\n",
    "average_grades(students_grades)"
   ]
  },
  {
   "cell_type": "code",
   "execution_count": 72,
   "id": "b5fb1153-3e81-46bb-aa70-ee213038ffca",
   "metadata": {},
   "outputs": [
    {
     "name": "stdin",
     "output_type": "stream",
     "text": [
      "Number 1:  5\n",
      "Number 2:  389\n",
      "Enter an operator (+, -, *, /):  +\n"
     ]
    },
    {
     "name": "stdout",
     "output_type": "stream",
     "text": [
      "Result: 5.0 + 389.0 = 394.0\n"
     ]
    }
   ],
   "source": [
    "#Exercise17\n",
    "def calculate(num1, num2, operator):\n",
    "    if operator == '+':\n",
    "        return num1 + num2\n",
    "    elif operator == '-':\n",
    "        return num1 - num2\n",
    "    elif operator == '*':\n",
    "        return num1 * num2\n",
    "    elif operator == '/':\n",
    "        if num2 != 0:\n",
    "            return num1 / num2\n",
    "        else:\n",
    "            return \"Error: Division by zero\"\n",
    "    else:\n",
    "        return \"Invalid operator\"\n",
    "num1 = float(input(\"Number 1: \"))\n",
    "num2 = float(input(\"Number 2: \"))\n",
    "operator = input(\"Enter an operator (+, -, *, /): \")\n",
    "result = calculate(num1, num2, operator)\n",
    "print(f\"Result: {num1} {operator} {num2} = {result}\")"
   ]
  },
  {
   "cell_type": "code",
   "execution_count": null,
   "id": "79ee4321-6e5b-47bf-802a-96bb6eda15d4",
   "metadata": {},
   "outputs": [],
   "source": []
  }
 ],
 "metadata": {
  "kernelspec": {
   "display_name": "Python 3 (ipykernel)",
   "language": "python",
   "name": "python3"
  },
  "language_info": {
   "codemirror_mode": {
    "name": "ipython",
    "version": 3
   },
   "file_extension": ".py",
   "mimetype": "text/x-python",
   "name": "python",
   "nbconvert_exporter": "python",
   "pygments_lexer": "ipython3",
   "version": "3.12.4"
  }
 },
 "nbformat": 4,
 "nbformat_minor": 5
}
