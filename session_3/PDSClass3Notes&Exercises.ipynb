{
 "cells": [
  {
   "cell_type": "markdown",
   "id": "24b98369-c7ba-450b-a8b5-e34319000695",
   "metadata": {
    "editable": true,
    "id": "24b98369-c7ba-450b-a8b5-e34319000695",
    "tags": []
   },
   "source": [
    "# Python for Data Science\n",
    "## Session 3: \n",
    "### Object Oriented Programming"
   ]
  },
  {
   "cell_type": "markdown",
   "id": "3ace1343-d73d-466d-aa07-56febbb7cbf1",
   "metadata": {
    "editable": true,
    "id": "3ace1343-d73d-466d-aa07-56febbb7cbf1",
    "tags": []
   },
   "source": [
    "---"
   ]
  },
  {
   "cell_type": "markdown",
   "id": "c5ffee69-5d4d-4f1c-9ed7-083afbc931ec",
   "metadata": {
    "editable": true,
    "id": "c5ffee69-5d4d-4f1c-9ed7-083afbc931ec",
    "tags": []
   },
   "source": [
    "## Outline\n",
    "1. Classes and objects\n",
    "2. Abstraction and Inheritance\n",
    "3. Polymorphism and Encapsulation"
   ]
  },
  {
   "cell_type": "markdown",
   "id": "aba315f4-e9bf-4a66-b3d3-593037c3ca70",
   "metadata": {
    "editable": true,
    "id": "aba315f4-e9bf-4a66-b3d3-593037c3ca70",
    "tags": []
   },
   "source": [
    "---"
   ]
  },
  {
   "cell_type": "markdown",
   "id": "8ed45dcb-2cf5-4bfa-ba6e-5da25c59757c",
   "metadata": {
    "editable": true,
    "id": "8ed45dcb-2cf5-4bfa-ba6e-5da25c59757c",
    "tags": []
   },
   "source": [
    "## Object Oriented programming\n",
    "\n",
    "In Data science there are three different types of programming paradigms:\n",
    "\n",
    "1. **Object-oriented programming** organizes code using objects that represent real-world entities. It provides modularity, code reuse and abstraction, making it suitable for handling large and complex applications.\n",
    "\n",
    "2. **Functional programming** emphasizes the use of **pure functions** that can be easily composed and reused, ideal for transforming data.\n",
    "\n",
    "3. **Declarative programming** consists in specifyin what the program should accomplish, rather than how to accomplish it.\n",
    "\n"
   ]
  },
  {
   "cell_type": "markdown",
   "id": "42f9f227-0941-4967-9a4b-c282bb0e4cfc",
   "metadata": {
    "editable": true,
    "id": "42f9f227-0941-4967-9a4b-c282bb0e4cfc",
    "tags": []
   },
   "source": [
    "**Pure functions** are functions that always produce the same output for the same input and haven't got any side effects, meaning it does not modify external states or variables."
   ]
  },
  {
   "cell_type": "markdown",
   "id": "00b01ced-eda7-423f-8522-96bd3f1a4125",
   "metadata": {
    "editable": true,
    "id": "00b01ced-eda7-423f-8522-96bd3f1a4125",
    "tags": []
   },
   "source": [
    "---"
   ]
  },
  {
   "cell_type": "markdown",
   "id": "9434c993-aac1-4655-bf69-477b9dc5d2ee",
   "metadata": {
    "editable": true,
    "id": "9434c993-aac1-4655-bf69-477b9dc5d2ee",
    "tags": []
   },
   "source": [
    "## Object Oriented programming\n",
    "\n",
    "OOP main concepts are:\n",
    "\n",
    "1. **Class**: A template to create objects.\n",
    "2. **Object**: An instance of a class, representing a specific entity.\n",
    "3. **Attributes**: Properties of an object (variables within a class that define it).\n",
    "4. **Methods**: Actions that objects can perform (functions within a class)."
   ]
  },
  {
   "cell_type": "code",
   "execution_count": 1,
   "id": "1e350f15-ae19-4323-a1c6-25d80118a5f3",
   "metadata": {
    "editable": true,
    "id": "1e350f15-ae19-4323-a1c6-25d80118a5f3",
    "tags": []
   },
   "outputs": [],
   "source": [
    "class Pet:\n",
    "    pass  # Empty class as a placeholder"
   ]
  },
  {
   "cell_type": "code",
   "execution_count": 2,
   "id": "2e427c6d-a0fc-47de-a6e8-de71ae500619",
   "metadata": {
    "editable": true,
    "id": "2e427c6d-a0fc-47de-a6e8-de71ae500619",
    "tags": []
   },
   "outputs": [],
   "source": [
    "my_pet = Pet() # Instance of a class = object"
   ]
  },
  {
   "cell_type": "code",
   "execution_count": 3,
   "id": "1cda9d57-aedb-4e70-af5b-7193174a2430",
   "metadata": {
    "editable": true,
    "id": "1cda9d57-aedb-4e70-af5b-7193174a2430",
    "tags": []
   },
   "outputs": [],
   "source": [
    "# Note: self refers to the instance of the class and is used to access its attributes and methods\n",
    "class Pet:\n",
    "    def __init__(self, name): # constructor\n",
    "        self.name = name"
   ]
  },
  {
   "cell_type": "code",
   "execution_count": 4,
   "id": "c4f13ca9-dd0a-4b53-8f30-5a507979b1ed",
   "metadata": {
    "editable": true,
    "id": "c4f13ca9-dd0a-4b53-8f30-5a507979b1ed",
    "tags": []
   },
   "outputs": [],
   "source": [
    "class Pet:\n",
    "    def __init__(self, name): # constructor\n",
    "        self.name = name # Instance attribute\n",
    "        self.age = None # Instance attribute set to None\n",
    "\n",
    "    def set_age(self, age): # Method\n",
    "        self.age = age"
   ]
  },
  {
   "cell_type": "markdown",
   "id": "92887f1e-c2b9-4abc-9324-af4c15250c3a",
   "metadata": {
    "editable": true,
    "id": "92887f1e-c2b9-4abc-9324-af4c15250c3a",
    "tags": []
   },
   "source": [
    "---"
   ]
  },
  {
   "cell_type": "markdown",
   "id": "d6c81e01-e268-4490-b970-b9f3d7a08d30",
   "metadata": {
    "editable": true,
    "id": "d6c81e01-e268-4490-b970-b9f3d7a08d30",
    "tags": []
   },
   "source": [
    "## Object Oriented programming\n",
    "### Abstraction\n",
    "\n",
    "Abstraction consists in hiding any variables and internal parts of an object that don’t need to be shown during interaction. Making only available the essential functionalities.\n",
    "\n",
    "You may want to call a method from an object that searches for something in an internal list, and in this case, you don't need to see the algorithm behind it, you just need to call the method and get what you want."
   ]
  },
  {
   "cell_type": "markdown",
   "id": "23e1e6b4-322a-4cd5-8a82-72877cc98804",
   "metadata": {
    "editable": true,
    "id": "23e1e6b4-322a-4cd5-8a82-72877cc98804",
    "tags": []
   },
   "source": [
    "## Object Oriented programming\n",
    "### Inheritance\n",
    "\n",
    "Inheritance permits any class to inherit attributes and methods from another class. This reduces code duplication and enables the creation of specialized classes based on general ones."
   ]
  },
  {
   "cell_type": "code",
   "execution_count": 5,
   "id": "76c58110-a965-432f-8dcf-f457079fec65",
   "metadata": {
    "editable": true,
    "id": "76c58110-a965-432f-8dcf-f457079fec65",
    "tags": []
   },
   "outputs": [],
   "source": [
    "class Pet:\n",
    "    def __init__(self, age, name): # Constructor\n",
    "        self.age = age # Attribute\n",
    "        self.name = name # Attribute\n",
    "\n",
    "    def describe(self): # Method\n",
    "        print(f\"This pet's name is {self.name}.\")\n",
    "\n",
    "class Dog(Pet):\n",
    "    def __init__(self, age, name, breed): # Constructor\n",
    "        super().__init__(age, name)  # Call the parent class's __init__ method\n",
    "        self.breed = breed # New attribute for this specialized class\n",
    "\n",
    "    def describe(self):\n",
    "        super().describe()  # Call the parent class's describe method\n",
    "        print(f\"This dog is {self.age} years old and is a {self.breed}.\")"
   ]
  },
  {
   "cell_type": "code",
   "execution_count": 6,
   "id": "48301f74-ece3-49ec-9332-2c168743ebc8",
   "metadata": {
    "editable": true,
    "id": "48301f74-ece3-49ec-9332-2c168743ebc8",
    "tags": []
   },
   "outputs": [],
   "source": [
    "my_dog = Dog(3, 'Rock', 'Great Dane')"
   ]
  },
  {
   "cell_type": "code",
   "execution_count": 7,
   "id": "eae7678f-665a-4916-96d2-3926a312aea5",
   "metadata": {
    "editable": true,
    "id": "eae7678f-665a-4916-96d2-3926a312aea5",
    "outputId": "3abb92a2-d911-43f9-bf4b-bb7ecdaf371f",
    "tags": []
   },
   "outputs": [
    {
     "name": "stdout",
     "output_type": "stream",
     "text": [
      "This pet's name is Rock.\n",
      "This dog is 3 years old and is a Great Dane.\n"
     ]
    }
   ],
   "source": [
    "my_dog.describe()"
   ]
  },
  {
   "cell_type": "markdown",
   "id": "220f9368-0c1a-4ac8-9785-a33b11e5df77",
   "metadata": {
    "editable": true,
    "id": "220f9368-0c1a-4ac8-9785-a33b11e5df77",
    "tags": []
   },
   "source": [
    "---"
   ]
  },
  {
   "cell_type": "markdown",
   "id": "88ff8053-d1d0-4c08-b8e5-6c84e94c4f24",
   "metadata": {
    "editable": true,
    "id": "88ff8053-d1d0-4c08-b8e5-6c84e94c4f24",
    "tags": []
   },
   "source": [
    "## Object Oriented programming\n",
    "### Polymorphism\n",
    "\n",
    "It allows the same method name to behave differently based on the object calling it, which can be achieved through method overriding."
   ]
  },
  {
   "cell_type": "code",
   "execution_count": 8,
   "id": "db4cd9e2-0188-4511-a81b-070221d74af5",
   "metadata": {
    "editable": true,
    "id": "db4cd9e2-0188-4511-a81b-070221d74af5",
    "tags": []
   },
   "outputs": [],
   "source": [
    "class Cat(Pet):\n",
    "    def __init__(self, age, name, breed): # Constructor\n",
    "        super().__init__(age, name)  # Call the parent class's __init__ method\n",
    "        self.breed = breed # New attribute for this specialized class\n",
    "\n",
    "    def describe(self): # Method\n",
    "        print(f\"This super cat is {self.age} years old and is a {self.breed}.\")"
   ]
  },
  {
   "cell_type": "code",
   "execution_count": 9,
   "id": "ced1143b-98db-46db-8e90-fed185aad835",
   "metadata": {
    "editable": true,
    "id": "ced1143b-98db-46db-8e90-fed185aad835",
    "outputId": "3c3d99c3-5191-40d9-a25c-9d4516c6ca93",
    "tags": []
   },
   "outputs": [
    {
     "name": "stdout",
     "output_type": "stream",
     "text": [
      "This super cat is 7 years old and is a Siamese.\n"
     ]
    }
   ],
   "source": [
    "my_cat = Cat(7, 'Bella', 'Siamese')\n",
    "my_cat.describe()"
   ]
  },
  {
   "cell_type": "markdown",
   "id": "cd327548-f048-4d39-9b72-6dff6cd6963d",
   "metadata": {
    "editable": true,
    "id": "cd327548-f048-4d39-9b72-6dff6cd6963d",
    "tags": []
   },
   "source": [
    "---"
   ]
  },
  {
   "cell_type": "markdown",
   "id": "854b31bb-2b21-42fd-939a-f82f71a549f0",
   "metadata": {
    "editable": true,
    "id": "854b31bb-2b21-42fd-939a-f82f71a549f0",
    "tags": []
   },
   "source": [
    "## Object Oriented programming\n",
    "### Encapsulation\n",
    "\n",
    "It consists in restricting access to variables and methods outside the object. This way we ensure the integrity of the data within the object.\n",
    "\n",
    "In python, prefixing a variable or method name with an underscore **_** indicates that it is intended for internal use only, while a double underscore **__** modifies the variable name for better encapsulation.\n",
    "\n",
    "It is worth mentioning that this is a convention, and variables and methods are still accessible."
   ]
  },
  {
   "cell_type": "code",
   "execution_count": 10,
   "id": "33e1bdf2-8798-41f1-9ed3-957c730dc9ad",
   "metadata": {
    "editable": true,
    "id": "33e1bdf2-8798-41f1-9ed3-957c730dc9ad",
    "tags": []
   },
   "outputs": [],
   "source": [
    "class Student:\n",
    "    def __init__(self, name, age, address = None):\n",
    "        self.name = name # Public attribute\n",
    "        self._age =   age # Private attribute\n",
    "        self._address = address  # Private attribute\n",
    "\n",
    "    def get_address(self): # Method\n",
    "        return self._address\n",
    "\n",
    "    def set_address(self, address): # Method\n",
    "        address = ''.join(filter(self._remove_special_characters, address))\n",
    "        self._address = address\n",
    "\n",
    "    def _remove_special_characters(self, character): # Private method\n",
    "        if character.isalnum() or character == ' ' or character == '-':\n",
    "            return True\n",
    "        else:\n",
    "            return False\n"
   ]
  },
  {
   "cell_type": "code",
   "execution_count": 11,
   "id": "a4e46c71-63e9-474e-91a6-9d9a323636dc",
   "metadata": {
    "editable": true,
    "id": "a4e46c71-63e9-474e-91a6-9d9a323636dc",
    "outputId": "f3fdcc29-3661-46e6-e645-397a94c9874c",
    "tags": []
   },
   "outputs": [
    {
     "name": "stdout",
     "output_type": "stream",
     "text": [
      "The student named Joan has the following address: Avinguda Buenos Aires nº 31 7e-1a\n"
     ]
    }
   ],
   "source": [
    "student = Student(\"Joan\", 24)\n",
    "student.set_address(\"Avinguda Buenos Aires nº 31! 7e-1a\")\n",
    "print(f\"The student named {student.name} has the following address: {student.get_address()}\")"
   ]
  },
  {
   "cell_type": "markdown",
   "id": "f4552012-e0e9-40af-8801-69d83733d433",
   "metadata": {
    "editable": true,
    "id": "f4552012-e0e9-40af-8801-69d83733d433",
    "tags": []
   },
   "source": [
    "---"
   ]
  },
  {
   "cell_type": "markdown",
   "id": "42f8be9a-cc71-4a58-97ac-1a54219a2d72",
   "metadata": {
    "editable": true,
    "id": "42f8be9a-cc71-4a58-97ac-1a54219a2d72",
    "tags": []
   },
   "source": [
    "## Object Oriented programming\n",
    "### Hands on\n",
    "\n",
    "Let's design a course registration system, where the requirements will be:\n",
    "\n",
    "1. Create a **Course** class, where each course has a name, a description and a list of enrolled students. You'll need to implement the next methods:\n",
    "    - Add a student to the course.\n",
    "    - Remove a student from the course.\n",
    "    - Show all students in the course."
   ]
  },
  {
   "cell_type": "code",
   "execution_count": 12,
   "id": "e5430dcf-a01a-4ea1-aff8-5bad4531ab1e",
   "metadata": {
    "editable": true,
    "id": "e5430dcf-a01a-4ea1-aff8-5bad4531ab1e",
    "tags": []
   },
   "outputs": [],
   "source": [
    "# Exercise1 \n",
    "\n",
    "class Course:\n",
    "    def __init__(self, name, course_type):\n",
    "        self.name = name\n",
    "        self.course_type = course_type\n",
    "        self.students = []\n",
    "        print(f\"The course that student(s) can register for is {self.name} and it is about {self.course_type}.\")\n",
    "\n",
    "    def add_student(self, student):\n",
    "        if student in self.students:\n",
    "            print(f\"{student} is already enrolled in {self.name}.\")\n",
    "        else:\n",
    "            self.students.append(student)\n",
    "            print(f\"{student} has been added to {self.name}.\")\n",
    "\n",
    "    def remove_student(self, student):\n",
    "        if student in self.students:\n",
    "            self.students.remove(student)\n",
    "            print(f\"{student} has been removed from {self.name}.\")\n",
    "        else:\n",
    "            print(f\"{student} is not enrolled in {self.name}, so cannot be removed.\")\n",
    "\n",
    "    def show_students(self):\n",
    "        if not self.students:\n",
    "            print(\"No students are currently enrolled in this course.\")\n",
    "        else:\n",
    "            print(\"Students enrolled in the course:\")\n",
    "            for student in self.students:\n",
    "                print(student)"
   ]
  },
  {
   "cell_type": "markdown",
   "id": "7dd54454",
   "metadata": {},
   "source": [
    "##  Exercise1 Overview\n",
    "\n",
    "This `Course` class provides a simple system for managing student enrollments with built-in edge case handling. Key components include:\n",
    "\n",
    "- **Attributes**:\n",
    "  - `name`: Course name.\n",
    "  - `course_type`: Course description.\n",
    "  - `students`: List of enrolled students (initially empty).\n",
    "\n",
    "- **Methods**:\n",
    "  - `add_student(student)`: Adds a student if not already enrolled.\n",
    "  - `remove_student(student)`: Removes a student if enrolled; otherwise, displays a message.\n",
    "  - `show_students()`: Lists enrolled students or notifies if the course is empty.\n",
    "\n",
    "- **Edge Cases**:\n",
    "  - **Duplicate Enrollments**: Prevents adding the same student twice.\n",
    "  - **Non-existent Removals**: Checks if the student exists before removal.\n",
    "  - **Empty Course**: Handles no students enrolled by displaying an appropriate message.\n",
    "\n",
    "### Usage\n",
    "1. **Create a course**: `course = Course(\"Course Name\", \"Description\")`\n",
    "2. **Add/Remove students**: `course.add_student(\"Student Name\")`, `course.remove_student(\"Student Name\")`\n",
    "3. **Display students**: `course.show_students()`\n",
    "\n",
    "This setup ensures reliable course management by addressing common errors."
   ]
  },
  {
   "cell_type": "code",
   "execution_count": 13,
   "id": "20595f1c",
   "metadata": {},
   "outputs": [
    {
     "name": "stdout",
     "output_type": "stream",
     "text": [
      "The course that student(s) can register for is Python for Data Science and it is about Python Fundamentals.\n",
      "\n",
      "\n",
      "Harshita has been added to Python for Data Science.\n",
      "Bob has been added to Python for Data Science.\n",
      "\n",
      "\n",
      "Students enrolled in the course:\n",
      "Harshita\n",
      "Bob\n",
      "\n",
      "\n",
      "Bob has been removed from Python for Data Science.\n",
      "\n",
      "\n",
      "Students enrolled in the course:\n",
      "Harshita\n"
     ]
    }
   ],
   "source": [
    "# Exercise1 Output Check\n",
    "\n",
    "# Create and initialize a course object\n",
    "course1 = Course(\"Python for Data Science\", \"Python Fundamentals\")\n",
    "print(\"\\n\")\n",
    "\n",
    "# Add students to the course\n",
    "course1.add_student(\"Harshita\")\n",
    "course1.add_student(\"Bob\")\n",
    "print(\"\\n\")\n",
    "\n",
    "# Display the list of students currently enrolled in the course\n",
    "course1.show_students()\n",
    "print(\"\\n\")\n",
    "\n",
    "# Remove a student from the course\n",
    "course1.remove_student(\"Bob\")\n",
    "print(\"\\n\")\n",
    "\n",
    "# Display the updated list of students in the course\n",
    "course1.show_students()"
   ]
  },
  {
   "cell_type": "markdown",
   "id": "16cc578c-9fe3-4478-81da-3071e3adb318",
   "metadata": {
    "editable": true,
    "id": "16cc578c-9fe3-4478-81da-3071e3adb318",
    "tags": []
   },
   "source": [
    "## Object Oriented programming\n",
    "### Hands on\n",
    "\n",
    "2. Create a **Student** class, where each student has a name, ID number, address and a list of enrolled courses with the following methods:\n",
    "    - Enroll in a course.\n",
    "    - Drop a course.\n",
    "    - Show all registered student courses."
   ]
  },
  {
   "cell_type": "code",
   "execution_count": 14,
   "id": "fe4cce31-1ddf-4847-bc8d-924dc3e0dfe1",
   "metadata": {
    "editable": true,
    "id": "fe4cce31-1ddf-4847-bc8d-924dc3e0dfe1",
    "tags": []
   },
   "outputs": [],
   "source": [
    "# Exercise2\n",
    "\n",
    "class Student:\n",
    "    def __init__(self, name, student_id, address):\n",
    "        self.name = name\n",
    "        self.student_id = student_id\n",
    "        self.address = address\n",
    "        self.courses = []\n",
    "        print(f\"The course registration activity for {self.name} (ID: {self.student_id}; Address: {self.address}) is as follows:\")\n",
    "\n",
    "    def enroll_course(self, course):\n",
    "        if course in self.courses:\n",
    "            print(f\"{self.name} is already enrolled in {course.name}.\")\n",
    "        else:\n",
    "            self.courses.append(course)\n",
    "            course.add_student(self.name)\n",
    "            print(f\"{self.name} has enrolled in {course.name}.\")\n",
    "\n",
    "    def drop_course(self, course):\n",
    "        if course in self.courses:\n",
    "            self.courses.remove(course)\n",
    "            course.remove_student(self.name)\n",
    "            print(f\"{self.name} has dropped {course.name}.\")\n",
    "        else:\n",
    "            print(f\"{self.name} is not enrolled in {course.name}, so cannot be dropped.\")\n",
    "\n",
    "    def show_courses(self):\n",
    "        if not self.courses:\n",
    "            print(f\"{self.name} is not enrolled in any courses.\")\n",
    "        else:\n",
    "            print(f\"{self.name} is enrolled in the following courses:\")\n",
    "            for course in self.courses:\n",
    "                print(course.name)"
   ]
  },
  {
   "cell_type": "markdown",
   "id": "112cb315",
   "metadata": {},
   "source": [
    "## Exercise 2 Overview\n",
    "\n",
    "The `Student` class enables a student to manage their course enrollments with methods for enrolling, dropping, and viewing registered courses. It also includes edge case handling for smoother functionality.\n",
    "\n",
    "- **Attributes**:\n",
    "  - `name`: Student's name.\n",
    "  - `student_id`: Unique ID for the student.\n",
    "  - `address`: Student's address.\n",
    "  - `courses`: List of enrolled courses (initially empty).\n",
    "\n",
    "- **Methods**:\n",
    "  - `enroll_course(course)`: Adds a course if not already enrolled, updates both the student’s and course’s records.\n",
    "  - `drop_course(course)`: Removes a course if enrolled, ensuring both the student and course lists stay consistent.\n",
    "  - `show_courses()`: Lists all courses the student is enrolled in or indicates if no courses are registered.\n",
    "\n",
    "- **Edge Cases**:\n",
    "  - **Duplicate Enrollments**: Prevents re-enrollment in the same course.\n",
    "  - **Dropping Non-existent Courses**: Checks if the course is enrolled before dropping.\n",
    "  - **No Enrolled Courses**: Displays a message if the student has no courses when calling `show_courses()`.\n",
    "\n",
    "### Usage\n",
    "1. **Create a student**: `student = Student(\"Alice\", \"12345\", \"123 Main St\")`\n",
    "2. **Enroll/Drop courses**: `student.enroll_course(course)`, `student.drop_course(course)`\n",
    "3. **Display courses**: `student.show_courses()`\n",
    "\n",
    "This `Student` class provides clear course management functionality with essential edge case handling for reliability."
   ]
  },
  {
   "cell_type": "code",
   "execution_count": 15,
   "id": "bcbdee74",
   "metadata": {},
   "outputs": [
    {
     "name": "stdout",
     "output_type": "stream",
     "text": [
      "The course registration activity for Harshita (ID: Studentno1; Address: Sant Cugat 123) is as follows:\n",
      "\n",
      "\n",
      "The course that student(s) can register for is Python for Data Science and it is about Python Fundamentals.\n",
      "The course that student(s) can register for is Cloud Computing and it is about AWS Fundamentals.\n",
      "\n",
      "\n",
      "Harshita has been added to Python for Data Science.\n",
      "Harshita has enrolled in Python for Data Science.\n",
      "Harshita has been added to Cloud Computing.\n",
      "Harshita has enrolled in Cloud Computing.\n",
      "\n",
      "\n",
      "Harshita is enrolled in the following courses:\n",
      "Python for Data Science\n",
      "Cloud Computing\n",
      "\n",
      "\n",
      "Harshita has been removed from Python for Data Science.\n",
      "Harshita has dropped Python for Data Science.\n",
      "\n",
      "\n",
      "Harshita is enrolled in the following courses:\n",
      "Cloud Computing\n"
     ]
    }
   ],
   "source": [
    "# Exercise2 Output Check\n",
    "\n",
    "# Create and initialize student details\n",
    "student1 = Student(\"Harshita\", \"Studentno1\", \"Sant Cugat 123\")\n",
    "print(\"\\n\")\n",
    "\n",
    "# Create and initialize courses (similar to Exercise 1)\n",
    "course1 = Course(\"Python for Data Science\", \"Python Fundamentals\")\n",
    "course2 = Course(\"Cloud Computing\", \"AWS Fundamentals\")\n",
    "print(\"\\n\")\n",
    "\n",
    "# Enroll the student in the courses (internally calls the add_student method from the Course class)\n",
    "student1.enroll_course(course1)\n",
    "student1.enroll_course(course2)\n",
    "print(\"\\n\")\n",
    "\n",
    "# Show the courses the student is currently enrolled in\n",
    "# This uses the show_courses method from the Student class to display the courses the student is registered in.\n",
    "# This mirrors the show_students method in Exercise 1 but now displays courses instead of students.\n",
    "student1.show_courses()\n",
    "print(\"\\n\")\n",
    "\n",
    "# Drop one course for student (internally calls the remove_student method from the Course class)\n",
    "student1.drop_course(course1)\n",
    "print(\"\\n\")\n",
    "\n",
    "# Display the updated list of course student is taking\n",
    "student1.show_courses()"
   ]
  },
  {
   "cell_type": "markdown",
   "id": "5c54b2fe-691f-4520-b8d6-2515ba92b808",
   "metadata": {
    "editable": true,
    "id": "5c54b2fe-691f-4520-b8d6-2515ba92b808",
    "tags": []
   },
   "source": [
    "## Object Oriented programming\n",
    "### Hands on\n",
    "\n",
    "3. Create a central class that manages courses and students, **Registration** class, where you have a list of students and a list of courses, and methods:\n",
    "    - Enroll in a course.\n",
    "    - Drop a course.\n",
    "    - Show all the enrolled courses.\n",
    "    - Show all the students."
   ]
  },
  {
   "cell_type": "code",
   "execution_count": 16,
   "id": "863f30c7-3cf8-4ac9-8599-e7df8e0d483c",
   "metadata": {
    "editable": true,
    "id": "863f30c7-3cf8-4ac9-8599-e7df8e0d483c",
    "tags": []
   },
   "outputs": [],
   "source": [
    "# Exercise3\n",
    "\n",
    "class Registration:\n",
    "    def __init__(self):\n",
    "        self.courses = {}  # Dictionary with course names as keys and lists of student names as values\n",
    "        self.students = {}  # Dictionary with student names as keys and lists of enrolled courses as values\n",
    "\n",
    "    def enroll_course(self, student, course):\n",
    "        # Ensure course and student entries exist\n",
    "        self.courses.setdefault(course.name, [])\n",
    "        self.students.setdefault(student.name, [])\n",
    "        # Check if the student is already enrolled in the course to avoid duplicates\n",
    "        if student.name not in self.courses[course.name]:\n",
    "            self.courses[course.name].append(student.name)\n",
    "            self.students[student.name].append(course.name)\n",
    "            print(f\"{student.name} has been enrolled in {course.name}.\")\n",
    "        else:\n",
    "            print(f\"{student.name} is already enrolled in {course.name}.\")\n",
    "\n",
    "    def drop_course(self, student, course):\n",
    "        # Ensure the course and student exist in records before attempting to drop\n",
    "        if student.name in self.courses.get(course.name, []) and course.name in self.students.get(student.name, []):\n",
    "            self.courses[course.name].remove(student.name)\n",
    "            self.students[student.name].remove(course.name)\n",
    "            print(f\"{student.name} has been dropped from {course.name}.\")\n",
    "        else:\n",
    "            print(f\"{student.name} is not enrolled in {course.name}, so cannot be dropped.\")\n",
    "\n",
    "    def show_all_courses(self):\n",
    "        print(\"Courses and their enrolled students:\")\n",
    "        for course_name, students in self.courses.items():\n",
    "            if students:\n",
    "                print(f\"Course: {course_name} - Students enrolled:\")\n",
    "                for student in students:\n",
    "                    print(f\"  {student}\")\n",
    "            else:\n",
    "                print(f\"Course: {course_name} - No students enrolled\")\n",
    "\n",
    "    def show_all_students(self):\n",
    "        print(\"Students and their enrolled courses:\")\n",
    "        for student_name, courses in self.students.items():\n",
    "            if courses:\n",
    "                print(f\"Student: {student_name} - Courses:\")\n",
    "                for course in courses:\n",
    "                    print(f\"  {course}\")\n",
    "            else:\n",
    "                print(f\"Student: {student_name} - No courses enrolled\")"
   ]
  },
  {
   "cell_type": "markdown",
   "id": "631bb037",
   "metadata": {},
   "source": [
    "# Exercise 3 Overview\n",
    "\n",
    "The `Registration` class provides a central system to manage course and student enrollments with functions for enrolling, dropping, and viewing students and courses. It uses dictionaries to track enrolled students for each course and the courses each student is registered in, while handling edge cases for smoother operation.\n",
    "\n",
    "- **Attributes**:\n",
    "  - `courses`: Dictionary with course names as keys and lists of student names as values.\n",
    "  - `students`: Dictionary with student names as keys and lists of enrolled courses as values.\n",
    "\n",
    "- **Methods**:\n",
    "  - `enroll_course(student, course)`: Enrolls a student in a course if not already enrolled.\n",
    "  - `drop_course(student, course)`: Drops a student from a course if they are enrolled.\n",
    "  - `show_all_courses()`: Lists all courses with enrolled students or notes if a course has no students.\n",
    "  - `show_all_students()`: Lists all students with their enrolled courses or notes if a student has no courses.\n",
    "\n",
    "- **Edge Cases**:\n",
    "  - **Duplicate Enrollments**: Prevents re-enrollment in the same course.\n",
    "  - **Dropping Non-existent Enrollments**: Checks if the student is enrolled in a course before attempting to drop.\n",
    "  - **No Enrollments**: Shows appropriate messages if a course or student has no enrollments when displaying information.\n",
    "\n",
    "### Usage\n",
    "1. **Create a registration system**: `registration = Registration()`\n",
    "2. **Enroll/Drop students**: `registration.enroll_course(student, course)`, `registration.drop_course(student, course)`\n",
    "3. **Display courses/students**: `registration.show_all_courses()`, `registration.show_all_students()`\n",
    "\n",
    "This class centralizes course and student management while addressing common edge cases for efficient tracking."
   ]
  },
  {
   "cell_type": "code",
   "execution_count": 17,
   "id": "d992dc48",
   "metadata": {},
   "outputs": [
    {
     "name": "stdout",
     "output_type": "stream",
     "text": [
      "The course registration activity for Harshita (ID: Studentno1; Address: Sant Cugat 123) is as follows:\n",
      "The course registration activity for Bob (ID: Studentno2; Address: Sant Cugat 789) is as follows:\n",
      "\n",
      "\n",
      "The course that student(s) can register for is Python for Data Science and it is about Python Fundamentals.\n",
      "The course that student(s) can register for is Cloud Computing and it is about AWS Fundamentals.\n",
      "\n",
      "\n",
      "Harshita has been enrolled in Python for Data Science.\n",
      "Bob has been enrolled in Cloud Computing.\n",
      "\n",
      "\n",
      "Courses and their enrolled students:\n",
      "Course: Python for Data Science - Students enrolled:\n",
      "  Harshita\n",
      "Course: Cloud Computing - Students enrolled:\n",
      "  Bob\n",
      "Students and their enrolled courses:\n",
      "Student: Harshita - Courses:\n",
      "  Python for Data Science\n",
      "Student: Bob - Courses:\n",
      "  Cloud Computing\n",
      "\n",
      "\n",
      "Harshita has been dropped from Python for Data Science.\n",
      "\n",
      "\n",
      "Courses and their enrolled students:\n",
      "Course: Python for Data Science - No students enrolled\n",
      "Course: Cloud Computing - Students enrolled:\n",
      "  Bob\n",
      "Students and their enrolled courses:\n",
      "Student: Harshita - No courses enrolled\n",
      "Student: Bob - Courses:\n",
      "  Cloud Computing\n",
      "\n",
      "\n"
     ]
    }
   ],
   "source": [
    "# Exercise3 Output Check\n",
    "\n",
    "# Create the registration system\n",
    "registration_system = Registration()\n",
    "\n",
    "# Create students\n",
    "student1 = Student(\"Harshita\", \"Studentno1\", \"Sant Cugat 123\")\n",
    "student2 = Student(\"Bob\", \"Studentno2\", \"Sant Cugat 789\")\n",
    "print(\"\\n\")\n",
    "\n",
    "# Create courses\n",
    "course1 = Course(\"Python for Data Science\", \"Python Fundamentals\")\n",
    "course2 = Course(\"Cloud Computing\", \"AWS Fundamentals\")\n",
    "print(\"\\n\")\n",
    "\n",
    "# Enroll students\n",
    "registration_system.enroll_course(student1, course1)\n",
    "registration_system.enroll_course(student2, course2)\n",
    "print(\"\\n\")\n",
    "\n",
    "# Show all courses and students\n",
    "registration_system.show_all_courses()\n",
    "registration_system.show_all_students()\n",
    "print(\"\\n\")\n",
    "\n",
    "# Drop a student\n",
    "registration_system.drop_course(student1, course1)\n",
    "print(\"\\n\")\n",
    "\n",
    "# Show courses and students again after the drop\n",
    "registration_system.show_all_courses()\n",
    "registration_system.show_all_students()\n",
    "print(\"\\n\")"
   ]
  },
  {
   "cell_type": "markdown",
   "id": "2958b01b-3472-4c95-ae1f-771edc638749",
   "metadata": {
    "editable": true,
    "id": "2958b01b-3472-4c95-ae1f-771edc638749",
    "tags": []
   },
   "source": [
    "## Object Oriented programming\n",
    "### Howework\n",
    "\n",
    "4. Let's add grades to each student's course and create method that yields the GPA given a student name or ID."
   ]
  },
  {
   "cell_type": "code",
   "execution_count": 18,
   "id": "2a5df7c7",
   "metadata": {},
   "outputs": [],
   "source": [
    "# Exercise4\n",
    "\n",
    "class RegistrationWithGrades(Registration):  # Extending the existing Registration class\n",
    "    def __init__(self):\n",
    "        super().__init__()  # Call the base Registration class constructor\n",
    "        self.grades = {}  # Dictionary to store grades for each student's courses\n",
    "    \n",
    "    def assign_grade(self, student, course, grade):  # Assign a grade to a course for a student\n",
    "        # Ensure the student is enrolled in the course before assigning a grade\n",
    "        if course.name in self.students.get(student.name, []):\n",
    "            self.grades.setdefault(student.name, {})  # Ensure the student has a grades dictionary\n",
    "            self.grades[student.name][course.name] = grade  # Assign grade to the course\n",
    "            print(f\"Assigned grade {grade} for {student.name} in {course.name}.\")\n",
    "        else:\n",
    "            print(f\"{student.name} is not enrolled in {course.name}, so grade cannot be assigned.\")\n",
    "    \n",
    "    def calculate_gpa(self, student_name):  # Calculate GPA for a student based on their grades\n",
    "        # Check if there are any grades for the student\n",
    "        student_grades = self.grades.get(student_name, {})\n",
    "        if student_grades:\n",
    "            grades = list(student_grades.values())  # Retrieve student grades\n",
    "            gpa = sum(grades) / len(grades)  # Calculate GPA as the average of the grades\n",
    "            print(f\"GPA for {student_name}: {gpa:.2f}\")\n",
    "        else:\n",
    "            print(f\"No grades available for {student_name}, so GPA cannot be calculated.\")\n",
    "    \n",
    "    def show_all_students_with_grades(self):  # Show all students and their courses with grades\n",
    "        print(\"Students and their courses with grades:\")\n",
    "        for student, courses in self.students.items():  # Loop through each student and their enrolled courses\n",
    "            print(f\"{student}:\")\n",
    "            for course in courses:  # Loop through each course the student is enrolled in\n",
    "                grade = self.grades.get(student, {}).get(course, 'Not graded')  # Get the grade, if assigned\n",
    "                print(f\"  {course}: Grade {grade}\")"
   ]
  },
  {
   "cell_type": "markdown",
   "id": "6c11beda",
   "metadata": {},
   "source": [
    "## Exercise 4 Overview\n",
    "\n",
    "The `RegistrationWithGrades` class extends the `Registration` system to manage course grades for students. It includes methods for assigning grades, calculating GPA, and viewing all students with their grades, and it handles several edge cases for more robust functionality.\n",
    "\n",
    "- **Attributes**:\n",
    "  - `grades`: Dictionary storing grades for each student’s courses.\n",
    "\n",
    "- **Methods**:\n",
    "  - `assign_grade(student, course, grade)`: Assigns a grade to a student for a course if the student is enrolled; otherwise, displays an error.\n",
    "  - `calculate_gpa(student_name)`: Calculates and displays the GPA for a student by averaging their grades. Handles cases where no grades are available.\n",
    "  - `show_all_students_with_grades()`: Lists all students, their enrolled courses, and grades or notes if a course is ungraded.\n",
    "\n",
    "- **Edge Cases**:\n",
    "  - **Unenrolled Students**: Ensures a grade is only assigned if the student is enrolled in the course.\n",
    "  - **No Grades**: Handles cases where no grades are available by displaying an appropriate message in GPA calculation.\n",
    "  - **Ungraded Courses**: Displays “Not graded” for courses without assigned grades when listing students and their grades.\n",
    "\n",
    "### Usage\n",
    "1. **Assign Grades**: `registration.assign_grade(student, course, grade)`\n",
    "2. **Calculate GPA**: `registration.calculate_gpa(student_name)`\n",
    "3. **Display Students with Grades**: `registration.show_all_students_with_grades()`\n",
    "\n",
    "This class expands the registration system to manage grades and GPA, with essential edge case handling for accurate tracking."
   ]
  },
  {
   "cell_type": "code",
   "execution_count": 19,
   "id": "3d5dff25",
   "metadata": {},
   "outputs": [
    {
     "name": "stdout",
     "output_type": "stream",
     "text": [
      "The course registration activity for Harshita (ID: Studentno1; Address: Sant Cugat 123) is as follows:\n",
      "The course registration activity for Bob (ID: Studentno2; Address: Sant Cugat 789) is as follows:\n",
      "\n",
      "\n",
      "The course that student(s) can register for is Python for Data Science and it is about Python Fundamentals.\n",
      "The course that student(s) can register for is Cloud Computing and it is about AWS Fundamentals.\n",
      "\n",
      "\n",
      "Harshita has been enrolled in Python for Data Science.\n",
      "Harshita has been enrolled in Cloud Computing.\n",
      "Bob has been enrolled in Python for Data Science.\n",
      "Bob has been enrolled in Cloud Computing.\n",
      "\n",
      "\n",
      "Assigned grade 3.8 for Harshita in Python for Data Science.\n",
      "Assigned grade 4.0 for Harshita in Cloud Computing.\n",
      "Assigned grade 3.5 for Bob in Python for Data Science.\n",
      "Assigned grade 2.4 for Bob in Cloud Computing.\n",
      "\n",
      "\n",
      "Students and their courses with grades:\n",
      "Harshita:\n",
      "  Python for Data Science: Grade 3.8\n",
      "  Cloud Computing: Grade 4.0\n",
      "Bob:\n",
      "  Python for Data Science: Grade 3.5\n",
      "  Cloud Computing: Grade 2.4\n",
      "\n",
      "\n",
      "GPA for Harshita: 3.90\n",
      "\n",
      "\n",
      "GPA for Bob: 2.95\n"
     ]
    }
   ],
   "source": [
    "# Exercise4 Output Check \n",
    "\n",
    "# Create student and course instances\n",
    "student1 = Student(\"Harshita\", \"Studentno1\", \"Sant Cugat 123\")\n",
    "student2 = Student(\"Bob\", \"Studentno2\", \"Sant Cugat 789\")\n",
    "print(\"\\n\")\n",
    "\n",
    "course1 = Course(\"Python for Data Science\", \"Python Fundamentals\")\n",
    "course2 = Course(\"Cloud Computing\", \"AWS Fundamentals\")\n",
    "print(\"\\n\")\n",
    "\n",
    "# Create a registration system\n",
    "registration_system = RegistrationWithGrades()\n",
    "\n",
    "# Enroll students in courses using the Registration class\n",
    "registration_system.enroll_course(student1, course1)  \n",
    "registration_system.enroll_course(student1, course2)  \n",
    "registration_system.enroll_course(student2, course1)  \n",
    "registration_system.enroll_course(student2, course2)  \n",
    "print(\"\\n\")\n",
    "\n",
    "# Assign grades to students\n",
    "registration_system.assign_grade(student1, course1, 3.8)  \n",
    "registration_system.assign_grade(student1, course2, 4.0)  \n",
    "registration_system.assign_grade(student2, course1, 3.5)  \n",
    "registration_system.assign_grade(student2, course2, 2.4)  \n",
    "print(\"\\n\")\n",
    "\n",
    "# Show all students with their courses and grades\n",
    "registration_system.show_all_students_with_grades()\n",
    "print(\"\\n\")\n",
    "\n",
    "# Calculate GPA for Harshita\n",
    "registration_system.calculate_gpa(\"Harshita\")\n",
    "print(\"\\n\")\n",
    "\n",
    "# Calculate GPA for Bob\n",
    "registration_system.calculate_gpa(\"Bob\")"
   ]
  },
  {
   "cell_type": "markdown",
   "id": "76c565a9-dc30-464c-980d-d522cd5246f4",
   "metadata": {
    "editable": true,
    "id": "76c565a9-dc30-464c-980d-d522cd5246f4",
    "tags": []
   },
   "source": [
    "## That's all!"
   ]
  }
 ],
 "metadata": {
  "colab": {
   "provenance": []
  },
  "kernelspec": {
   "display_name": "base",
   "language": "python",
   "name": "python3"
  },
  "language_info": {
   "codemirror_mode": {
    "name": "ipython",
    "version": 3
   },
   "file_extension": ".py",
   "mimetype": "text/x-python",
   "name": "python",
   "nbconvert_exporter": "python",
   "pygments_lexer": "ipython3",
   "version": "3.12.4"
  }
 },
 "nbformat": 4,
 "nbformat_minor": 5
}
