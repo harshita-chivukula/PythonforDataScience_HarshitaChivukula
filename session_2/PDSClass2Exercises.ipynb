{
 "cells": [
  {
   "cell_type": "code",
   "execution_count": 2,
   "metadata": {},
   "outputs": [
    {
     "name": "stdout",
     "output_type": "stream",
     "text": [
      "Numbers from 1 - 20 that are divisible by 3 and/or 5:\n",
      "1\n",
      "2\n",
      "Fizz\n",
      "4\n",
      "Buzz\n",
      "Fizz\n",
      "7\n",
      "8\n",
      "Fizz\n",
      "Buzz\n",
      "11\n",
      "Fizz\n",
      "13\n",
      "14\n",
      "FizzBuzz\n",
      "16\n",
      "17\n",
      "Fizz\n",
      "19\n",
      "Buzz\n"
     ]
    }
   ],
   "source": [
    "#Exercise1\n",
    "def fizzbuzz(n): #function that takes an integer n as a parameter\n",
    "    for n in range (1, n+1): #Loop thorugh all numbers from 1 to n\n",
    "        if n % 3 == 0 and n % 5 == 0: # Check if number is divisible by 3 and 5\n",
    "            print(\"FizzBuzz\") # Print relevant output\n",
    "        elif n % 3 == 0: # Check if number is divisible by 3\n",
    "            print(\"Fizz\") # Print relevant output\n",
    "        elif n % 5 == 0: # Check if number is divisible by 5\n",
    "            print(\"Buzz\") # Print relevant output\n",
    "        else:\n",
    "            print(n) # Print the number itself if not divisible by either 3 or 5 \n",
    "print(f\"Numbers from 1 - 20 that are divisible by 3 and/or 5:\")\n",
    "fizzbuzz(20) # call the function for number 1 - 20"
   ]
  },
  {
   "cell_type": "code",
   "execution_count": 4,
   "metadata": {},
   "outputs": [
    {
     "name": "stdout",
     "output_type": "stream",
     "text": [
      "Original data: [457, 'apple', 1, 5.89, 'kiwi', 2.14, 'god', 5]\n",
      "Intergers filtered: [457, 1, 5]\n"
     ]
    }
   ],
   "source": [
    "#Exercise2\n",
    "mixed_data = [457, 'apple', 1, 5.89, 'kiwi', 2.14, 'god', 5] #List of mixed data types\n",
    "print(f\"Original data:\", mixed_data)\n",
    "filtered_integers = [x for x in mixed_data if type(x) == int] # Filter the list for ONLY integers\n",
    "print(f\"Intergers filtered:\", filtered_integers) # Output filtered list of integers"
   ]
  },
  {
   "cell_type": "code",
   "execution_count": 5,
   "metadata": {},
   "outputs": [
    {
     "name": "stdout",
     "output_type": "stream",
     "text": [
      "Tasks in my to do list:\n",
      "['Buy groceries', 'Finish assignments']\n"
     ]
    }
   ],
   "source": [
    "#Exercise3\n",
    "todo_list = [] #Empty list \n",
    "def add_task(task): # function that adds a task to the list\n",
    "    todo_list.append(task)\n",
    "def show_tasks(): # function that prints all tasks in the list \n",
    "    print(todo_list)\n",
    "# Check functionality/output\n",
    "print(f\"Tasks in my to do list:\")\n",
    "add_task(\"Buy groceries\") \n",
    "add_task(\"Finish assignments\")\n",
    "show_tasks()"
   ]
  },
  {
   "cell_type": "code",
   "execution_count": 7,
   "metadata": {},
   "outputs": [
    {
     "name": "stdout",
     "output_type": "stream",
     "text": [
      "The following values are celsius to farenheit conversions:\n",
      "22°C is 71.6°F\n",
      "46°C is 114.8°F\n",
      "51°C is 123.8°F\n",
      "76°C is 168.8°F\n"
     ]
    }
   ],
   "source": [
    "#Exercise4\n",
    "def celsius_to_fahrenheit(celsius): # Define the conversion function\n",
    "    fahrenheit = (9 / 5) * celsius + 32 # Formulat to convert celsius to farenheit\n",
    "    print(f\"{celsius}°C is {fahrenheit}°F\")\n",
    "\n",
    "print(f\"The following values are celsius to farenheit conversions:\")\n",
    "# Check functionality/ output by calling the function with given Celsius values\n",
    "celsius_to_fahrenheit(22)\n",
    "celsius_to_fahrenheit(46)\n",
    "celsius_to_fahrenheit(51)\n",
    "celsius_to_fahrenheit(76)\n",
    "\n"
   ]
  }
 ],
 "metadata": {
  "kernelspec": {
   "display_name": "PDS_harshita",
   "language": "python",
   "name": "python3"
  },
  "language_info": {
   "codemirror_mode": {
    "name": "ipython",
    "version": 3
   },
   "file_extension": ".py",
   "mimetype": "text/x-python",
   "name": "python",
   "nbconvert_exporter": "python",
   "pygments_lexer": "ipython3",
   "version": "3.12.7"
  }
 },
 "nbformat": 4,
 "nbformat_minor": 2
}
