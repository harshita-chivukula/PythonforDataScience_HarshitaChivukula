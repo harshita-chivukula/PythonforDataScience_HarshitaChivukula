{
 "cells": [
  {
   "cell_type": "code",
   "execution_count": 30,
   "id": "b7500880-712a-4d2e-9930-18b37e2a9b0b",
   "metadata": {},
   "outputs": [
    {
     "name": "stdout",
     "output_type": "stream",
     "text": [
      "Hello, Python!\n"
     ]
    }
   ],
   "source": [
    "#Exercise1\n",
    "print(f\"Hello, Python!\") # Python program that prints a greeting message"
   ]
  },
  {
   "cell_type": "code",
   "execution_count": 4,
   "id": "7f4c61ad-574f-4f35-a10b-6c30804d0c07",
   "metadata": {},
   "outputs": [
    {
     "name": "stdout",
     "output_type": "stream",
     "text": [
      "Sum: 34 + 36 = 70\n",
      "Difference: 34 i 36 = -2\n",
      "Product: 34 * 36 = 1224\n",
      "Quotient: 34 / 36 = 0.9444444444444444\n"
     ]
    }
   ],
   "source": [
    "#Exercise2\n",
    "#Define variable a and b with numerical values\n",
    "a = 34\n",
    "b = 36\n",
    "# Prints their sum, difference, product, and quotient.\n",
    "sum = a + b\n",
    "diff = a - b\n",
    "product = a * b\n",
    "quotient = a / b\n",
    "print(\"Sum:\", a, \"+\", b, \"=\", sum)\n",
    "print(\"Difference:\", a, \"i\", b, \"=\", diff)\n",
    "print(\"Product:\", a, \"*\", b, \"=\", product)\n",
    "print(\"Quotient:\", a, \"/\", b, \"=\", quotient)"
   ]
  },
  {
   "cell_type": "code",
   "execution_count": 46,
   "id": "d782d2e1-2627-4ae9-97bc-57da92c36ebd",
   "metadata": {},
   "outputs": [
    {
     "name": "stdout",
     "output_type": "stream",
     "text": [
      "Hello, Harshita!\n"
     ]
    }
   ],
   "source": [
    "#Exercise3\n",
    "name = 'Harshita' # Define a variable name and assign it your name\n",
    "print(f\"Hello, {name}!\") # prints a message with value of the variable"
   ]
  },
  {
   "cell_type": "code",
   "execution_count": 7,
   "id": "299a4fda-1d0c-4724-b34d-a281d35f331e",
   "metadata": {},
   "outputs": [
    {
     "name": "stdout",
     "output_type": "stream",
     "text": [
      "University list: ['Waseda', 'Keio', 'Sophia', 'TokyoU', 'TokyoTech']\n",
      "First university in list: Waseda\n",
      "Last university in list: TokyoTech\n"
     ]
    }
   ],
   "source": [
    "#Exercise4\n",
    "universities = [\"Waseda\", \"Keio\", \"Sophia\", \"TokyoU\", \"TokyoTech\"] # list with 5 different university names\n",
    "print(f\"University list:\", universities) # print entire list\n",
    "# Print the first and last university in the list.\n",
    "print(\"First university in list:\", universities[0])\n",
    "print(\"Last university in list:\", universities[4])"
   ]
  },
  {
   "cell_type": "code",
   "execution_count": 8,
   "id": "714e5a16-0c0a-406b-9cca-8be0f9a8c996",
   "metadata": {},
   "outputs": [
    {
     "name": "stdout",
     "output_type": "stream",
     "text": [
      "name: Harshita Chivukula\n",
      "age: 22\n",
      "grade: A\n"
     ]
    }
   ],
   "source": [
    "#Exercise5\n",
    "student = { # dictionary with keys and their values. \n",
    "    \"name\": \"Harshita Chivukula\",\n",
    "    \"age\": 22,\n",
    "    \"grade\": \"A\"\n",
    "}\n",
    "# prints each key-value pair in the dictionary\n",
    "for key, value in student.items():\n",
    "    print(f\"{key}: {value}\")"
   ]
  },
  {
   "cell_type": "code",
   "execution_count": 41,
   "id": "dfc7399a-f31d-43cc-a249-0d7982b415bf",
   "metadata": {},
   "outputs": [
    {
     "name": "stdout",
     "output_type": "stream",
     "text": [
      "Coordinates: (3, 5)\n",
      "X coordinate: 3\n",
      "Y coordinate: 5\n"
     ]
    }
   ],
   "source": [
    "#Exercise6\n",
    "#Define a tuple with two values representing a point in 2D space (e.g., (x, y)).\n",
    "coordinates = (3, 5)\n",
    "# Print the value of coordinates and access each element by its index.\n",
    "print(\"Coordinates:\", coordinates)\n",
    "x = coordinates[0] # x index\n",
    "y = coordinates[1] # y index\n",
    "print(\"X coordinate:\", x)\n",
    "print(\"Y coordinate:\", y)"
   ]
  },
  {
   "cell_type": "code",
   "execution_count": 10,
   "id": "23eb719b-4fa2-4034-a170-4ac39e9673ad",
   "metadata": {},
   "outputs": [
    {
     "name": "stdout",
     "output_type": "stream",
     "text": [
      "Colors set {'green', 'blue', 'red'}\n",
      "Updated set (added color): {'green', 'blue', 'red', 'yellow'}\n",
      "Updated set (duplicated color): {'green', 'blue', 'red', 'yellow'}\n",
      "Updated set (discarded color): {'blue', 'red', 'yellow'}\n",
      "Light colors set: {'pastel pink', 'pastel yellow', 'pastel blue'}\n",
      "Merged sets: {'pastel pink', 'pastel blue', 'blue', 'red', 'pastel yellow', 'yellow'}\n"
     ]
    }
   ],
   "source": [
    "#Exercises7\n",
    "colors = {'red', 'green', 'blue'} # set with the values\n",
    "print(f\"Colors set\", colors)\n",
    "colors.add('yellow') # add to the set \n",
    "print(f\"Updated set (added color):\", colors)\n",
    "colors.add('red') #adding duplicate color\n",
    "print(f\"Updated set (duplicated color):\", colors) #not duplicated, just maintained. # print set \n",
    "colors.discard('green') # remove a color \n",
    "print(f\"Updated set (discarded color):\", colors) # print set \n",
    "light_colors = {'pastel pink', 'pastel blue', 'pastel yellow'} # another set created\n",
    "print(f\"Light colors set:\", light_colors)\n",
    "merge = colors.union(light_colors) # merge sets\n",
    "print(f\"Merged sets:\", merge) # print output of merge"
   ]
  },
  {
   "cell_type": "code",
   "execution_count": 19,
   "id": "c4a33893-4f31-4877-9aad-787cb8a0760c",
   "metadata": {},
   "outputs": [
    {
     "name": "stdout",
     "output_type": "stream",
     "text": [
      "positive\n"
     ]
    }
   ],
   "source": [
    "#Exercise8\n",
    "number = float(input(\"Number: \"))  # Takes an input number from the user\n",
    "# Check if the number is positive, negative, or zero.\n",
    "if number == 0 : # zero\n",
    "    print(\"zero\")\n",
    "elif number > 0: #positive number is greater than 0\n",
    "    print(\"positive\")\n",
    "else : # not 0 or positive\n",
    "    print(\"negative\")"
   ]
  },
  {
   "cell_type": "code",
   "execution_count": 21,
   "id": "226aa7e2-57c2-488d-9b82-a184989dff16",
   "metadata": {},
   "outputs": [
    {
     "name": "stdout",
     "output_type": "stream",
     "text": [
      "print numbers from 1 to 5:\n",
      "1\n",
      "2\n",
      "3\n",
      "4\n",
      "5\n"
     ]
    }
   ],
   "source": [
    "#Exercise9\n",
    "numbers = [1, 2, 3, 4, 5] # List of numbers from 1 - 5 \n",
    "print(f\"print numbers from 1 to 5:\")\n",
    "for number in numbers: # for loop to iterate through the list and print each number\n",
    "    print(number)"
   ]
  },
  {
   "cell_type": "code",
   "execution_count": 22,
   "id": "94e1232a-3a61-4adb-9e6a-08dbe88afcd3",
   "metadata": {},
   "outputs": [
    {
     "name": "stdout",
     "output_type": "stream",
     "text": [
      "print numbers from 1 to 5:\n",
      "1\n",
      "2\n",
      "3\n",
      "4\n",
      "5\n",
      "loop finished\n"
     ]
    }
   ],
   "source": [
    "#Exercise10\n",
    "counter = 1 #starting value\n",
    "print(f\"print numbers from 1 to 5:\")\n",
    "while counter <= 5: # while loop to print numbers from 1 to 5.\n",
    "    print(counter)\n",
    "    counter += 1 # starting value \n",
    "else:\n",
    "    print(\"loop finished\") # terminate loop correctly"
   ]
  },
  {
   "cell_type": "code",
   "execution_count": 23,
   "id": "1c536311-7d92-4995-8dc8-44be84b4759f",
   "metadata": {},
   "outputs": [
    {
     "name": "stdout",
     "output_type": "stream",
     "text": [
      "Excellent!\n"
     ]
    }
   ],
   "source": [
    "#Exercise11\n",
    "grade = input(\"Input Grade:\") #ask user to input grade \n",
    "match grade: # match statement to print a corresponding message for each grade\n",
    "    case \"A\":\n",
    "        print(\"Excellent!\")\n",
    "    case \"B\":\n",
    "        print(\"Good job!\")\n",
    "    case \"C\":\n",
    "        print(\"Fair.\")\n",
    "    case \"D\":\n",
    "        print(\"Needs improvement.\")\n",
    "    case \"F\":\n",
    "        print(\"Failing.\")\n",
    "    case _:\n",
    "        print(\"Unknown grade.\") # default message for invalid message"
   ]
  },
  {
   "cell_type": "code",
   "execution_count": 24,
   "id": "39cecb23-8a51-48b9-9038-39d7c711489e",
   "metadata": {},
   "outputs": [
    {
     "name": "stdout",
     "output_type": "stream",
     "text": [
      "Hello, Harshita!\n"
     ]
    }
   ],
   "source": [
    "#Exercise12\n",
    "def greet(name): #function that takes a name as an argument \n",
    "    print(f\"Hello, {name}!\") # print the greeting with  argument \n",
    "greet(\"Harshita\") # call function with my name "
   ]
  },
  {
   "cell_type": "code",
   "execution_count": 25,
   "id": "1b190c88-4428-4486-996a-526b99ff5516",
   "metadata": {},
   "outputs": [
    {
     "name": "stdout",
     "output_type": "stream",
     "text": [
      "Square of 2: 4\n",
      "Square of 3: 9\n",
      "Square of 4: 16\n"
     ]
    }
   ],
   "source": [
    "#Exercise13\n",
    "def square(number): # function that takes a number as an argument \n",
    "    return number * number # return square of number\n",
    "# Print the result of calling this function with different numbers.\n",
    "print(\"Square of 2:\", square(2))\n",
    "print(\"Square of 3:\", square(3))\n",
    "print(\"Square of 4:\", square(4))"
   ]
  },
  {
   "cell_type": "code",
   "execution_count": 26,
   "id": "7b963ea4-1fdb-4cb1-9e37-e291578d2f00",
   "metadata": {},
   "outputs": [
    {
     "name": "stdout",
     "output_type": "stream",
     "text": [
      "a = 2, b = default, result: 2\n",
      "a = 2, b = 4, result: 12\n",
      "a = 5, b = default, result: 5\n"
     ]
    }
   ],
   "source": [
    "#Exercise14\n",
    "def multiply(a, b = 1): # function that takes two parameters, a and b. Set a default value of 1 for the parameter b.\n",
    "    return a * b # return product of parameters \n",
    "# Test the function \n",
    "print(\"a = 2, b = default, result:\", multiply(2)) # without second argument\n",
    "print(\"a = 2, b = 4, result:\", multiply(3, 4)) # with second argument\n",
    "print(\"a = 5, b = default, result:\", multiply(5)) # without second argument "
   ]
  },
  {
   "cell_type": "code",
   "execution_count": 27,
   "id": "27246106-7ba2-4ae6-b3c5-c8ed81eda983",
   "metadata": {},
   "outputs": [
    {
     "name": "stdout",
     "output_type": "stream",
     "text": [
      "Numbers list: [1, 2, 3, 4, 5, 6, 7, 8, 9, 10]\n",
      "Squares of numbers list: [1, 4, 9, 16, 25, 36, 49, 64, 81, 100]\n"
     ]
    }
   ],
   "source": [
    "#Exercise15\n",
    "numbers = list(range(1, 11)) # list of numbers from 1 -10 \n",
    "print(\"Numbers list:\", numbers) # print list of numbers \n",
    "squares = [number ** 2 for number in numbers] # new list that contains the squares of these numbers.\n",
    "print(\"Squares of numbers list:\", squares) # print new list "
   ]
  },
  {
   "cell_type": "code",
   "execution_count": 28,
   "id": "51af4365-8e8f-4fa9-b121-1114488113f9",
   "metadata": {},
   "outputs": [
    {
     "name": "stdout",
     "output_type": "stream",
     "text": [
      "Student A's average grade: 82.33333333333333\n",
      "Student B's average grade: 86.0\n",
      "Student C's average grade: 91.0\n",
      "Student D's average grade: 73.33333333333333\n"
     ]
    }
   ],
   "source": [
    "#Exercise16\n",
    "students_grades = { # dictionary where the keys are names of students and the values are lists of their grades. Nested data structures \n",
    "    \"Student A\": [85, 90, 72],\n",
    "    \"Student B\": [81, 92, 85],\n",
    "    \"Student C\": [99, 81, 93],\n",
    "    \"Student D\": [55, 75, 90]\n",
    "}\n",
    "\n",
    "def average_grades(students_grades): # function that takes the dictionary and prints the average grade for each student.\n",
    "    for student, grades in students_grades.items(): # loop thorugh the grades for each student\n",
    "        total = 0 # initialize total \n",
    "        for grade in grades:  # calculate average grade by adding each element \n",
    "            total += grade  \n",
    "        average_grade = total / len(grades) \n",
    "        print(f\"{student}'s average grade: {average_grade}\") \n",
    "\n",
    "average_grades(students_grades) # call the function "
   ]
  },
  {
   "cell_type": "code",
   "execution_count": 29,
   "id": "b5fb1153-3e81-46bb-aa70-ee213038ffca",
   "metadata": {},
   "outputs": [
    {
     "name": "stdout",
     "output_type": "stream",
     "text": [
      "Result: 2.0 + 3.0 = 5.0\n"
     ]
    }
   ],
   "source": [
    "#Exercise17\n",
    "def calculate(num1, num2, operator): # function that takes 2 numbers and a paramentes \n",
    "    # Define with to do with each parameter\n",
    "    if operator == '+':\n",
    "        return num1 + num2\n",
    "    elif operator == '-':\n",
    "        return num1 - num2\n",
    "    elif operator == '*':\n",
    "        return num1 * num2\n",
    "    elif operator == '/':\n",
    "        if num2 != 0:\n",
    "            return num1 / num2\n",
    "        else:\n",
    "            return \"Error: Division by zero\"\n",
    "    else:\n",
    "        return \"Invalid operator\"\n",
    "# Ask the user for the two numbers and the operator\n",
    "num1 = float(input(\"Number 1: \"))\n",
    "num2 = float(input(\"Number 2: \"))\n",
    "operator = input(\"Enter an operator (+, -, *, /): \")\n",
    "# call the function calcualte\n",
    "result = calculate(num1, num2, operator)\n",
    "# print the result \n",
    "print(f\"Result: {num1} {operator} {num2} = {result}\")\n"
   ]
  },
  {
   "cell_type": "code",
   "execution_count": null,
   "id": "79ee4321-6e5b-47bf-802a-96bb6eda15d4",
   "metadata": {},
   "outputs": [],
   "source": []
  }
 ],
 "metadata": {
  "kernelspec": {
   "display_name": "PDS_harshita",
   "language": "python",
   "name": "python3"
  },
  "language_info": {
   "codemirror_mode": {
    "name": "ipython",
    "version": 3
   },
   "file_extension": ".py",
   "mimetype": "text/x-python",
   "name": "python",
   "nbconvert_exporter": "python",
   "pygments_lexer": "ipython3",
   "version": "3.12.7"
  }
 },
 "nbformat": 4,
 "nbformat_minor": 5
}
