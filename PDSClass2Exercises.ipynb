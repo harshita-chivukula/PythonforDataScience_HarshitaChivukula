{
 "cells": [
  {
   "cell_type": "code",
   "execution_count": 7,
   "metadata": {},
   "outputs": [
    {
     "name": "stdout",
     "output_type": "stream",
     "text": [
      "1\n",
      "2\n",
      "Fizz\n",
      "4\n",
      "Buzz\n",
      "Fizz\n",
      "7\n",
      "8\n",
      "Fizz\n",
      "Buzz\n",
      "11\n",
      "Fizz\n",
      "13\n",
      "14\n",
      "FizzBuzz\n",
      "16\n",
      "17\n",
      "Fizz\n",
      "19\n",
      "Buzz\n"
     ]
    }
   ],
   "source": [
    "#Exercise1\n",
    "def fizzbuzz(n):\n",
    "    for n in range (1, n+1):\n",
    "        if n % 3 == 0 and n % 5 == 0:\n",
    "            print(\"FizzBuzz\")\n",
    "        elif n % 3 == 0:\n",
    "            print(\"Fizz\")\n",
    "        elif n % 5 == 0:\n",
    "            print(\"Buzz\")\n",
    "        else:\n",
    "            print(n)\n",
    "fizzbuzz(20)"
   ]
  },
  {
   "cell_type": "code",
   "execution_count": 9,
   "metadata": {},
   "outputs": [
    {
     "name": "stdout",
     "output_type": "stream",
     "text": [
      "[457, 1, 5]\n"
     ]
    }
   ],
   "source": [
    "#Exercise2\n",
    "mixed_data = [457, 'apple', 1, 5.89, 'kiwi', 2.14, 'god', 5]\n",
    "filtered_integers = [x for x in mixed_data if type(x) == int]\n",
    "print(filtered_integers)"
   ]
  },
  {
   "cell_type": "code",
   "execution_count": 14,
   "metadata": {},
   "outputs": [
    {
     "name": "stdout",
     "output_type": "stream",
     "text": [
      "['Buy groceries', 'Finish assignments']\n"
     ]
    }
   ],
   "source": [
    "#Exercise3\n",
    "todo_list = []\n",
    "def add_task(task):\n",
    "    todo_list.append(task)\n",
    "def show_tasks():\n",
    "    print(todo_list)\n",
    "add_task(\"Buy groceries\")\n",
    "add_task(\"Finish assignments\")\n",
    "show_tasks()"
   ]
  },
  {
   "cell_type": "code",
   "execution_count": 20,
   "metadata": {},
   "outputs": [
    {
     "name": "stdout",
     "output_type": "stream",
     "text": [
      "22°C is 71.6°F\n",
      "46°C is 114.8°F\n",
      "51°C is 123.8°F\n",
      "76°C is 168.8°F\n"
     ]
    }
   ],
   "source": [
    "#Exercise4\n",
    "# Define the conversion function\n",
    "def celsius_to_fahrenheit(celsius):\n",
    "    fahrenheit = (9 / 5) * celsius + 32\n",
    "    print(f\"{celsius}°C is {fahrenheit}°F\")\n",
    "\n",
    "# Call the function with given Celsius values\n",
    "celsius_to_fahrenheit(22)\n",
    "celsius_to_fahrenheit(46)\n",
    "celsius_to_fahrenheit(51)\n",
    "celsius_to_fahrenheit(76)\n",
    "\n"
   ]
  }
 ],
 "metadata": {
  "kernelspec": {
   "display_name": "base",
   "language": "python",
   "name": "python3"
  },
  "language_info": {
   "codemirror_mode": {
    "name": "ipython",
    "version": 3
   },
   "file_extension": ".py",
   "mimetype": "text/x-python",
   "name": "python",
   "nbconvert_exporter": "python",
   "pygments_lexer": "ipython3",
   "version": "3.12.4"
  }
 },
 "nbformat": 4,
 "nbformat_minor": 2
}
